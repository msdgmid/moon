{
 "cells": [
  {
   "cell_type": "markdown",
   "id": "cb105238-e5cb-449c-935b-c535908c2ff3",
   "metadata": {},
   "source": [
    "## 1. 이동평균선 보는법\n",
    " \n",
    "\n",
    "### ◆ 이동평균선(MA) 이란?                                    \n",
    "이동평균선 자체는 통계 분석 등에서 널리 사용되고 있었지만, 미국의 J. E. 그랜빌에 의해 그랜빌의 법칙으로 정리되어 상장 주식 분석에 이용할 수 있다는 것이 알려지게 되었다. 이동평균선은 과거의 일정 기간의 주가의 평균치로부터 구한다. 5일 이동평균선은 과거 5일 동안의 주식 종가의 평균치를 매일 점으로 표시하고 이를 계속 이어서 선으로 표시한 것이다. 기술적 분석의 지표로는 가장 기본적인 것이며, 많은 투자가들이 이용하고 있다."
   ]
  },
  {
   "cell_type": "code",
   "execution_count": 1,
   "id": "a0f81dda-7fda-48eb-8b2f-97b780892544",
   "metadata": {
    "tags": []
   },
   "outputs": [
    {
     "data": {
      "text/html": [
       "<div>\n",
       "<style scoped>\n",
       "    .dataframe tbody tr th:only-of-type {\n",
       "        vertical-align: middle;\n",
       "    }\n",
       "\n",
       "    .dataframe tbody tr th {\n",
       "        vertical-align: top;\n",
       "    }\n",
       "\n",
       "    .dataframe thead th {\n",
       "        text-align: right;\n",
       "    }\n",
       "</style>\n",
       "<table border=\"1\" class=\"dataframe\">\n",
       "  <thead>\n",
       "    <tr style=\"text-align: right;\">\n",
       "      <th></th>\n",
       "      <th>price</th>\n",
       "      <th>weight</th>\n",
       "    </tr>\n",
       "  </thead>\n",
       "  <tbody>\n",
       "    <tr>\n",
       "      <th>idx_a</th>\n",
       "      <td>100</td>\n",
       "      <td>20.3</td>\n",
       "    </tr>\n",
       "    <tr>\n",
       "      <th>idx_b</th>\n",
       "      <td>200</td>\n",
       "      <td>15.1</td>\n",
       "    </tr>\n",
       "    <tr>\n",
       "      <th>idx_c</th>\n",
       "      <td>300</td>\n",
       "      <td>25.9</td>\n",
       "    </tr>\n",
       "  </tbody>\n",
       "</table>\n",
       "</div>"
      ],
      "text/plain": [
       "       price  weight\n",
       "idx_a    100    20.3\n",
       "idx_b    200    15.1\n",
       "idx_c    300    25.9"
      ]
     },
     "execution_count": 1,
     "metadata": {},
     "output_type": "execute_result"
    }
   ],
   "source": [
    "\n",
    "\n",
    "import pandas as pd\n",
    "\n",
    "\n",
    "\n",
    "df = pd.DataFrame(\n",
    "    {'price': [100, 200, 300],\n",
    "     'weight': [20.3, 15.1, 25.9]},\n",
    "    index=['idx_a', 'idx_b', 'idx_c'])\n",
    "\n",
    "df"
   ]
  },
  {
   "cell_type": "code",
   "execution_count": 3,
   "id": "2676cc8a-37ac-4f7e-bf7c-18c7e794d259",
   "metadata": {
    "tags": []
   },
   "outputs": [
    {
     "name": "stdout",
     "output_type": "stream",
     "text": [
      "** index name: idx_a\n",
      "price     100.0\n",
      "weight     20.3\n",
      "Name: idx_a, dtype: float64\n",
      "100.0\n",
      "------------------------------\n",
      "** index name: idx_b\n",
      "price     200.0\n",
      "weight     15.1\n",
      "Name: idx_b, dtype: float64\n",
      "200.0\n",
      "------------------------------\n",
      "** index name: idx_c\n",
      "price     300.0\n",
      "weight     25.9\n",
      "Name: idx_c, dtype: float64\n",
      "300.0\n",
      "------------------------------\n"
     ]
    }
   ],
   "source": [
    "## DataFrame.iterrows()\n",
    "for idx, row in df.iterrows():\n",
    "    print(\"** index name:\", idx)\n",
    "    print(row)\n",
    "    print(row['price']) # or print(row[0])\n",
    "    print(\"------\"*5)"
   ]
  },
  {
   "cell_type": "code",
   "execution_count": 5,
   "id": "613ddc4b-9e46-42cf-b908-2903dda3a4c1",
   "metadata": {
    "tags": []
   },
   "outputs": [
    {
     "name": "stdout",
     "output_type": "stream",
     "text": [
      "** column name: price\n",
      "idx_a    100\n",
      "idx_b    200\n",
      "idx_c    300\n",
      "Name: price, dtype: int64\n",
      "100\n",
      "-------------------------\n",
      "** column name: weight\n",
      "idx_a    20.3\n",
      "idx_b    15.1\n",
      "idx_c    25.9\n",
      "Name: weight, dtype: float64\n",
      "20.3\n",
      "-------------------------\n"
     ]
    }
   ],
   "source": [
    "for col, item in df.iteritems():\n",
    "    print(\"** column name:\", col)\n",
    "    print(item) # = print(item, sep='\\n')\n",
    "    print(item[0]) # = print(item['idx_a'])\n",
    "    print(\"-----\"*5)"
   ]
  },
  {
   "cell_type": "code",
   "execution_count": 20,
   "id": "92020915-c15e-4804-b195-a5656b682a48",
   "metadata": {
    "tags": []
   },
   "outputs": [
    {
     "name": "stdout",
     "output_type": "stream",
     "text": [
      "Pandas(Index='idx_a', price=100, weight=20.3)\n",
      "idx_a\n",
      "100\n",
      "Pandas(Index='idx_b', price=200, weight=15.1)\n",
      "idx_b\n",
      "200\n",
      "Pandas(Index='idx_c', price=300, weight=25.9)\n",
      "idx_c\n",
      "300\n"
     ]
    }
   ],
   "source": [
    "for row in df.itertuples():\n",
    "    print(row)\n",
    "    print(row.Index)\n",
    "    print(row.price)\n",
    "\n",
    "\n"
   ]
  },
  {
   "cell_type": "code",
   "execution_count": null,
   "id": "cb588ece-e127-4d80-8c6b-4f2e33871144",
   "metadata": {},
   "outputs": [],
   "source": []
  }
 ],
 "metadata": {
  "kernelspec": {
   "display_name": "test01",
   "language": "python",
   "name": "test01"
  },
  "language_info": {
   "codemirror_mode": {
    "name": "ipython",
    "version": 3
   },
   "file_extension": ".py",
   "mimetype": "text/x-python",
   "name": "python",
   "nbconvert_exporter": "python",
   "pygments_lexer": "ipython3",
   "version": "3.7.16"
  }
 },
 "nbformat": 4,
 "nbformat_minor": 5
}
