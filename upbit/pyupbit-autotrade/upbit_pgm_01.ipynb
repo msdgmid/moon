{
 "cells": [
  {
   "cell_type": "markdown",
   "id": "29f6116a-2121-4e14-967b-8dcfaf3ea800",
   "metadata": {},
   "source": [
    "## Python Upbit : get_ohlcv (코인 가격 history 조회하기, 과거 코인 가격 내역 조회)"
   ]
  },
  {
   "cell_type": "raw",
   "id": "e4af4bf7-e50c-43f7-a929-83577a3913d0",
   "metadata": {},
   "source": [
    "# Syntax\n",
    "pyupbit.get_ohlcv(ticker='KRW-BTC',\n",
    "                  interval='day',\n",
    "                  count=10,\n",
    "                  to='YYYYMMDD HH:MM:SS'\n",
    "                  period=0.1)\n",
    "ticker = 가격 내역을 조회할 코인의 ticker\n",
    "\n",
    "interval = 가격 조회 간격을 의미합니다. interval에 지정 가능한 값은 다음과 같습니다.\n",
    "\n",
    "day = 일봉\n",
    "\n",
    "minute1 = 1분봉\n",
    "minute3 = 3분봉\n",
    "minute5 = 5분봉\n",
    "minute10 = 10분봉\n",
    "minute15 = 15분봉\n",
    "minute30 = 30분봉\n",
    "minute60 = 60분봉\n",
    "minute240 = 240분봉\n",
    "week = 주봉\n",
    "month = 월봉\n",
    "\n",
    "count = 최근 몇일지의 데이터를 조회할지를 의미합니다. (default값은 200입니다.)\n",
    "\n",
    "to = 출력할 max date time을 지정합니다.\n",
    "\n",
    "period = 데이터 요청 주기 (초) (default 값은 0.1 입니다.)"
   ]
  },
  {
   "cell_type": "markdown",
   "id": "925e0900-03a6-4eb2-a962-6444515b47e1",
   "metadata": {},
   "source": [
    "## UPBIT 관심 코인 찾기"
   ]
  },
  {
   "cell_type": "code",
   "execution_count": 1,
   "id": "3d986594-6b72-478a-b131-252097ea6474",
   "metadata": {
    "tags": []
   },
   "outputs": [],
   "source": [
    "import pyupbit\n",
    "\n",
    "import pandas as pd\n",
    "import numpy as np\n",
    "import matplotlib.pyplot as plt\n",
    "import matplotlib.ticker as ticker\n",
    "from mplfinance.original_flavor import candlestick2_ohlc\n",
    "from matplotlib import font_manager, rc"
   ]
  },
  {
   "cell_type": "markdown",
   "id": "b9196022-8447-46f0-9e95-5a334e16444d",
   "metadata": {},
   "source": [
    "### tickers list to pandas"
   ]
  },
  {
   "cell_type": "code",
   "execution_count": 2,
   "id": "23689e0b-b2cb-4044-8649-4e38aac1fd3c",
   "metadata": {
    "tags": []
   },
   "outputs": [
    {
     "data": {
      "text/html": [
       "<div>\n",
       "<style scoped>\n",
       "    .dataframe tbody tr th:only-of-type {\n",
       "        vertical-align: middle;\n",
       "    }\n",
       "\n",
       "    .dataframe tbody tr th {\n",
       "        vertical-align: top;\n",
       "    }\n",
       "\n",
       "    .dataframe thead th {\n",
       "        text-align: right;\n",
       "    }\n",
       "</style>\n",
       "<table border=\"1\" class=\"dataframe\">\n",
       "  <thead>\n",
       "    <tr style=\"text-align: right;\">\n",
       "      <th></th>\n",
       "      <th>ticker</th>\n",
       "      <th>ticker_name</th>\n",
       "      <th>ticker_ename</th>\n",
       "    </tr>\n",
       "  </thead>\n",
       "  <tbody>\n",
       "    <tr>\n",
       "      <th>0</th>\n",
       "      <td>KRW-BTC</td>\n",
       "      <td>비트코인</td>\n",
       "      <td>Bitcoin</td>\n",
       "    </tr>\n",
       "    <tr>\n",
       "      <th>1</th>\n",
       "      <td>KRW-ETH</td>\n",
       "      <td>이더리움</td>\n",
       "      <td>Ethereum</td>\n",
       "    </tr>\n",
       "    <tr>\n",
       "      <th>2</th>\n",
       "      <td>KRW-NEO</td>\n",
       "      <td>네오</td>\n",
       "      <td>NEO</td>\n",
       "    </tr>\n",
       "    <tr>\n",
       "      <th>3</th>\n",
       "      <td>KRW-MTL</td>\n",
       "      <td>메탈</td>\n",
       "      <td>Metal</td>\n",
       "    </tr>\n",
       "    <tr>\n",
       "      <th>4</th>\n",
       "      <td>KRW-XRP</td>\n",
       "      <td>리플</td>\n",
       "      <td>Ripple</td>\n",
       "    </tr>\n",
       "    <tr>\n",
       "      <th>...</th>\n",
       "      <td>...</td>\n",
       "      <td>...</td>\n",
       "      <td>...</td>\n",
       "    </tr>\n",
       "    <tr>\n",
       "      <th>111</th>\n",
       "      <td>KRW-MASK</td>\n",
       "      <td>마스크네트워크</td>\n",
       "      <td>Mask Network</td>\n",
       "    </tr>\n",
       "    <tr>\n",
       "      <th>112</th>\n",
       "      <td>KRW-ARB</td>\n",
       "      <td>아비트럼</td>\n",
       "      <td>Arbitrum</td>\n",
       "    </tr>\n",
       "    <tr>\n",
       "      <th>113</th>\n",
       "      <td>KRW-EGLD</td>\n",
       "      <td>멀티버스엑스</td>\n",
       "      <td>MultiversX</td>\n",
       "    </tr>\n",
       "    <tr>\n",
       "      <th>114</th>\n",
       "      <td>KRW-SUI</td>\n",
       "      <td>수이</td>\n",
       "      <td>Sui</td>\n",
       "    </tr>\n",
       "    <tr>\n",
       "      <th>115</th>\n",
       "      <td>KRW-GRT</td>\n",
       "      <td>더그래프</td>\n",
       "      <td>The Graph</td>\n",
       "    </tr>\n",
       "  </tbody>\n",
       "</table>\n",
       "<p>116 rows × 3 columns</p>\n",
       "</div>"
      ],
      "text/plain": [
       "       ticker ticker_name  ticker_ename\n",
       "0     KRW-BTC        비트코인       Bitcoin\n",
       "1     KRW-ETH        이더리움      Ethereum\n",
       "2     KRW-NEO          네오           NEO\n",
       "3     KRW-MTL          메탈         Metal\n",
       "4     KRW-XRP          리플        Ripple\n",
       "..        ...         ...           ...\n",
       "111  KRW-MASK     마스크네트워크  Mask Network\n",
       "112   KRW-ARB        아비트럼      Arbitrum\n",
       "113  KRW-EGLD      멀티버스엑스    MultiversX\n",
       "114   KRW-SUI          수이           Sui\n",
       "115   KRW-GRT        더그래프     The Graph\n",
       "\n",
       "[116 rows x 3 columns]"
      ]
     },
     "execution_count": 2,
     "metadata": {},
     "output_type": "execute_result"
    }
   ],
   "source": [
    "tickers = pyupbit.get_tickers(fiat='KRW', verbose=True)\n",
    "df_tickers = pd.DataFrame(tickers)\n",
    "df_tickers.rename(columns = {'market' : 'ticker','korean_name' : 'ticker_name','english_name' : 'ticker_ename'}, inplace = True)\n",
    "df_tickers"
   ]
  },
  {
   "cell_type": "markdown",
   "id": "c80de877-e9cc-4340-88dc-6862c981cd31",
   "metadata": {
    "tags": []
   },
   "source": [
    "### tickers list to dict"
   ]
  },
  {
   "cell_type": "code",
   "execution_count": 3,
   "id": "d26c6b3b-0fe4-49d0-9c71-271317402810",
   "metadata": {
    "tags": []
   },
   "outputs": [],
   "source": [
    "dict_tickers={}\n",
    "for idx, row in df_tickers.iterrows():\n",
    "    dict_tickers[row['ticker']]=row['ticker_name']\n",
    "# dict_tickers"
   ]
  },
  {
   "cell_type": "markdown",
   "id": "40085c5e-4d84-405e-82ed-e44a0458fab8",
   "metadata": {},
   "source": [
    "### 관심 ticker"
   ]
  },
  {
   "cell_type": "code",
   "execution_count": 4,
   "id": "8fb8e7a9-900a-4e79-a794-8eb06165dbf3",
   "metadata": {
    "tags": []
   },
   "outputs": [],
   "source": [
    "interest_ticker_name = ['비트코인','이더리움','도지코인','리플','아비트럼']"
   ]
  },
  {
   "cell_type": "code",
   "execution_count": 5,
   "id": "d78f8932-e60c-43a5-9504-55bac8851d6c",
   "metadata": {
    "tags": []
   },
   "outputs": [
    {
     "data": {
      "text/html": [
       "<div>\n",
       "<style scoped>\n",
       "    .dataframe tbody tr th:only-of-type {\n",
       "        vertical-align: middle;\n",
       "    }\n",
       "\n",
       "    .dataframe tbody tr th {\n",
       "        vertical-align: top;\n",
       "    }\n",
       "\n",
       "    .dataframe thead th {\n",
       "        text-align: right;\n",
       "    }\n",
       "</style>\n",
       "<table border=\"1\" class=\"dataframe\">\n",
       "  <thead>\n",
       "    <tr style=\"text-align: right;\">\n",
       "      <th></th>\n",
       "      <th>ticker</th>\n",
       "      <th>ticker_name</th>\n",
       "      <th>ticker_ename</th>\n",
       "    </tr>\n",
       "  </thead>\n",
       "  <tbody>\n",
       "    <tr>\n",
       "      <th>0</th>\n",
       "      <td>KRW-BTC</td>\n",
       "      <td>비트코인</td>\n",
       "      <td>Bitcoin</td>\n",
       "    </tr>\n",
       "    <tr>\n",
       "      <th>1</th>\n",
       "      <td>KRW-ETH</td>\n",
       "      <td>이더리움</td>\n",
       "      <td>Ethereum</td>\n",
       "    </tr>\n",
       "    <tr>\n",
       "      <th>2</th>\n",
       "      <td>KRW-XRP</td>\n",
       "      <td>리플</td>\n",
       "      <td>Ripple</td>\n",
       "    </tr>\n",
       "    <tr>\n",
       "      <th>3</th>\n",
       "      <td>KRW-DOGE</td>\n",
       "      <td>도지코인</td>\n",
       "      <td>Dogecoin</td>\n",
       "    </tr>\n",
       "    <tr>\n",
       "      <th>4</th>\n",
       "      <td>KRW-ARB</td>\n",
       "      <td>아비트럼</td>\n",
       "      <td>Arbitrum</td>\n",
       "    </tr>\n",
       "  </tbody>\n",
       "</table>\n",
       "</div>"
      ],
      "text/plain": [
       "     ticker ticker_name ticker_ename\n",
       "0   KRW-BTC        비트코인      Bitcoin\n",
       "1   KRW-ETH        이더리움     Ethereum\n",
       "2   KRW-XRP          리플       Ripple\n",
       "3  KRW-DOGE        도지코인     Dogecoin\n",
       "4   KRW-ARB        아비트럼     Arbitrum"
      ]
     },
     "execution_count": 5,
     "metadata": {},
     "output_type": "execute_result"
    }
   ],
   "source": [
    "df_interest_tickers = df_tickers[(df_tickers['ticker_name'].isin(interest_ticker_name))]\n",
    "df_interest_tickers.reset_index(drop=True,inplace=True)\n",
    "df_interest_tickers"
   ]
  },
  {
   "cell_type": "code",
   "execution_count": 6,
   "id": "e1b53463-0c4b-46fe-937a-939e69fa3b8e",
   "metadata": {
    "tags": []
   },
   "outputs": [
    {
     "data": {
      "text/plain": [
       "('KRW-ETH', '이더리움')"
      ]
     },
     "execution_count": 6,
     "metadata": {},
     "output_type": "execute_result"
    }
   ],
   "source": [
    "df_interest_tickers.iloc[1]['ticker'],df_interest_tickers.iloc[1]['ticker_name']"
   ]
  },
  {
   "cell_type": "code",
   "execution_count": 7,
   "id": "ae31acb2-16c9-4fef-87db-771c613dd0f4",
   "metadata": {
    "tags": []
   },
   "outputs": [
    {
     "data": {
      "text/plain": [
       "'KRW-ETH'"
      ]
     },
     "execution_count": 7,
     "metadata": {},
     "output_type": "execute_result"
    }
   ],
   "source": [
    "cur_ticker = df_interest_tickers.iloc[1]['ticker']\n",
    "cur_ticker"
   ]
  },
  {
   "cell_type": "markdown",
   "id": "cb20df57-bb8c-484b-b844-546bdb2348b5",
   "metadata": {},
   "source": [
    "### 현제 시점 전일 대비 조회"
   ]
  },
  {
   "cell_type": "code",
   "execution_count": 8,
   "id": "f81742d9-1149-46cf-8979-f19918a11816",
   "metadata": {
    "tags": []
   },
   "outputs": [
    {
     "ename": "NameError",
     "evalue": "name 'df_1d' is not defined",
     "output_type": "error",
     "traceback": [
      "\u001b[1;31m---------------------------------------------------------------------------\u001b[0m",
      "\u001b[1;31mNameError\u001b[0m                                 Traceback (most recent call last)",
      "\u001b[1;32m~\\AppData\\Local\\Temp\\ipykernel_41608\\1324743423.py\u001b[0m in \u001b[0;36m<module>\u001b[1;34m\u001b[0m\n\u001b[1;32m----> 1\u001b[1;33m \u001b[0mpyupbit\u001b[0m\u001b[1;33m.\u001b[0m\u001b[0mget_current_price\u001b[0m\u001b[1;33m(\u001b[0m\u001b[0mcur_ticker\u001b[0m\u001b[1;33m)\u001b[0m \u001b[1;33m-\u001b[0m \u001b[0mdf_1d\u001b[0m\u001b[1;33m[\u001b[0m\u001b[1;34m'open'\u001b[0m\u001b[1;33m]\u001b[0m\u001b[1;33m[\u001b[0m\u001b[1;33m-\u001b[0m\u001b[1;36m1\u001b[0m\u001b[1;33m]\u001b[0m\u001b[1;33m\u001b[0m\u001b[1;33m\u001b[0m\u001b[0m\n\u001b[0m",
      "\u001b[1;31mNameError\u001b[0m: name 'df_1d' is not defined"
     ]
    }
   ],
   "source": [
    "pyupbit.get_current_price(cur_ticker) - df_1d['open'][-1]"
   ]
  },
  {
   "cell_type": "code",
   "execution_count": null,
   "id": "150d049a-f431-4cfb-93af-1325fcc9fb6d",
   "metadata": {
    "tags": []
   },
   "outputs": [],
   "source": [
    "df_1d"
   ]
  },
  {
   "cell_type": "code",
   "execution_count": null,
   "id": "71e629bf-cbd5-4f9e-87ae-bc8bee7c8f9f",
   "metadata": {
    "tags": []
   },
   "outputs": [],
   "source": [
    "row"
   ]
  },
  {
   "cell_type": "code",
   "execution_count": null,
   "id": "4ff9d298-2a69-4805-8cd3-a437c2051d51",
   "metadata": {
    "tags": []
   },
   "outputs": [],
   "source": [
    "cur_ticker"
   ]
  },
  {
   "cell_type": "code",
   "execution_count": 13,
   "id": "e68f5009-144e-42a7-9eb8-02138ccf6d1a",
   "metadata": {
    "tags": []
   },
   "outputs": [
    {
     "data": {
      "text/html": [
       "<div>\n",
       "<style scoped>\n",
       "    .dataframe tbody tr th:only-of-type {\n",
       "        vertical-align: middle;\n",
       "    }\n",
       "\n",
       "    .dataframe tbody tr th {\n",
       "        vertical-align: top;\n",
       "    }\n",
       "\n",
       "    .dataframe thead th {\n",
       "        text-align: right;\n",
       "    }\n",
       "</style>\n",
       "<table border=\"1\" class=\"dataframe\">\n",
       "  <thead>\n",
       "    <tr style=\"text-align: right;\">\n",
       "      <th></th>\n",
       "      <th>ticker</th>\n",
       "      <th>ticker_name</th>\n",
       "      <th>open</th>\n",
       "      <th>high</th>\n",
       "      <th>low</th>\n",
       "      <th>close</th>\n",
       "      <th>volume</th>\n",
       "      <th>value</th>\n",
       "      <th>yesterday_close_price</th>\n",
       "      <th>today_open_price</th>\n",
       "      <th>now_price</th>\n",
       "      <th>gap_price</th>\n",
       "    </tr>\n",
       "  </thead>\n",
       "  <tbody>\n",
       "    <tr>\n",
       "      <th>2023-06-07 09:00:00</th>\n",
       "      <td>KRW-BTC</td>\n",
       "      <td>비트코인</td>\n",
       "      <td>35855000.0</td>\n",
       "      <td>35993000.0</td>\n",
       "      <td>34797000.0</td>\n",
       "      <td>34952000.0</td>\n",
       "      <td>4520.054910</td>\n",
       "      <td>1.596646e+11</td>\n",
       "      <td>34952000.0</td>\n",
       "      <td>34953000.0</td>\n",
       "      <td>34918000.0</td>\n",
       "      <td>-35000.0</td>\n",
       "    </tr>\n",
       "    <tr>\n",
       "      <th>2023-06-08 09:00:00</th>\n",
       "      <td>KRW-BTC</td>\n",
       "      <td>비트코인</td>\n",
       "      <td>34953000.0</td>\n",
       "      <td>35159000.0</td>\n",
       "      <td>34802000.0</td>\n",
       "      <td>34918000.0</td>\n",
       "      <td>1118.167918</td>\n",
       "      <td>3.911199e+10</td>\n",
       "      <td>34952000.0</td>\n",
       "      <td>34953000.0</td>\n",
       "      <td>34918000.0</td>\n",
       "      <td>-35000.0</td>\n",
       "    </tr>\n",
       "  </tbody>\n",
       "</table>\n",
       "</div>"
      ],
      "text/plain": [
       "                      ticker ticker_name        open        high         low  \\\n",
       "2023-06-07 09:00:00  KRW-BTC        비트코인  35855000.0  35993000.0  34797000.0   \n",
       "2023-06-08 09:00:00  KRW-BTC        비트코인  34953000.0  35159000.0  34802000.0   \n",
       "\n",
       "                          close       volume         value  \\\n",
       "2023-06-07 09:00:00  34952000.0  4520.054910  1.596646e+11   \n",
       "2023-06-08 09:00:00  34918000.0  1118.167918  3.911199e+10   \n",
       "\n",
       "                     yesterday_close_price  today_open_price   now_price  \\\n",
       "2023-06-07 09:00:00             34952000.0        34953000.0  34918000.0   \n",
       "2023-06-08 09:00:00             34952000.0        34953000.0  34918000.0   \n",
       "\n",
       "                     gap_price  \n",
       "2023-06-07 09:00:00   -35000.0  \n",
       "2023-06-08 09:00:00   -35000.0  "
      ]
     },
     "execution_count": 13,
     "metadata": {},
     "output_type": "execute_result"
    }
   ],
   "source": [
    "df_1d"
   ]
  },
  {
   "cell_type": "code",
   "execution_count": 28,
   "id": "9df8d1de-bc9e-4470-af22-7dd772a48928",
   "metadata": {
    "tags": []
   },
   "outputs": [
    {
     "data": {
      "text/plain": [
       "['KRW-ETH',\n",
       " '이더리움',\n",
       " 2431000.0,\n",
       " 2445000.0,\n",
       " 2425000.0,\n",
       " 2432000.0,\n",
       " 3296.89538987,\n",
       " 8027213747.96146,\n",
       " 2430000.0,\n",
       " 2431000.0,\n",
       " 2432000.0,\n",
       " 1000.0,\n",
       " -9655.08142965]"
      ]
     },
     "execution_count": 28,
     "metadata": {},
     "output_type": "execute_result"
    }
   ],
   "source": [
    "list(list_ohlcv[1].values())"
   ]
  },
  {
   "cell_type": "code",
   "execution_count": 175,
   "id": "85220680-3fd6-4caa-bdbb-14120d5dc85f",
   "metadata": {
    "tags": []
   },
   "outputs": [
    {
     "ename": "SyntaxError",
     "evalue": "invalid syntax (502821986.py, line 1)",
     "output_type": "error",
     "traceback": [
      "\u001b[1;36m  File \u001b[1;32m\"C:\\Users\\USER\\AppData\\Local\\Temp\\ipykernel_41608\\502821986.py\"\u001b[1;36m, line \u001b[1;32m1\u001b[0m\n\u001b[1;33m    aaa=151.00001`\u001b[0m\n\u001b[1;37m                 ^\u001b[0m\n\u001b[1;31mSyntaxError\u001b[0m\u001b[1;31m:\u001b[0m invalid syntax\n"
     ]
    }
   ],
   "source": [
    "aaa=151.00001\n",
    "bbb=1.34\n",
    "print(f'{aaa: >8.2f}, {bbb:>13.2f}')"
   ]
  },
  {
   "cell_type": "code",
   "execution_count": 194,
   "id": "1ba3cfb4-4464-43ba-935d-b7187d207761",
   "metadata": {
    "tags": []
   },
   "outputs": [
    {
     "name": "stdout",
     "output_type": "stream",
     "text": [
      "------------ | -------------- | -------- | -------------------- | -------------------- | -------------- |\n",
      "   ticker    |     price      |   rate   |        volume        |        value         |    p_close     |\n",
      "------------ | -------------- | -------- | -------------------- | -------------------- | -------------- |\n",
      "KRW-BTC      |  34930000.0000 |    -0.06 |          2109.427065 |         73682.287378 |    34952000.00 |\n",
      "KRW-ETH      |   2436000.0000 |    +0.25 |          5736.081438 |         13973.094382 |     2430000.00 |\n",
      "KRW-NEO      |     11880.0000 |    +0.00 |        692394.743537 |          8225.649553 |       11880.00 |\n",
      "KRW-MTL      |      1520.0000 |   -10.85 |      64854390.586701 |         98578.673692 |        1705.00 |\n",
      "KRW-XRP      |       690.0000 |    +0.15 |     120468513.265493 |         83123.274153 |         689.00 |\n",
      "KRW-ETC      |     22370.0000 |    -0.18 |        190145.012465 |          4253.543929 |       22410.00 |\n",
      "KRW-SNT      |        30.0000 |    +0.67 |       8246333.330324 |           247.390000 |          29.80 |\n",
      "KRW-WAVES    |      2060.0000 |    -0.48 |       1968126.308756 |          4054.340196 |        2070.00 |\n",
      "KRW-XEM      |        38.1000 |    -0.26 |      38578704.754244 |          1469.848651 |          38.20 |\n",
      "KRW-QTUM     |      3120.0000 |    -0.79 |        231750.466663 |           723.061456 |        3145.00 |\n",
      "KRW-LSK      |      1035.0000 |    +0.49 |       8427077.300049 |          8722.025006 |        1030.00 |\n",
      "KRW-STEEM    |       232.0000 |    +0.43 |       6992411.269656 |          1622.239415 |         231.00 |\n",
      "KRW-XLM      |       115.0000 |    +0.00 |       9019657.049340 |          1037.260561 |         115.00 |\n",
      "KRW-ARDR     |        91.1000 |    -1.83 |      17480564.731077 |          1592.479447 |          92.80 |\n",
      "KRW-ARK      |       334.0000 |    +1.21 |       5699644.856079 |          1903.681382 |         330.00 |\n",
      "KRW-STORJ    |       427.0000 |    +7.29 |     105728819.559750 |         45146.205952 |         398.00 |\n",
      "KRW-GRS      |       452.0000 |    -1.09 |       1171608.427470 |           529.567009 |         457.00 |\n",
      "KRW-REP      |      8025.0000 |    -0.43 |        114215.454070 |           916.579019 |        8060.00 |\n",
      "KRW-ADA      |       427.0000 |    -0.23 |      18372436.261667 |          7845.030284 |         428.00 |\n",
      "KRW-SBD      |      2905.0000 |    +0.69 |         88470.066750 |           257.005544 |        2885.00 |\n",
      "KRW-POWR     |       189.0000 |    -0.53 |       2904914.564870 |           549.028853 |         190.00 |\n",
      "KRW-BTG      |     16020.0000 |    -0.74 |         29018.358814 |           464.874108 |       16140.00 |\n",
      "KRW-ICX      |       284.0000 |    -1.05 |       4615865.666573 |          1310.905849 |         287.00 |\n",
      "KRW-EOS      |      1170.0000 |    +2.18 |       4699095.426373 |          5497.941649 |        1145.00 |\n",
      "KRW-TRX      |       102.0000 |    +0.00 |      57478906.033418 |          5862.848415 |         102.00 |\n",
      "KRW-SC       |         3.9400 |    +0.51 |     232178160.612321 |           914.781953 |           3.92 |\n",
      "KRW-ONT      |       258.0000 |    +0.00 |       3392714.146200 |           875.320250 |         258.00 |\n",
      "KRW-ZIL      |        28.1000 |    +1.08 |      67431977.833193 |          1894.838577 |          27.80 |\n",
      "KRW-POLYX    |       164.0000 |    +0.61 |      26428734.009919 |          4334.312378 |         163.00 |\n",
      "KRW-ZRX      |       265.0000 |    +0.76 |       3468762.254249 |           919.221997 |         263.00 |\n",
      "KRW-LOOM     |        60.0000 |    +1.52 |      76519971.640487 |          4591.198298 |          59.10 |\n",
      "KRW-BCH      |    147000.0000 |    -0.37 |          6754.429998 |           992.901210 |      147550.00 |\n",
      "KRW-BAT      |       261.0000 |    +0.00 |       2196545.402933 |           573.298350 |         261.00 |\n",
      "KRW-IOST     |        11.3000 |    -0.88 |      31030290.398759 |           350.642282 |          11.40 |\n",
      "KRW-RFR      |         6.4500 |    +0.78 |      37731636.658635 |           243.369056 |           6.40 |\n",
      "KRW-CVC      |       107.0000 |    +2.88 |      18398678.076658 |          1968.658554 |         104.00 |\n",
      "KRW-IQ       |         5.9800 |    -0.33 |     144255457.704612 |           862.647637 |           6.00 |\n",
      "KRW-IOTA     |       239.0000 |    +0.42 |       1518462.356472 |           362.912503 |         238.00 |\n",
      "KRW-HIFI     |       415.0000 |    +0.97 |       1770374.054763 |           734.705233 |         411.00 |\n",
      "KRW-ONG      |       300.0000 |    +0.67 |        953748.356908 |           286.124507 |         298.00 |\n",
      "KRW-GAS      |      3370.0000 |    -0.30 |       1561316.400350 |          5261.636269 |        3380.00 |\n",
      "KRW-UPP      |        67.0000 |    +0.90 |       4766058.370303 |           319.325911 |          66.40 |\n",
      "KRW-ELF      |       393.0000 |    -1.01 |       3601724.337745 |          1415.477665 |         397.00 |\n",
      "KRW-KNC      |       734.0000 |    -0.81 |        792930.583299 |           582.011048 |         740.00 |\n",
      "KRW-BSV      |     40020.0000 |    +0.35 |         47947.474453 |          1918.857928 |       39880.00 |\n",
      "KRW-THETA    |       999.0000 |    -0.60 |        370792.087553 |           370.421295 |        1005.00 |\n",
      "KRW-QKC      |        10.9000 |    +0.00 |      33834110.629556 |           368.791806 |          10.90 |\n",
      "KRW-BTT      |         0.0007 |   -12.50 |  315029942138.237366 |           220.520959 |           0.00 |\n",
      "KRW-MOC      |        97.2000 |    +1.36 |      28768168.936463 |          2796.266021 |          95.90 |\n",
      "KRW-ENJ      |       396.0000 |    -0.75 |       2115529.159733 |           837.749547 |         399.00 |\n",
      "KRW-TFUEL    |        50.7000 |    +0.80 |      23668855.448548 |          1200.010971 |          50.30 |\n",
      "KRW-MANA     |       546.0000 |    -2.15 |       8131501.677121 |          4439.799916 |         558.00 |\n",
      "KRW-ANKR     |        31.2000 |    +0.65 |     309959584.821940 |          9670.739046 |          31.00 |\n",
      "KRW-AERGO    |       139.0000 |    +2.21 |       6175042.911828 |           858.330965 |         136.00 |\n",
      "KRW-ATOM     |     12450.0000 |    -0.72 |         78299.560414 |           974.829527 |       12540.00 |\n",
      "KRW-TT       |         4.4100 |    +0.68 |      66281295.526347 |           292.300513 |           4.38 |\n",
      "KRW-CRE      |         4.3500 |    -0.23 |     129202194.773244 |           562.029547 |           4.36 |\n",
      "KRW-MBL      |         3.3600 |    -0.59 |     130581724.325482 |           438.754594 |           3.38 |\n",
      "KRW-WAXP     |        63.6000 |    +0.16 |      12447714.925860 |           791.674669 |          63.50 |\n",
      "KRW-HBAR     |        63.7000 |    -0.47 |       9003930.329684 |           573.550362 |          64.00 |\n",
      "KRW-MED      |        15.5000 |    -1.27 |      58041614.918890 |           899.645031 |          15.70 |\n",
      "KRW-MLK      |       437.0000 |    +4.05 |      74617800.299131 |         32607.978731 |         420.00 |\n",
      "KRW-STPT     |        53.1000 |    +0.95 |       8670234.837852 |           460.389470 |          52.60 |\n",
      "KRW-ORBS     |        30.4000 |    -0.65 |      14178590.928303 |           431.029164 |          30.60 |\n",
      "KRW-VET      |        23.5000 |    -0.42 |     102837468.831479 |          2416.680518 |          23.60 |\n",
      "KRW-CHZ      |       116.0000 |    +0.87 |      23096385.244172 |          2679.180688 |         115.00 |\n",
      "KRW-STMX     |         5.1400 |    -1.15 |     273377057.165964 |          1405.158074 |           5.20 |\n",
      "KRW-DKA      |        37.0000 |    +0.82 |      13989079.929478 |           517.595957 |          36.70 |\n",
      "KRW-HIVE     |       439.0000 |    +0.92 |      13483711.945679 |          5919.349544 |         435.00 |\n",
      "KRW-KAVA     |      1310.0000 |    -1.13 |      23571160.327245 |         30878.220029 |        1325.00 |\n",
      "KRW-AHT      |         7.8400 |    -0.13 |      81230669.713335 |           636.848451 |           7.85 |\n",
      "KRW-LINK     |      7870.0000 |    +0.25 |        127797.808163 |          1005.768750 |        7850.00 |\n",
      "KRW-XTZ      |      1100.0000 |    -2.22 |        396678.964581 |           436.346861 |        1125.00 |\n",
      "KRW-BORA     |       186.0000 |    +1.09 |       7900243.643769 |          1469.445318 |         184.00 |\n",
      "KRW-JST      |        29.8000 |    -0.67 |      18387528.526606 |           547.948350 |          30.00 |\n",
      "KRW-CRO      |        78.0000 |    +0.39 |      20602533.481356 |          1606.997612 |          77.70 |\n",
      "KRW-TON      |      1905.0000 |    -1.04 |        833311.062939 |          1587.457575 |        1925.00 |\n",
      "KRW-SXP      |       515.0000 |    +0.59 |      36317823.900516 |         18703.679309 |         512.00 |\n",
      "KRW-HUNT     |       423.0000 |    +4.70 |     170337196.249691 |         72052.634014 |         404.00 |\n",
      "KRW-PLA      |       214.0000 |    +1.42 |       8050534.768864 |          1722.814441 |         211.00 |\n",
      "KRW-DOT      |      6610.0000 |    -0.75 |        102999.756394 |           680.828390 |        6660.00 |\n",
      "KRW-MVL      |         4.0200 |    +0.25 |      92457174.510428 |           371.677842 |           4.01 |\n",
      "KRW-STRAX    |       583.0000 |    -0.51 |       1688879.482995 |           984.616739 |         586.00 |\n",
      "KRW-AQT      |      1175.0000 |    +2.17 |        276743.846953 |           325.174020 |        1150.00 |\n",
      "KRW-GLM      |       251.0000 |    +1.62 |       1665355.539425 |           418.004240 |         247.00 |\n",
      "KRW-SSX      |        19.8000 |    -1.00 |     120556873.794474 |          2387.026101 |          20.00 |\n",
      "KRW-META     |        31.2000 |    -0.95 |      10391121.940390 |           324.203005 |          31.50 |\n",
      "KRW-FCT2     |        61.0000 |    +0.66 |      26670640.955753 |          1626.909098 |          60.60 |\n",
      "KRW-CBK      |       703.0000 |    -0.28 |        328979.117724 |           231.272320 |         705.00 |\n",
      "KRW-SAND     |       638.0000 |    -2.15 |      25301328.672125 |         16142.247693 |         652.00 |\n",
      "KRW-HPO      |       104.0000 |    +0.00 |      25979528.871430 |          2701.871003 |         104.00 |\n",
      "KRW-DOGE     |        89.4000 |    +0.22 |     107460693.606603 |          9606.986008 |          89.20 |\n",
      "KRW-STRK     |     14370.0000 |    +0.28 |         32798.069706 |           471.308262 |       14330.00 |\n",
      "KRW-PUNDIX   |       497.0000 |    -0.40 |       2384243.721899 |          1184.969130 |         499.00 |\n",
      "KRW-FLOW     |       825.0000 |    -1.20 |       7773337.832767 |          6413.003712 |         835.00 |\n",
      "KRW-DAWN     |       705.0000 |    -0.56 |        917345.743304 |           646.728749 |         709.00 |\n",
      "KRW-AXS      |      8190.0000 |    -1.86 |        471218.634233 |          3859.280614 |        8345.00 |\n",
      "KRW-STX      |       872.0000 |    -1.36 |     133185375.306906 |        116137.647268 |         884.00 |\n",
      "KRW-XEC      |         0.0299 |    -0.33 |   34175743047.270084 |          1021.854717 |           0.03 |\n",
      "KRW-SOL      |     24650.0000 |    -0.36 |        390013.368450 |          9613.829532 |       24740.00 |\n",
      "KRW-MATIC    |      1020.0000 |    +0.49 |       5975761.173188 |          6095.276397 |        1015.00 |\n",
      "KRW-AAVE     |     78540.0000 |    +0.05 |          4584.285522 |           360.049785 |       78500.00 |\n",
      "KRW-1INCH    |       427.0000 |    +2.40 |       6033861.741942 |          2576.458964 |         417.00 |\n",
      "KRW-ALGO     |       162.0000 |    -2.41 |      43537813.726899 |          7053.125824 |         166.00 |\n",
      "KRW-NEAR     |      1860.0000 |    -1.06 |        895025.213986 |          1664.746898 |        1880.00 |\n",
      "KRW-AVAX     |     18340.0000 |    -1.40 |         44442.786776 |           815.080709 |       18600.00 |\n",
      "KRW-T        |        29.6000 |    +0.34 |      61875592.621863 |          1831.517542 |          29.50 |\n",
      "KRW-CELO     |       621.0000 |    +1.64 |       4015853.648657 |          2493.845116 |         611.00 |\n",
      "KRW-GMT      |       301.0000 |    -1.95 |      13560894.155497 |          4081.829141 |         307.00 |\n",
      "KRW-APT      |     10050.0000 |    -1.66 |        688855.701115 |          6922.999796 |       10220.00 |\n",
      "KRW-SHIB     |         0.0105 |    +0.00 |   72598156404.807648 |           762.280642 |           0.01 |\n",
      "KRW-MASK     |      5395.0000 |    -0.28 |       2637810.300527 |         14230.986571 |        5410.00 |\n",
      "KRW-ARB      |      1490.0000 |    -0.67 |       5202553.678838 |          7751.804981 |        1500.00 |\n",
      "KRW-EGLD     |     45980.0000 |    -1.82 |         17751.868940 |           816.230934 |       46830.00 |\n",
      "KRW-SUI      |      1000.0000 |    -2.44 |      33097151.387069 |         33097.151387 |        1025.00 |\n",
      "KRW-GRT      |       149.0000 |    +0.00 |       7502585.260314 |          1117.885204 |         149.00 |\n"
     ]
    }
   ],
   "source": [
    "iter_no=0\n",
    "list_ohlcv=[]\n",
    "\n",
    "print(f\"{'-'*12:^12s} | {'-'*14:^14s} | {'-'*8:^8s} | {'-'*20:^20s} | {'-'*20:^20s} | {'-'*14:^14s} |\")\n",
    "print(f\"{'ticker':^12s} | {'price':^14s} | {'rate':^8s} | {'volume':^20s} | {'value':^20s} | {'p_close':^14s} |\")\n",
    "print(f\"{'-'*12:^12s} | {'-'*14:^14s} | {'-'*8:^8s} | {'-'*20:^20s} | {'-'*20:^20s} | {'-'*14:^14s} |\")\n",
    "\n",
    "for idx, row in df_tickers.iterrows():\n",
    "    iter_no += 1\n",
    "\n",
    "    # ticker, ticker_name \n",
    "    cur_ticker   = row['ticker']               # ticker of iters\n",
    "    ticker_name  = dict_tickers[cur_ticker]    # ticker_name \n",
    "\n",
    "    # 일봉 데이터 ( 2일 )\n",
    "    df_ohlcv                  = pyupbit.get_ohlcv(cur_ticker, interval=\"day\", count=2) \n",
    "    current_price             = pyupbit.get_current_price(cur_ticker)                        # 코인의 현재가\n",
    "\n",
    "    yesterday_open_price      = df_ohlcv['open'][-2]\n",
    "    yesterday_high_price      = df_ohlcv['high'][-2]\n",
    "    yesterday_low_price       = df_ohlcv['low'][-2]\n",
    "    yesterday_close_price     = df_ohlcv['close'][-2]           # 어제 종가 구하기\n",
    "    yesterday_volume          = df_ohlcv['volume'][-2]\n",
    "    yesterday_value           = df_ohlcv['value'][-2]\n",
    "    \n",
    "    today_open_price          = df_ohlcv['open'][-1]            # 오늘 시가 구하기\n",
    "    today_high_price          = df_ohlcv['high'][-1]\n",
    "    today_low_price           = df_ohlcv['low'][-1]\n",
    "    today_close_price         = df_ohlcv['close'][-1]\n",
    "    today_volume              = df_ohlcv['volume'][-1]\n",
    "    today_value               = df_ohlcv['value'][-1]\n",
    "\n",
    "    # 코인의 현재가,  당일 시, 목표가\n",
    "    now_price                 = current_price                                                       # 코인의 현재가\n",
    "    now_price2                = df_ohlcv['close'][-1]                                               # 코인의 현재가\n",
    "    now_price_change_rate     = ((now_price - yesterday_close_price)/yesterday_close_price) * 100   # 당일 변동가 구하기\n",
    "    \n",
    "    #print(f\"{cur_ticker:12s} {ticker_name:20s} {len(ticker_name)} {now_price} {now_price_change_rate:2.3f}\")\n",
    "    #print(f\"{cur_ticker:12s} {ticker_name:{20-len(ticker_name)}s}| {now_price:>14.2f} | {now_price_change_rate:>4.3f} {today_volume:16f} {yesterday_close_price:>14.2f} \")\n",
    " \n",
    "    print(f\"{cur_ticker:<12s} | {now_price:>14.4f} | {now_price_change_rate:>+8.2f} | {today_volume:20f} | {today_close_price*today_volume/1000000:20f} | {yesterday_close_price:>14.2f} |\")\n",
    "    list_ohlcv.append([cur_ticker, now_price, now_price_change_rate, today_volume, today_value, yesterday_close_price])\n"
   ]
  },
  {
   "cell_type": "code",
   "execution_count": 185,
   "id": "f877c035-52ce-4436-b1bf-97eff9fade59",
   "metadata": {
    "tags": []
   },
   "outputs": [
    {
     "data": {
      "text/plain": [
       "[['KRW-BTC', 34930000.0, -0.06294346532387274, 2077.79452363, 34952000.0],\n",
       " ['KRW-ETH', 2435000.0, 0.205761316872428, 5701.62586347, 2430000.0],\n",
       " ['KRW-NEO', 11900.0, 0.16835016835016833, 690015.70313785, 11880.0],\n",
       " ['KRW-MTL', 1530.0, -10.263929618768328, 64259829.55271277, 1705.0],\n",
       " ['KRW-XRP', 688.0, -0.14513788098693758, 119474672.34813754, 689.0],\n",
       " ['KRW-ETC', 22330.0, -0.35698348951361, 188794.52324822, 22410.0],\n",
       " ['KRW-SNT', 29.9, 0.3355704697986506, 8202728.07277434, 29.8],\n",
       " ['KRW-WAVES', 2060.0, -0.4830917874396135, 1963694.27733934, 2070.0],\n",
       " ['KRW-XEM', 38.1, -0.2617801047120456, 38448762.71710861, 38.2],\n",
       " ['KRW-QTUM', 3120.0, -0.7949125596184419, 230777.70171003, 3145.0],\n",
       " ['KRW-LSK', 1045.0, 1.4563106796116505, 8369574.80825068, 1030.0],\n",
       " ['KRW-STEEM', 232.0, 0.4329004329004329, 6991841.45691384, 231.0],\n",
       " ['KRW-XLM', 116.0, 0.8695652173913043, 9006801.21691443, 115.0],\n",
       " ['KRW-ARDR', 91.4, -1.5086206896551633, 17361754.79652786, 92.8],\n",
       " ['KRW-ARK', 334.0, 1.2121212121212122, 5699644.85607913, 330.0],\n",
       " ['KRW-STORJ', 422.0, 6.030150753768844, 104962088.37443756, 398.0],\n",
       " ['KRW-GRS', 454.0, -0.6564551422319475, 1155263.78755522, 457.0],\n",
       " ['KRW-REP', 8025.0, -0.4342431761786601, 113414.24377327, 8060.0],\n",
       " ['KRW-ADA', 426.0, -0.46728971962616817, 18192829.43348363, 428.0],\n",
       " ['KRW-SBD', 2905.0, 0.6932409012131715, 87923.28291851, 2885.0],\n",
       " ['KRW-POWR', 189.0, -0.5263157894736842, 2898127.90629518, 190.0],\n",
       " ['KRW-BTG', 16060.0, -0.49566294919454773, 28980.9009661, 16140.0],\n",
       " ['KRW-ICX', 285.0, -0.6968641114982579, 4565563.9679055, 287.0],\n",
       " ['KRW-EOS', 1160.0, 1.3100436681222707, 4684121.80456892, 1145.0],\n",
       " ['KRW-TRX', 103.0, 0.9803921568627451, 56985965.18646637, 102.0],\n",
       " ['KRW-SC', 3.92, 0.0, 231434116.35765943, 3.92],\n",
       " ['KRW-ONT', 256.0, -0.7751937984496124, 3380683.37335719, 258.0],\n",
       " ['KRW-ZIL', 28.1, 1.0791366906474844, 67275288.10927874, 27.8],\n",
       " ['KRW-POLYX', 165.0, 1.2269938650306749, 26367429.84172016, 163.0],\n",
       " ['KRW-ZRX', 264.0, 0.38022813688212925, 3438588.1823686, 263.0],\n",
       " ['KRW-LOOM', 60.1, 1.6920473773265652, 76493979.99500252, 59.1],\n",
       " ['KRW-BCH', 147000.0, -0.3727549983056591, 6670.95616572, 147550.0],\n",
       " ['KRW-BAT', 261.0, 0.0, 2164113.23946404, 261.0],\n",
       " ['KRW-IOST', 11.2, -1.75438596491229, 30568116.95336568, 11.4],\n",
       " ['KRW-RFR', 6.41, 0.15624999999999667, 37611606.77938166, 6.4],\n",
       " ['KRW-CVC', 107.0, 2.8846153846153846, 18319447.46005838, 104.0],\n",
       " ['KRW-IQ', 5.98, -0.33333333333332626, 144255457.7046123, 6.0],\n",
       " ['KRW-IOTA', 239.0, 0.42016806722689076, 1272392.43576688, 238.0],\n",
       " ['KRW-HIFI', 416.0, 1.2165450121654502, 1764966.23991691, 411.0],\n",
       " ['KRW-ONG', 300.0, 0.6711409395973155, 949782.10691439, 298.0],\n",
       " ['KRW-GAS', 3385.0, 0.14792899408284024, 1560836.6296938, 3380.0],\n",
       " ['KRW-UPP', 67.1, 1.0542168674698622, 4741103.49543488, 66.4],\n",
       " ['KRW-ELF', 391.0, -1.5113350125944585, 3596124.30971486, 397.0],\n",
       " ['KRW-KNC', 731.0, -1.2162162162162162, 782246.86266964, 740.0],\n",
       " ['KRW-BSV', 39980.0, 0.25075225677031093, 47797.60741542, 39880.0],\n",
       " ['KRW-THETA', 1000.0, -0.4975124378109453, 365928.45842028, 1005.0],\n",
       " ['KRW-QKC', 10.9, 0.0, 33834110.6295561, 10.9],\n",
       " ['KRW-BTT', 0.0008, 0.0, 314696312286.4965, 0.0008],\n",
       " ['KRW-MOC', 97.4, 1.5641293013555786, 28708587.6539569, 95.9],\n",
       " ['KRW-ENJ', 395.0, -1.0025062656641603, 2100448.75982388, 399.0],\n",
       " ['KRW-TFUEL', 50.5, 0.39761431411531384, 23647081.08176253, 50.3],\n",
       " ['KRW-MANA', 546.0, -2.1505376344086025, 8096852.47348468, 558.0],\n",
       " ['KRW-ANKR', 31.3, 0.9677419354838732, 309363844.0779249, 31.0],\n",
       " ['KRW-AERGO', 139.0, 2.2058823529411766, 6174898.43105997, 136.0],\n",
       " ['KRW-ATOM', 12490.0, -0.3987240829346092, 76258.38268968, 12540.0],\n",
       " ['KRW-TT', 4.41, 0.6849315068493208, 66131825.98909227, 4.38],\n",
       " ['KRW-CRE', 4.35, -0.22935779816515306, 129000818.82983752, 4.36],\n",
       " ['KRW-MBL', 3.37, -0.29585798816567416, 127913306.53018986, 3.38],\n",
       " ['KRW-WAXP', 63.8, 0.47244094488188526, 12333665.81955444, 63.5],\n",
       " ['KRW-HBAR', 63.3, -1.0937500000000044, 8958062.79658807, 64.0],\n",
       " ['KRW-MED', 15.6, -0.6369426751592334, 57989531.58555713, 15.7],\n",
       " ['KRW-MLK', 435.0, 3.571428571428571, 74547032.5778744, 420.0],\n",
       " ['KRW-STPT', 53.1, 0.9505703422053232, 8665423.36118819, 52.6],\n",
       " ['KRW-ORBS', 30.4, -0.6535947712418394, 14126273.25301438, 30.6],\n",
       " ['KRW-VET', 23.6, 0.0, 102637257.24098688, 23.6],\n",
       " ['KRW-CHZ', 115.0, 0.0, 23076695.51476494, 115.0],\n",
       " ['KRW-STMX', 5.13, -1.3461538461538516, 272620465.6804199, 5.2],\n",
       " ['KRW-DKA', 37.0, 0.8174386920980847, 13970762.30450634, 36.7],\n",
       " ['KRW-HIVE', 440.0, 1.1494252873563218, 13474932.07242482, 435.0],\n",
       " ['KRW-KAVA', 1305.0, -1.509433962264151, 23447896.59978922, 1325.0],\n",
       " ['KRW-AHT', 7.88, 0.3821656050955446, 80404719.62545963, 7.85],\n",
       " ['KRW-LINK', 7875.0, 0.3184713375796179, 124800.98039884, 7850.0],\n",
       " ['KRW-XTZ', 1105.0, -1.7777777777777777, 381156.98680368, 1125.0],\n",
       " ['KRW-BORA', 186.0, 1.0869565217391304, 7866587.09301883, 184.0],\n",
       " ['KRW-JST', 29.7, -1.0000000000000024, 18353971.47962617, 30.0],\n",
       " ['KRW-CRO', 78.2, 0.6435006435006435, 20582370.53957373, 77.7],\n",
       " ['KRW-TON', 1910.0, -0.7792207792207793, 832021.95595485, 1925.0],\n",
       " ['KRW-SXP', 513.0, 0.1953125, 36277166.17079826, 512.0],\n",
       " ['KRW-HUNT', 421.0, 4.207920792079208, 170230008.26885894, 404.0],\n",
       " ['KRW-PLA', 214.0, 1.4218009478672986, 8049677.89504961, 211.0],\n",
       " ['KRW-DOT', 6605.0, -0.8258258258258258, 102679.97695659, 6660.0],\n",
       " ['KRW-MVL', 4.02, 0.24937655860348598, 89814374.99081717, 4.01],\n",
       " ['KRW-STRAX', 586.0, 0.0, 1671357.17039505, 586.0],\n",
       " ['KRW-AQT', 1165.0, 1.3043478260869565, 276569.03078797, 1150.0],\n",
       " ['KRW-GLM', 249.0, 0.8097165991902834, 1610537.12476628, 247.0],\n",
       " ['KRW-SSX', 19.8, -0.9999999999999963, 120432164.42660008, 20.0],\n",
       " ['KRW-META', 31.2, -0.9523809523809548, 10345760.35558898, 31.5],\n",
       " ['KRW-FCT2', 61.1, 0.825082508250825, 26625155.21993091, 60.6],\n",
       " ['KRW-CBK', 703.0, -0.28368794326241137, 328561.96830894, 705.0],\n",
       " ['KRW-SAND', 639.0, -1.9938650306748467, 25148559.05113291, 652.0],\n",
       " ['KRW-HPO', 104.0, 0.0, 25974427.04734205, 104.0],\n",
       " ['KRW-DOGE', 89.2, 0.0, 106976040.6895308, 89.2],\n",
       " ['KRW-STRK', 14370.0, 0.2791346824842987, 32684.36122464, 14330.0],\n",
       " ['KRW-PUNDIX', 496.0, -0.6012024048096193, 2345669.4069404, 499.0],\n",
       " ['KRW-FLOW', 824.0, -1.3173652694610778, 7751384.57692139, 835.0],\n",
       " ['KRW-DAWN', 705.0, -0.5641748942172073, 916437.36066929, 709.0],\n",
       " ['KRW-AXS', 8195.0, -1.797483523067705, 468756.23718773, 8345.0],\n",
       " ['KRW-STX', 866.0, -2.0361990950226243, 132707218.3041376, 884.0],\n",
       " ['KRW-XEC', 0.0299, -0.3333333333333313, 33996891730.934795, 0.03],\n",
       " ['KRW-SOL', 24650.0, -0.3637833468067906, 388199.5488965, 24740.0],\n",
       " ['KRW-MATIC', 1020.0, 0.49261083743842365, 5959818.5583758, 1015.0],\n",
       " ['KRW-AAVE', 78720.0, 0.2802547770700637, 4578.65202039, 78500.0],\n",
       " ['KRW-1INCH', 426.0, 2.158273381294964, 6019045.55993362, 417.0],\n",
       " ['KRW-ALGO', 163.0, -1.8072289156626504, 43010912.16361526, 166.0],\n",
       " ['KRW-NEAR', 1855.0, -1.3297872340425532, 882926.10150999, 1880.0],\n",
       " ['KRW-AVAX', 18320.0, -1.5053763440860215, 44395.70386596, 18600.0],\n",
       " ['KRW-T', 29.6, 0.33898305084746244, 61852954.41554289, 29.5],\n",
       " ['KRW-CELO', 620.0, 1.4729950900163666, 4012236.25439181, 611.0],\n",
       " ['KRW-GMT', 302.0, -1.6286644951140066, 13452897.86884874, 307.0],\n",
       " ['KRW-APT', 10060.0, -1.5655577299412915, 683693.12750606, 10220.0],\n",
       " ['KRW-SHIB', 0.0105, 0.0, 72558979782.95065, 0.0105],\n",
       " ['KRW-MASK', 5385.0, -0.46210720887245843, 2628411.15644133, 5410.0],\n",
       " ['KRW-ARB', 1485.0, -1.0, 5193023.58839052, 1500.0],\n",
       " ['KRW-EGLD', 46000.0, -1.7723681400811444, 17598.32748313, 46830.0],\n",
       " ['KRW-SUI', 1005.0, -1.951219512195122, 32987110.82374795, 1025.0],\n",
       " ['KRW-GRT', 150.0, 0.6711409395973155, 7493353.08065178, 149.0]]"
      ]
     },
     "execution_count": 185,
     "metadata": {},
     "output_type": "execute_result"
    }
   ],
   "source": [
    "list_ohlcv"
   ]
  },
  {
   "cell_type": "code",
   "execution_count": 188,
   "id": "cf6e33f3-a249-4479-8a5a-bff25bee7b9c",
   "metadata": {
    "tags": []
   },
   "outputs": [
    {
     "data": {
      "text/html": [
       "<div>\n",
       "<style scoped>\n",
       "    .dataframe tbody tr th:only-of-type {\n",
       "        vertical-align: middle;\n",
       "    }\n",
       "\n",
       "    .dataframe tbody tr th {\n",
       "        vertical-align: top;\n",
       "    }\n",
       "\n",
       "    .dataframe thead th {\n",
       "        text-align: right;\n",
       "    }\n",
       "</style>\n",
       "<table border=\"1\" class=\"dataframe\">\n",
       "  <thead>\n",
       "    <tr style=\"text-align: right;\">\n",
       "      <th></th>\n",
       "      <th>ticker</th>\n",
       "      <th>price</th>\n",
       "      <th>rate</th>\n",
       "      <th>volume</th>\n",
       "      <th>p_close</th>\n",
       "    </tr>\n",
       "  </thead>\n",
       "  <tbody>\n",
       "    <tr>\n",
       "      <th>0</th>\n",
       "      <td>KRW-BTC</td>\n",
       "      <td>34930000.0</td>\n",
       "      <td>-0.062943</td>\n",
       "      <td>2.077795e+03</td>\n",
       "      <td>34952000.0</td>\n",
       "    </tr>\n",
       "    <tr>\n",
       "      <th>1</th>\n",
       "      <td>KRW-ETH</td>\n",
       "      <td>2435000.0</td>\n",
       "      <td>0.205761</td>\n",
       "      <td>5.701626e+03</td>\n",
       "      <td>2430000.0</td>\n",
       "    </tr>\n",
       "    <tr>\n",
       "      <th>2</th>\n",
       "      <td>KRW-NEO</td>\n",
       "      <td>11900.0</td>\n",
       "      <td>0.168350</td>\n",
       "      <td>6.900157e+05</td>\n",
       "      <td>11880.0</td>\n",
       "    </tr>\n",
       "    <tr>\n",
       "      <th>3</th>\n",
       "      <td>KRW-MTL</td>\n",
       "      <td>1530.0</td>\n",
       "      <td>-10.263930</td>\n",
       "      <td>6.425983e+07</td>\n",
       "      <td>1705.0</td>\n",
       "    </tr>\n",
       "    <tr>\n",
       "      <th>4</th>\n",
       "      <td>KRW-XRP</td>\n",
       "      <td>688.0</td>\n",
       "      <td>-0.145138</td>\n",
       "      <td>1.194747e+08</td>\n",
       "      <td>689.0</td>\n",
       "    </tr>\n",
       "    <tr>\n",
       "      <th>...</th>\n",
       "      <td>...</td>\n",
       "      <td>...</td>\n",
       "      <td>...</td>\n",
       "      <td>...</td>\n",
       "      <td>...</td>\n",
       "    </tr>\n",
       "    <tr>\n",
       "      <th>111</th>\n",
       "      <td>KRW-MASK</td>\n",
       "      <td>5385.0</td>\n",
       "      <td>-0.462107</td>\n",
       "      <td>2.628411e+06</td>\n",
       "      <td>5410.0</td>\n",
       "    </tr>\n",
       "    <tr>\n",
       "      <th>112</th>\n",
       "      <td>KRW-ARB</td>\n",
       "      <td>1485.0</td>\n",
       "      <td>-1.000000</td>\n",
       "      <td>5.193024e+06</td>\n",
       "      <td>1500.0</td>\n",
       "    </tr>\n",
       "    <tr>\n",
       "      <th>113</th>\n",
       "      <td>KRW-EGLD</td>\n",
       "      <td>46000.0</td>\n",
       "      <td>-1.772368</td>\n",
       "      <td>1.759833e+04</td>\n",
       "      <td>46830.0</td>\n",
       "    </tr>\n",
       "    <tr>\n",
       "      <th>114</th>\n",
       "      <td>KRW-SUI</td>\n",
       "      <td>1005.0</td>\n",
       "      <td>-1.951220</td>\n",
       "      <td>3.298711e+07</td>\n",
       "      <td>1025.0</td>\n",
       "    </tr>\n",
       "    <tr>\n",
       "      <th>115</th>\n",
       "      <td>KRW-GRT</td>\n",
       "      <td>150.0</td>\n",
       "      <td>0.671141</td>\n",
       "      <td>7.493353e+06</td>\n",
       "      <td>149.0</td>\n",
       "    </tr>\n",
       "  </tbody>\n",
       "</table>\n",
       "<p>116 rows × 5 columns</p>\n",
       "</div>"
      ],
      "text/plain": [
       "       ticker       price       rate        volume    p_close \n",
       "0     KRW-BTC  34930000.0  -0.062943  2.077795e+03  34952000.0\n",
       "1     KRW-ETH   2435000.0   0.205761  5.701626e+03   2430000.0\n",
       "2     KRW-NEO     11900.0   0.168350  6.900157e+05     11880.0\n",
       "3     KRW-MTL      1530.0 -10.263930  6.425983e+07      1705.0\n",
       "4     KRW-XRP       688.0  -0.145138  1.194747e+08       689.0\n",
       "..        ...         ...        ...           ...         ...\n",
       "111  KRW-MASK      5385.0  -0.462107  2.628411e+06      5410.0\n",
       "112   KRW-ARB      1485.0  -1.000000  5.193024e+06      1500.0\n",
       "113  KRW-EGLD     46000.0  -1.772368  1.759833e+04     46830.0\n",
       "114   KRW-SUI      1005.0  -1.951220  3.298711e+07      1025.0\n",
       "115   KRW-GRT       150.0   0.671141  7.493353e+06       149.0\n",
       "\n",
       "[116 rows x 5 columns]"
      ]
     },
     "execution_count": 188,
     "metadata": {},
     "output_type": "execute_result"
    }
   ],
   "source": [
    "df = pd.DataFrame(list_ohlcv, columns=[' ticker','price','rate','volume','p_close '] )\n",
    "df"
   ]
  },
  {
   "cell_type": "markdown",
   "id": "940b4e7c-cc05-48c2-9017-6c6ece13dc91",
   "metadata": {},
   "source": [
    "### 일봉 1/5/20/60/120 일 이동 평균선 조회"
   ]
  },
  {
   "cell_type": "code",
   "execution_count": 178,
   "id": "4a6da8db-65c4-4f68-877d-fe2b15c49694",
   "metadata": {
    "tags": []
   },
   "outputs": [
    {
     "name": "stdout",
     "output_type": "stream",
     "text": [
      "O-X-[  3]KRW-MTL   :메탈                                                           시가:      1700.00 목표가:     1734.00 현재가:     1535.00 -9.706% MDD(%): 41.946\n",
      "O-X-[  4]KRW-XRP   :리플                                                           시가:       688.00 목표가:      701.76 현재가:      689.00 0.145% MDD(%): 9.722\n"
     ]
    },
    {
     "ename": "KeyboardInterrupt",
     "evalue": "",
     "output_type": "error",
     "traceback": [
      "\u001b[1;31m---------------------------------------------------------------------------\u001b[0m",
      "\u001b[1;31mKeyboardInterrupt\u001b[0m                         Traceback (most recent call last)",
      "\u001b[1;32m~\\AppData\\Local\\Temp\\ipykernel_41608\\2446028816.py\u001b[0m in \u001b[0;36m<module>\u001b[1;34m\u001b[0m\n\u001b[0;32m    109\u001b[0m \u001b[1;33m\u001b[0m\u001b[0m\n\u001b[0;32m    110\u001b[0m     \u001b[0mdf_1d_c\u001b[0m\u001b[1;33m.\u001b[0m\u001b[0mto_excel\u001b[0m\u001b[1;33m(\u001b[0m\u001b[1;34m\"./candlestick_5_20_6-_120_1d.xlsx\"\u001b[0m\u001b[1;33m)\u001b[0m\u001b[1;33m\u001b[0m\u001b[1;33m\u001b[0m\u001b[0m\n\u001b[1;32m--> 111\u001b[1;33m     \u001b[0mdf_5m_c\u001b[0m\u001b[1;33m.\u001b[0m\u001b[0mto_excel\u001b[0m\u001b[1;33m(\u001b[0m\u001b[1;34m\"./candlestick_5_20_6-_120_5m.xlsx\"\u001b[0m\u001b[1;33m)\u001b[0m\u001b[1;33m\u001b[0m\u001b[1;33m\u001b[0m\u001b[0m\n\u001b[0m",
      "\u001b[1;32m~\\.conda\\envs\\test01\\lib\\site-packages\\pandas\\core\\generic.py\u001b[0m in \u001b[0;36mto_excel\u001b[1;34m(self, excel_writer, sheet_name, na_rep, float_format, columns, header, index, index_label, startrow, startcol, engine, merge_cells, encoding, inf_rep, verbose, freeze_panes, storage_options)\u001b[0m\n\u001b[0;32m   2289\u001b[0m             \u001b[0mfreeze_panes\u001b[0m\u001b[1;33m=\u001b[0m\u001b[0mfreeze_panes\u001b[0m\u001b[1;33m,\u001b[0m\u001b[1;33m\u001b[0m\u001b[1;33m\u001b[0m\u001b[0m\n\u001b[0;32m   2290\u001b[0m             \u001b[0mengine\u001b[0m\u001b[1;33m=\u001b[0m\u001b[0mengine\u001b[0m\u001b[1;33m,\u001b[0m\u001b[1;33m\u001b[0m\u001b[1;33m\u001b[0m\u001b[0m\n\u001b[1;32m-> 2291\u001b[1;33m             \u001b[0mstorage_options\u001b[0m\u001b[1;33m=\u001b[0m\u001b[0mstorage_options\u001b[0m\u001b[1;33m,\u001b[0m\u001b[1;33m\u001b[0m\u001b[1;33m\u001b[0m\u001b[0m\n\u001b[0m\u001b[0;32m   2292\u001b[0m         )\n\u001b[0;32m   2293\u001b[0m \u001b[1;33m\u001b[0m\u001b[0m\n",
      "\u001b[1;32m~\\.conda\\envs\\test01\\lib\\site-packages\\pandas\\io\\formats\\excel.py\u001b[0m in \u001b[0;36mwrite\u001b[1;34m(self, writer, sheet_name, startrow, startcol, freeze_panes, engine, storage_options)\u001b[0m\n\u001b[0;32m    848\u001b[0m             \u001b[1;31m# make sure to close opened file handles\u001b[0m\u001b[1;33m\u001b[0m\u001b[1;33m\u001b[0m\u001b[1;33m\u001b[0m\u001b[0m\n\u001b[0;32m    849\u001b[0m             \u001b[1;32mif\u001b[0m \u001b[0mneed_save\u001b[0m\u001b[1;33m:\u001b[0m\u001b[1;33m\u001b[0m\u001b[1;33m\u001b[0m\u001b[0m\n\u001b[1;32m--> 850\u001b[1;33m                 \u001b[0mwriter\u001b[0m\u001b[1;33m.\u001b[0m\u001b[0mclose\u001b[0m\u001b[1;33m(\u001b[0m\u001b[1;33m)\u001b[0m\u001b[1;33m\u001b[0m\u001b[1;33m\u001b[0m\u001b[0m\n\u001b[0m",
      "\u001b[1;32m~\\.conda\\envs\\test01\\lib\\site-packages\\pandas\\io\\excel\\_base.py\u001b[0m in \u001b[0;36mclose\u001b[1;34m(self)\u001b[0m\n\u001b[0;32m   1022\u001b[0m     \u001b[1;32mdef\u001b[0m \u001b[0mclose\u001b[0m\u001b[1;33m(\u001b[0m\u001b[0mself\u001b[0m\u001b[1;33m)\u001b[0m\u001b[1;33m:\u001b[0m\u001b[1;33m\u001b[0m\u001b[1;33m\u001b[0m\u001b[0m\n\u001b[0;32m   1023\u001b[0m         \u001b[1;34m\"\"\"synonym for save, to make it more file-like\"\"\"\u001b[0m\u001b[1;33m\u001b[0m\u001b[1;33m\u001b[0m\u001b[0m\n\u001b[1;32m-> 1024\u001b[1;33m         \u001b[0mcontent\u001b[0m \u001b[1;33m=\u001b[0m \u001b[0mself\u001b[0m\u001b[1;33m.\u001b[0m\u001b[0msave\u001b[0m\u001b[1;33m(\u001b[0m\u001b[1;33m)\u001b[0m\u001b[1;33m\u001b[0m\u001b[1;33m\u001b[0m\u001b[0m\n\u001b[0m\u001b[0;32m   1025\u001b[0m         \u001b[0mself\u001b[0m\u001b[1;33m.\u001b[0m\u001b[0mhandles\u001b[0m\u001b[1;33m.\u001b[0m\u001b[0mclose\u001b[0m\u001b[1;33m(\u001b[0m\u001b[1;33m)\u001b[0m\u001b[1;33m\u001b[0m\u001b[1;33m\u001b[0m\u001b[0m\n\u001b[0;32m   1026\u001b[0m         \u001b[1;32mreturn\u001b[0m \u001b[0mcontent\u001b[0m\u001b[1;33m\u001b[0m\u001b[1;33m\u001b[0m\u001b[0m\n",
      "\u001b[1;32m~\\.conda\\envs\\test01\\lib\\site-packages\\pandas\\io\\excel\\_openpyxl.py\u001b[0m in \u001b[0;36msave\u001b[1;34m(self)\u001b[0m\n\u001b[0;32m     78\u001b[0m         \u001b[0mSave\u001b[0m \u001b[0mworkbook\u001b[0m \u001b[0mto\u001b[0m \u001b[0mdisk\u001b[0m\u001b[1;33m.\u001b[0m\u001b[1;33m\u001b[0m\u001b[1;33m\u001b[0m\u001b[0m\n\u001b[0;32m     79\u001b[0m         \"\"\"\n\u001b[1;32m---> 80\u001b[1;33m         \u001b[0mself\u001b[0m\u001b[1;33m.\u001b[0m\u001b[0mbook\u001b[0m\u001b[1;33m.\u001b[0m\u001b[0msave\u001b[0m\u001b[1;33m(\u001b[0m\u001b[0mself\u001b[0m\u001b[1;33m.\u001b[0m\u001b[0mhandles\u001b[0m\u001b[1;33m.\u001b[0m\u001b[0mhandle\u001b[0m\u001b[1;33m)\u001b[0m\u001b[1;33m\u001b[0m\u001b[1;33m\u001b[0m\u001b[0m\n\u001b[0m\u001b[0;32m     81\u001b[0m         \u001b[1;32mif\u001b[0m \u001b[1;34m\"r+\"\u001b[0m \u001b[1;32min\u001b[0m \u001b[0mself\u001b[0m\u001b[1;33m.\u001b[0m\u001b[0mmode\u001b[0m \u001b[1;32mand\u001b[0m \u001b[1;32mnot\u001b[0m \u001b[0misinstance\u001b[0m\u001b[1;33m(\u001b[0m\u001b[0mself\u001b[0m\u001b[1;33m.\u001b[0m\u001b[0mhandles\u001b[0m\u001b[1;33m.\u001b[0m\u001b[0mhandle\u001b[0m\u001b[1;33m,\u001b[0m \u001b[0mmmap\u001b[0m\u001b[1;33m.\u001b[0m\u001b[0mmmap\u001b[0m\u001b[1;33m)\u001b[0m\u001b[1;33m:\u001b[0m\u001b[1;33m\u001b[0m\u001b[1;33m\u001b[0m\u001b[0m\n\u001b[0;32m     82\u001b[0m             \u001b[1;31m# truncate file to the written content\u001b[0m\u001b[1;33m\u001b[0m\u001b[1;33m\u001b[0m\u001b[1;33m\u001b[0m\u001b[0m\n",
      "\u001b[1;32m~\\.conda\\envs\\test01\\lib\\site-packages\\openpyxl\\workbook\\workbook.py\u001b[0m in \u001b[0;36msave\u001b[1;34m(self, filename)\u001b[0m\n\u001b[0;32m    384\u001b[0m         \u001b[1;32mif\u001b[0m \u001b[0mself\u001b[0m\u001b[1;33m.\u001b[0m\u001b[0mwrite_only\u001b[0m \u001b[1;32mand\u001b[0m \u001b[1;32mnot\u001b[0m \u001b[0mself\u001b[0m\u001b[1;33m.\u001b[0m\u001b[0mworksheets\u001b[0m\u001b[1;33m:\u001b[0m\u001b[1;33m\u001b[0m\u001b[1;33m\u001b[0m\u001b[0m\n\u001b[0;32m    385\u001b[0m             \u001b[0mself\u001b[0m\u001b[1;33m.\u001b[0m\u001b[0mcreate_sheet\u001b[0m\u001b[1;33m(\u001b[0m\u001b[1;33m)\u001b[0m\u001b[1;33m\u001b[0m\u001b[1;33m\u001b[0m\u001b[0m\n\u001b[1;32m--> 386\u001b[1;33m         \u001b[0msave_workbook\u001b[0m\u001b[1;33m(\u001b[0m\u001b[0mself\u001b[0m\u001b[1;33m,\u001b[0m \u001b[0mfilename\u001b[0m\u001b[1;33m)\u001b[0m\u001b[1;33m\u001b[0m\u001b[1;33m\u001b[0m\u001b[0m\n\u001b[0m\u001b[0;32m    387\u001b[0m \u001b[1;33m\u001b[0m\u001b[0m\n\u001b[0;32m    388\u001b[0m \u001b[1;33m\u001b[0m\u001b[0m\n",
      "\u001b[1;32m~\\.conda\\envs\\test01\\lib\\site-packages\\openpyxl\\writer\\excel.py\u001b[0m in \u001b[0;36msave_workbook\u001b[1;34m(workbook, filename)\u001b[0m\n\u001b[0;32m    292\u001b[0m     \u001b[0mworkbook\u001b[0m\u001b[1;33m.\u001b[0m\u001b[0mproperties\u001b[0m\u001b[1;33m.\u001b[0m\u001b[0mmodified\u001b[0m \u001b[1;33m=\u001b[0m \u001b[0mdatetime\u001b[0m\u001b[1;33m.\u001b[0m\u001b[0mdatetime\u001b[0m\u001b[1;33m.\u001b[0m\u001b[0mutcnow\u001b[0m\u001b[1;33m(\u001b[0m\u001b[1;33m)\u001b[0m\u001b[1;33m\u001b[0m\u001b[1;33m\u001b[0m\u001b[0m\n\u001b[0;32m    293\u001b[0m     \u001b[0mwriter\u001b[0m \u001b[1;33m=\u001b[0m \u001b[0mExcelWriter\u001b[0m\u001b[1;33m(\u001b[0m\u001b[0mworkbook\u001b[0m\u001b[1;33m,\u001b[0m \u001b[0marchive\u001b[0m\u001b[1;33m)\u001b[0m\u001b[1;33m\u001b[0m\u001b[1;33m\u001b[0m\u001b[0m\n\u001b[1;32m--> 294\u001b[1;33m     \u001b[0mwriter\u001b[0m\u001b[1;33m.\u001b[0m\u001b[0msave\u001b[0m\u001b[1;33m(\u001b[0m\u001b[1;33m)\u001b[0m\u001b[1;33m\u001b[0m\u001b[1;33m\u001b[0m\u001b[0m\n\u001b[0m\u001b[0;32m    295\u001b[0m     \u001b[1;32mreturn\u001b[0m \u001b[1;32mTrue\u001b[0m\u001b[1;33m\u001b[0m\u001b[1;33m\u001b[0m\u001b[0m\n",
      "\u001b[1;32m~\\.conda\\envs\\test01\\lib\\site-packages\\openpyxl\\writer\\excel.py\u001b[0m in \u001b[0;36msave\u001b[1;34m(self)\u001b[0m\n\u001b[0;32m    273\u001b[0m     \u001b[1;32mdef\u001b[0m \u001b[0msave\u001b[0m\u001b[1;33m(\u001b[0m\u001b[0mself\u001b[0m\u001b[1;33m)\u001b[0m\u001b[1;33m:\u001b[0m\u001b[1;33m\u001b[0m\u001b[1;33m\u001b[0m\u001b[0m\n\u001b[0;32m    274\u001b[0m         \u001b[1;34m\"\"\"Write data into the archive.\"\"\"\u001b[0m\u001b[1;33m\u001b[0m\u001b[1;33m\u001b[0m\u001b[0m\n\u001b[1;32m--> 275\u001b[1;33m         \u001b[0mself\u001b[0m\u001b[1;33m.\u001b[0m\u001b[0mwrite_data\u001b[0m\u001b[1;33m(\u001b[0m\u001b[1;33m)\u001b[0m\u001b[1;33m\u001b[0m\u001b[1;33m\u001b[0m\u001b[0m\n\u001b[0m\u001b[0;32m    276\u001b[0m         \u001b[0mself\u001b[0m\u001b[1;33m.\u001b[0m\u001b[0m_archive\u001b[0m\u001b[1;33m.\u001b[0m\u001b[0mclose\u001b[0m\u001b[1;33m(\u001b[0m\u001b[1;33m)\u001b[0m\u001b[1;33m\u001b[0m\u001b[1;33m\u001b[0m\u001b[0m\n\u001b[0;32m    277\u001b[0m \u001b[1;33m\u001b[0m\u001b[0m\n",
      "\u001b[1;32m~\\.conda\\envs\\test01\\lib\\site-packages\\openpyxl\\writer\\excel.py\u001b[0m in \u001b[0;36mwrite_data\u001b[1;34m(self)\u001b[0m\n\u001b[0;32m     75\u001b[0m             \u001b[0mself\u001b[0m\u001b[1;33m.\u001b[0m\u001b[0mmanifest\u001b[0m\u001b[1;33m.\u001b[0m\u001b[0mappend\u001b[0m\u001b[1;33m(\u001b[0m\u001b[0mcustom_override\u001b[0m\u001b[1;33m)\u001b[0m\u001b[1;33m\u001b[0m\u001b[1;33m\u001b[0m\u001b[0m\n\u001b[0;32m     76\u001b[0m \u001b[1;33m\u001b[0m\u001b[0m\n\u001b[1;32m---> 77\u001b[1;33m         \u001b[0mself\u001b[0m\u001b[1;33m.\u001b[0m\u001b[0m_write_worksheets\u001b[0m\u001b[1;33m(\u001b[0m\u001b[1;33m)\u001b[0m\u001b[1;33m\u001b[0m\u001b[1;33m\u001b[0m\u001b[0m\n\u001b[0m\u001b[0;32m     78\u001b[0m         \u001b[0mself\u001b[0m\u001b[1;33m.\u001b[0m\u001b[0m_write_chartsheets\u001b[0m\u001b[1;33m(\u001b[0m\u001b[1;33m)\u001b[0m\u001b[1;33m\u001b[0m\u001b[1;33m\u001b[0m\u001b[0m\n\u001b[0;32m     79\u001b[0m         \u001b[0mself\u001b[0m\u001b[1;33m.\u001b[0m\u001b[0m_write_images\u001b[0m\u001b[1;33m(\u001b[0m\u001b[1;33m)\u001b[0m\u001b[1;33m\u001b[0m\u001b[1;33m\u001b[0m\u001b[0m\n",
      "\u001b[1;32m~\\.conda\\envs\\test01\\lib\\site-packages\\openpyxl\\writer\\excel.py\u001b[0m in \u001b[0;36m_write_worksheets\u001b[1;34m(self)\u001b[0m\n\u001b[0;32m    213\u001b[0m \u001b[1;33m\u001b[0m\u001b[0m\n\u001b[0;32m    214\u001b[0m             \u001b[0mws\u001b[0m\u001b[1;33m.\u001b[0m\u001b[0m_id\u001b[0m \u001b[1;33m=\u001b[0m \u001b[0midx\u001b[0m\u001b[1;33m\u001b[0m\u001b[1;33m\u001b[0m\u001b[0m\n\u001b[1;32m--> 215\u001b[1;33m             \u001b[0mself\u001b[0m\u001b[1;33m.\u001b[0m\u001b[0mwrite_worksheet\u001b[0m\u001b[1;33m(\u001b[0m\u001b[0mws\u001b[0m\u001b[1;33m)\u001b[0m\u001b[1;33m\u001b[0m\u001b[1;33m\u001b[0m\u001b[0m\n\u001b[0m\u001b[0;32m    216\u001b[0m \u001b[1;33m\u001b[0m\u001b[0m\n\u001b[0;32m    217\u001b[0m             \u001b[1;32mif\u001b[0m \u001b[0mws\u001b[0m\u001b[1;33m.\u001b[0m\u001b[0m_drawing\u001b[0m\u001b[1;33m:\u001b[0m\u001b[1;33m\u001b[0m\u001b[1;33m\u001b[0m\u001b[0m\n",
      "\u001b[1;32m~\\.conda\\envs\\test01\\lib\\site-packages\\openpyxl\\writer\\excel.py\u001b[0m in \u001b[0;36mwrite_worksheet\u001b[1;34m(self, ws)\u001b[0m\n\u001b[0;32m    198\u001b[0m         \u001b[1;32melse\u001b[0m\u001b[1;33m:\u001b[0m\u001b[1;33m\u001b[0m\u001b[1;33m\u001b[0m\u001b[0m\n\u001b[0;32m    199\u001b[0m             \u001b[0mwriter\u001b[0m \u001b[1;33m=\u001b[0m \u001b[0mWorksheetWriter\u001b[0m\u001b[1;33m(\u001b[0m\u001b[0mws\u001b[0m\u001b[1;33m)\u001b[0m\u001b[1;33m\u001b[0m\u001b[1;33m\u001b[0m\u001b[0m\n\u001b[1;32m--> 200\u001b[1;33m             \u001b[0mwriter\u001b[0m\u001b[1;33m.\u001b[0m\u001b[0mwrite\u001b[0m\u001b[1;33m(\u001b[0m\u001b[1;33m)\u001b[0m\u001b[1;33m\u001b[0m\u001b[1;33m\u001b[0m\u001b[0m\n\u001b[0m\u001b[0;32m    201\u001b[0m \u001b[1;33m\u001b[0m\u001b[0m\n\u001b[0;32m    202\u001b[0m         \u001b[0mws\u001b[0m\u001b[1;33m.\u001b[0m\u001b[0m_rels\u001b[0m \u001b[1;33m=\u001b[0m \u001b[0mwriter\u001b[0m\u001b[1;33m.\u001b[0m\u001b[0m_rels\u001b[0m\u001b[1;33m\u001b[0m\u001b[1;33m\u001b[0m\u001b[0m\n",
      "\u001b[1;32m~\\.conda\\envs\\test01\\lib\\site-packages\\openpyxl\\worksheet\\_writer.py\u001b[0m in \u001b[0;36mwrite\u001b[1;34m(self)\u001b[0m\n\u001b[0;32m    357\u001b[0m         \"\"\"\n\u001b[0;32m    358\u001b[0m         \u001b[0mself\u001b[0m\u001b[1;33m.\u001b[0m\u001b[0mwrite_top\u001b[0m\u001b[1;33m(\u001b[0m\u001b[1;33m)\u001b[0m\u001b[1;33m\u001b[0m\u001b[1;33m\u001b[0m\u001b[0m\n\u001b[1;32m--> 359\u001b[1;33m         \u001b[0mself\u001b[0m\u001b[1;33m.\u001b[0m\u001b[0mwrite_rows\u001b[0m\u001b[1;33m(\u001b[0m\u001b[1;33m)\u001b[0m\u001b[1;33m\u001b[0m\u001b[1;33m\u001b[0m\u001b[0m\n\u001b[0m\u001b[0;32m    360\u001b[0m         \u001b[0mself\u001b[0m\u001b[1;33m.\u001b[0m\u001b[0mwrite_tail\u001b[0m\u001b[1;33m(\u001b[0m\u001b[1;33m)\u001b[0m\u001b[1;33m\u001b[0m\u001b[1;33m\u001b[0m\u001b[0m\n\u001b[0;32m    361\u001b[0m         \u001b[0mself\u001b[0m\u001b[1;33m.\u001b[0m\u001b[0mclose\u001b[0m\u001b[1;33m(\u001b[0m\u001b[1;33m)\u001b[0m\u001b[1;33m\u001b[0m\u001b[1;33m\u001b[0m\u001b[0m\n",
      "\u001b[1;32m~\\.conda\\envs\\test01\\lib\\site-packages\\openpyxl\\worksheet\\_writer.py\u001b[0m in \u001b[0;36mwrite_rows\u001b[1;34m(self)\u001b[0m\n\u001b[0;32m    122\u001b[0m \u001b[1;33m\u001b[0m\u001b[0m\n\u001b[0;32m    123\u001b[0m         \u001b[1;32mwith\u001b[0m \u001b[0mxf\u001b[0m\u001b[1;33m.\u001b[0m\u001b[0melement\u001b[0m\u001b[1;33m(\u001b[0m\u001b[1;34m\"sheetData\"\u001b[0m\u001b[1;33m)\u001b[0m\u001b[1;33m:\u001b[0m\u001b[1;33m\u001b[0m\u001b[1;33m\u001b[0m\u001b[0m\n\u001b[1;32m--> 124\u001b[1;33m             \u001b[1;32mfor\u001b[0m \u001b[0mrow_idx\u001b[0m\u001b[1;33m,\u001b[0m \u001b[0mrow\u001b[0m \u001b[1;32min\u001b[0m \u001b[0mself\u001b[0m\u001b[1;33m.\u001b[0m\u001b[0mrows\u001b[0m\u001b[1;33m(\u001b[0m\u001b[1;33m)\u001b[0m\u001b[1;33m:\u001b[0m\u001b[1;33m\u001b[0m\u001b[1;33m\u001b[0m\u001b[0m\n\u001b[0m\u001b[0;32m    125\u001b[0m                 \u001b[0mself\u001b[0m\u001b[1;33m.\u001b[0m\u001b[0mwrite_row\u001b[0m\u001b[1;33m(\u001b[0m\u001b[0mxf\u001b[0m\u001b[1;33m,\u001b[0m \u001b[0mrow\u001b[0m\u001b[1;33m,\u001b[0m \u001b[0mrow_idx\u001b[0m\u001b[1;33m)\u001b[0m\u001b[1;33m\u001b[0m\u001b[1;33m\u001b[0m\u001b[0m\n\u001b[0;32m    126\u001b[0m \u001b[1;33m\u001b[0m\u001b[0m\n",
      "\u001b[1;32m~\\.conda\\envs\\test01\\lib\\site-packages\\openpyxl\\worksheet\\_writer.py\u001b[0m in \u001b[0;36mrows\u001b[1;34m(self)\u001b[0m\n\u001b[0;32m    108\u001b[0m         \u001b[1;31m# order cells by row\u001b[0m\u001b[1;33m\u001b[0m\u001b[1;33m\u001b[0m\u001b[1;33m\u001b[0m\u001b[0m\n\u001b[0;32m    109\u001b[0m         \u001b[0mrows\u001b[0m \u001b[1;33m=\u001b[0m \u001b[0mdefaultdict\u001b[0m\u001b[1;33m(\u001b[0m\u001b[0mlist\u001b[0m\u001b[1;33m)\u001b[0m\u001b[1;33m\u001b[0m\u001b[1;33m\u001b[0m\u001b[0m\n\u001b[1;32m--> 110\u001b[1;33m         \u001b[1;32mfor\u001b[0m \u001b[1;33m(\u001b[0m\u001b[0mrow\u001b[0m\u001b[1;33m,\u001b[0m \u001b[0mcol\u001b[0m\u001b[1;33m)\u001b[0m\u001b[1;33m,\u001b[0m \u001b[0mcell\u001b[0m \u001b[1;32min\u001b[0m \u001b[0msorted\u001b[0m\u001b[1;33m(\u001b[0m\u001b[0mself\u001b[0m\u001b[1;33m.\u001b[0m\u001b[0mws\u001b[0m\u001b[1;33m.\u001b[0m\u001b[0m_cells\u001b[0m\u001b[1;33m.\u001b[0m\u001b[0mitems\u001b[0m\u001b[1;33m(\u001b[0m\u001b[1;33m)\u001b[0m\u001b[1;33m)\u001b[0m\u001b[1;33m:\u001b[0m\u001b[1;33m\u001b[0m\u001b[1;33m\u001b[0m\u001b[0m\n\u001b[0m\u001b[0;32m    111\u001b[0m             \u001b[0mrows\u001b[0m\u001b[1;33m[\u001b[0m\u001b[0mrow\u001b[0m\u001b[1;33m]\u001b[0m\u001b[1;33m.\u001b[0m\u001b[0mappend\u001b[0m\u001b[1;33m(\u001b[0m\u001b[0mcell\u001b[0m\u001b[1;33m)\u001b[0m\u001b[1;33m\u001b[0m\u001b[1;33m\u001b[0m\u001b[0m\n\u001b[0;32m    112\u001b[0m \u001b[1;33m\u001b[0m\u001b[0m\n",
      "\u001b[1;31mKeyboardInterrupt\u001b[0m: "
     ]
    }
   ],
   "source": [
    "iter_no=0\n",
    "for idx, row in df_tickers.iterrows():\n",
    "    cur_ticker = row['ticker']\n",
    "    iter_no += 1\n",
    "\n",
    "    #  일봉 데이터 ( 120일 + 그 이전 120일 = 240일 )\n",
    "    df_1d = pyupbit.get_ohlcv(cur_ticker, interval=\"day\", count=120+120)  \n",
    "    \n",
    "    # ticker, ticker_name \n",
    "    df_1d.insert(0, 'ticker', cur_ticker)\n",
    "    df_1d.insert(1, 'ticker_name', dict_tickers[cur_ticker])\n",
    "\n",
    "    #  5분 데이터 ( 120*5분 + 그 이전 120*5분  = 5시간 )\n",
    "    df_5m = pyupbit.get_ohlcv(cur_ticker, interval=\"minute5\", count=120+120)  \n",
    "    \n",
    "    df_5m.insert(0, 'ticker', cur_ticker)\n",
    "    df_5m.insert(1, 'ticker_name', dict_tickers[cur_ticker])\n",
    "    \n",
    "    \n",
    "    # 코인의 현재가,  당일 시, 목표가\n",
    "    now_price  = pyupbit.get_current_price(cur_ticker)   # 코인의 현재가\n",
    "    open_price = df_1d['open'][-1]                       # 당일 시가 구하기\n",
    "    buy_target_price = open_price + (open_price * 0.02)  # 목표가 = 당일 시가 보다 2프로 이상 상승 금액\n",
    "    \n",
    "    # 일봉 이동평균 값 구하기\n",
    "    df_1d['ma_1']   = df_1d['close']\n",
    "    df_1d['ma_5']   = df_1d['close'].rolling(window=5).mean()\n",
    "    df_1d['ma_20']  = df_1d['close'].rolling(window=20).mean()\n",
    "    df_1d['ma_60']  = df_1d['close'].rolling(window=60).mean()\n",
    "    df_1d['ma_120'] = df_1d['close'].rolling(window=120).mean()\n",
    "    \n",
    "    # 일봉 이동평균 값 구하기\n",
    "    df_5m['ma_1']   = df_5m['close']\n",
    "    df_5m['ma_5']   = df_5m['close'].rolling(window=5).mean()\n",
    "    df_5m['ma_20']  = df_5m['close'].rolling(window=20).mean()\n",
    "    df_5m['ma_60']  = df_5m['close'].rolling(window=60).mean()\n",
    "    df_5m['ma_120'] = df_5m['close'].rolling(window=120).mean()\n",
    "    \n",
    "    \n",
    "    # 변동폭 * k 계산, (고가 - 저가) * k값\n",
    "    df_1d['range'] = (df_1d['high'] - df_1d['low']) * 0.5\n",
    "    \n",
    "    # target(매수가), range 컬럼을 한칸씩 밑으로 내림(.shift(1))\n",
    "    df_1d['target'] = df_1d['open'] + df_1d['range'].shift(1)\n",
    "    \n",
    "    # ror(수익률), np.where(조건문, 참일때 값, 거짓일때 값)\n",
    "    df_1d['ror'] = np.where(df_1d['high'] > df_1d['target'],\n",
    "                         df_1d['close'] / df_1d['target'],\n",
    "                         1)\n",
    "    \n",
    "    # 누적 곱 계산(cumprod) => 누적 수익률\n",
    "    df_1d['hpr'] = df_1d['ror'].cumprod()\n",
    "    \n",
    "    # Draw Down 계산 (누적 최대 값과 현재 hpr 차이 / 누적 최대값 * 100)\n",
    "    df_1d['dd'] = (df_1d['hpr'].cummax() - df_1d['hpr']) / df_1d['hpr'].cummax() * 100\n",
    "    \n",
    "    \n",
    "    '''MDD(Maximum Draw Down)란?\n",
    "    일정기간 동안 최고점과 최저점을 비율로 계산한 값\n",
    "    - MDD값이 높다 = 주식 가격이 위아래로 출렁이며 파도친다 = 변동성이 심한 주식\n",
    "    - MDD값이 낮다 = 주식 가격이 일정하다 = 변동성이 적 은주식\n",
    "    한국어로는 최대 낙폭이라고 부른다.\n",
    "    또 다른 말로는 스트레스 지수라고도 부른다 (주식 가격이 출렁일수록 스트레스가 높다)\n",
    "    MDD값은 본인의 투자성향과 관계가 있습니다. 본인이 변동성이 심한 주식에 투자하고 싶은지, (공격적)\n",
    "\n",
    "    아니면 변동성이 적은 주식에 투자하고싶은지 (안정적)에 따라서 다르게 보일 것입니다.\n",
    "    항상 하이리스크 하이리턴입니다. 큰 위험을 감수할수록 큰 리턴을 받을 수 있습니다. \n",
    "\n",
    "    * MDD(최대 낙폭) 계산법 \n",
    "    \n",
    "    MMDD = 최고점가격-최저점가격/ 최고점가격 * 100\n",
    "    '''\n",
    "\n",
    "    #MDD 계산\n",
    "    #print(\"MDD(%): \", df['dd'].max())\n",
    " \n",
    "    # 이동 평균선 정배열 / 목표가보다 현재가 보다 높을 경우 매수\n",
    "    #if curr_ma20 >= curr_ma60 and curr_ma60 >= curr_ma120 and buy_target_price <= now_price:\n",
    "    #    # 50만원치 매수\n",
    "    #    volume = round(500000 / now_price * 0.995, 4)\n",
    "    #    #buy_order(ticker, volume)\n",
    "    \n",
    "    df_1d['buy'] = ((df_1d['ma_20'] >= df_1d['ma_60']) & (df_1d['ma_60'] >= df_1d['ma_120']) & (buy_target_price <= now_price))\n",
    "    df_1d['buy'] = ((now_price >= df_1d['ma_20']) & (now_price >= df_1d['ma_60']) )\n",
    "    \n",
    "    ckeck_1d_buy = df_1d['buy'][-1]\n",
    "\n",
    "    df_5m['buy'] = ((df_5m['ma_20'] >= df_5m['ma_60']) & (df_5m['ma_60'] >= df_5m['ma_120']) & (buy_target_price <= now_price))\n",
    "    df_5m['buy'] = ((now_price >= df_5m['ma_20']) & (now_price >= df_5m['ma_60']) )    \n",
    "\n",
    "    ckeck_5m_buy = df_5m['buy'][-1]\n",
    "    \n",
    "    \n",
    "    # 일봉 데이터 ( 120일 이동평균만 생성 )\n",
    "    df_1d = df_1d[120:]\n",
    "\n",
    "    # 일봉 데이터 ( 120일 이동평균만 생성 )\n",
    "    df_5m = df_5m[120:]\n",
    "   \n",
    "    if ckeck_1d_buy==True: \n",
    "       print(f'{\"O\" if ckeck_1d_buy==True else \"X\"}-{\"O\" if ckeck_5m_buy==True else \"X\"}-[{idx:3d}]{cur_ticker:10s}:{dict_tickers[cur_ticker]:60s} 시가: {open_price:12.2f} 목표가:{buy_target_price:12.2f} 현재가:{now_price:12.2f} {(now_price-open_price)/open_price*100:2.3f}% MDD(%): {df_1d[\"dd\"].max():2.3f}')\n",
    "    \n",
    "    if iter_no==1:\n",
    "       df_1d_c = df_1d\n",
    "       df_5m_c = df_5m\n",
    "    else:\n",
    "       df_1d_c = pd.concat([df_1d_c, df_1d], axis=0 )\n",
    "       df_5m_c = pd.concat([df_5m_c, df_5m], axis=0 )\n",
    "    \n",
    "    df_1d_c.to_excel(\"./candlestick_5_20_6-_120_1d.xlsx\")\n",
    "    df_5m_c.to_excel(\"./candlestick_5_20_6-_120_5m.xlsx\")"
   ]
  },
  {
   "cell_type": "code",
   "execution_count": null,
   "id": "2441ab74-4f6e-41d9-b73a-4d89807563e2",
   "metadata": {
    "tags": []
   },
   "outputs": [],
   "source": [
    "df_1d_c\n"
   ]
  },
  {
   "cell_type": "code",
   "execution_count": null,
   "id": "0a525a82-c0eb-4ce4-b984-3238cdfbb867",
   "metadata": {
    "tags": []
   },
   "outputs": [],
   "source": [
    "df_5m_c"
   ]
  },
  {
   "cell_type": "code",
   "execution_count": null,
   "id": "779e4d7c-7502-4b78-bf31-3de2bb42239b",
   "metadata": {
    "tags": []
   },
   "outputs": [],
   "source": [
    "df_1d_c['ticker'].value_counts()"
   ]
  },
  {
   "cell_type": "code",
   "execution_count": null,
   "id": "4ba54f7d-1531-4aef-8526-d04bfc15c774",
   "metadata": {
    "tags": []
   },
   "outputs": [],
   "source": [
    "len(df_1d_c)/120"
   ]
  },
  {
   "cell_type": "code",
   "execution_count": null,
   "id": "72ed16e3-eb4e-4924-bc87-9d719bd3e5df",
   "metadata": {
    "tags": []
   },
   "outputs": [],
   "source": [
    "df_1d_c[['ticker','ticker_name','close']].groupby(by=['ticker','ticker_name']).max()"
   ]
  },
  {
   "cell_type": "code",
   "execution_count": null,
   "id": "6af60185-e652-47fc-ba90-ff1c82bc192e",
   "metadata": {
    "tags": []
   },
   "outputs": [],
   "source": [
    "df_1d_c[(df_1d_c['ticker']=='KRW-BTC')][['ticker','ticker_name','close']].groupby(by=['ticker','ticker_name']).max()"
   ]
  },
  {
   "cell_type": "code",
   "execution_count": null,
   "id": "b3afb3d2-9a81-4392-9989-a43cff63db9c",
   "metadata": {
    "tags": []
   },
   "outputs": [],
   "source": [
    "for idx, row in df_tickers.iterrows():\n",
    "    cur_ticker = row['ticker']\n",
    "    # 한글 폰트 지정\n",
    "    font_name = font_manager.FontProperties(fname=\"c:/Windows/Fonts/malgun.ttf\").get_name() # gulim.ttc\n",
    "    rc('font', family=font_name) \n",
    "    \n",
    "    fig, ax = plt.subplots(figsize=(12,8))\n",
    "    fig.set_facecolor('white')\n",
    "    \n",
    "    #  일봉 데이터 ( 120일 + 그 이전 120일 = 240일 )\n",
    "    df = pyupbit.get_ohlcv(cur_ticker, interval=\"day\", count=120+120)  \n",
    "    \n",
    "    # ticker, ticker_name \n",
    "    df.insert(0, 'ticker', cur_ticker)\n",
    "    df.insert(1, 'ticker_name', dict_tickers[cur_ticker])\n",
    "    \n",
    "    # 코인의 현재가,  당일 시, 목표가\n",
    "    now_price  = pyupbit.get_current_price(cur_ticker)   # 코인의 현재가\n",
    "    open_price = df['open'][-1]                          # 당일 시가 구하기\n",
    "    buy_target_price = open_price + (open_price * 0.02)  # 목표가 = 당일 시가 보다 2프로 이상 상승 금액\n",
    "    \n",
    "    # 이동평균 값 구하기\n",
    "    df['ma_1']   = df['close']\n",
    "    df['ma_5']   = df['close'].rolling(window=5).mean()\n",
    "    df['ma_20']  = df['close'].rolling(window=20).mean()\n",
    "    df['ma_60']  = df['close'].rolling(window=60).mean()\n",
    "    df['ma_120'] = df['close'].rolling(window=120).mean()\n",
    "    \n",
    "    # 변동폭 * k 계산, (고가 - 저가) * k값\n",
    "    df['range'] = (df['high'] - df['low']) * 0.5\n",
    "    \n",
    "    # target(매수가), range 컬럼을 한칸씩 밑으로 내림(.shift(1))\n",
    "    df['target'] = df['open'] + df['range'].shift(1)\n",
    "    \n",
    "    # ror(수익률), np.where(조건문, 참일때 값, 거짓일때 값)\n",
    "    df['ror'] = np.where(df['high'] > df['target'],\n",
    "                         df['close'] / df['target'],\n",
    "                         1)\n",
    "    \n",
    "    # 누적 곱 계산(cumprod) => 누적 수익률\n",
    "    df['hpr'] = df['ror'].cumprod()\n",
    "    \n",
    "    # Draw Down 계산 (누적 최대 값과 현재 hpr 차이 / 누적 최대값 * 100)\n",
    "    df['dd'] = (df['hpr'].cummax() - df['hpr']) / df['hpr'].cummax() * 100\n",
    "    \n",
    "    #MDD 계산\n",
    "    #print(\"MDD(%): \", df['dd'].max())\n",
    " \n",
    "    # 이동 평균선 정배열 / 목표가보다 현재가 보다 높을 경우 매수\n",
    "    #if curr_ma20 >= curr_ma60 and curr_ma60 >= curr_ma120 and buy_target_price <= now_price:\n",
    "    #    # 50만원치 매수\n",
    "    #    volume = round(500000 / now_price * 0.995, 4)\n",
    "    #    #buy_order(ticker, volume)\n",
    "    df['buy'] = ((df['ma_20'] >= df['ma_60']) & (df['ma_60'] >= df['ma_120']) & (buy_target_price <= now_price))\n",
    "    \n",
    "    ckeck_buy = df['buy'][-1]\n",
    "    \n",
    "    # 일봉 데이터 ( 120일 이동평균만 생성 )\n",
    "    df = df[120:]\n",
    "    \n",
    "    # x-축 날짜\n",
    "    xdate = df.index.astype('str')\n",
    "    #for i in range(len(xdate)):\n",
    "    #  xdate[i] = xdate[i][2:] # 2020-01-01 => 20-01-01\n",
    "    \n",
    "    # 종가 및 5,20,60,120일 이동평균\n",
    "    ax.plot(xdate, df['ma_1'] ,   label=\"종가\",      linewidth=0.7, color='k')\n",
    "    ax.plot(xdate, df['ma_5'],   label=\"평균5일\",   linewidth=0.7)\n",
    "    ax.plot(xdate, df['ma_20'],  label=\"평균20일\",  linewidth=0.7)\n",
    "    ax.plot(xdate, df['ma_60'],  label=\"평균60일\",  linewidth=0.7)\n",
    "    ax.plot(xdate, df['ma_120'], label=\"평균120일\", linewidth=0.7)\n",
    "    candlestick2_ohlc(ax,df['open'],df['high'],df['low'],df['close'], width=0.5, colorup='r', colordown='b')\n",
    "        \n",
    "    fig.suptitle(f\"[{idx}]{cur_ticker}:{dict_tickers[cur_ticker]}-{'O' if ckeck_buy==True else 'X' }\")  #  캔들 스택 차트 예시\n",
    "    ax.set_xlabel(\"날짜\",fontsize=8)\n",
    "    ax.set_ylabel(\"주가(원)\",fontsize=8) \n",
    "    ax.xaxis.set_major_locator(ticker.MaxNLocator(25)) # x-축에 보일 ticker 개수 ~20개이면 1달\n",
    "    ax.legend(loc=0,fontsize=8) # legend 위치\n",
    "    plt.xticks(rotation = 76,fontsize=8) # x-축 글씨 45도 회전\n",
    "    \n",
    "    # ax.text(1, 1, f'현재가: {now_price}')\n",
    "    print(f'시가: {open_price} 목표가:{buy_target_price} 현재가:{now_price:10.2f} {(now_price-open_price)/open_price*100:2.3f}% MDD(%): {df[\"dd\"].max()}')\n",
    "    \n",
    "    plt.grid() # 그리드 표시\n",
    "    plt.show()\n",
    "    \n",
    "    fig.savefig('./candlestick_5_20_6-_120.png',dpi=800)\n",
    "    #엑셀로 출력\n",
    "    df.to_excel(\"./candlestick_5_20_6-_120.xlsx\")"
   ]
  },
  {
   "cell_type": "code",
   "execution_count": null,
   "id": "48fee175-f3b6-4075-8867-17d992ad83c2",
   "metadata": {
    "tags": []
   },
   "outputs": [],
   "source": [
    "'O' if ckeck_buy==True else 'X' "
   ]
  },
  {
   "cell_type": "markdown",
   "id": "983da197-18b3-4cdc-9bab-2defdbd0d188",
   "metadata": {},
   "source": [
    "### 기타 추가"
   ]
  },
  {
   "cell_type": "code",
   "execution_count": null,
   "id": "60d1261a-4295-49ab-9d23-d23c051aa965",
   "metadata": {
    "tags": []
   },
   "outputs": [],
   "source": [
    "def dt(date):\n",
    "    return date.strftime(\"%H:%M\")  #(\"%m/%d/%Y, %H:%M:%S\")\n",
    "\n",
    "start_date = datetime(2023,4,1).strftime('%Y-%m-%d')\n",
    "end_date   = datetime(2023,4,30).strftime('%Y-%m-%d')\n",
    "    \n",
    "df = fdr.DataReader('068270', start_date, end_date) ## 셀트리온 데이터\n",
    "df.head()"
   ]
  },
  {
   "cell_type": "code",
   "execution_count": null,
   "id": "e77a99a1-bf45-41ab-a9c6-ca0be9413d76",
   "metadata": {},
   "outputs": [],
   "source": []
  }
 ],
 "metadata": {
  "kernelspec": {
   "display_name": "test01",
   "language": "python",
   "name": "test01"
  },
  "language_info": {
   "codemirror_mode": {
    "name": "ipython",
    "version": 3
   },
   "file_extension": ".py",
   "mimetype": "text/x-python",
   "name": "python",
   "nbconvert_exporter": "python",
   "pygments_lexer": "ipython3",
   "version": "3.7.16"
  }
 },
 "nbformat": 4,
 "nbformat_minor": 5
}
