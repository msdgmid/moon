{
 "cells": [
  {
   "cell_type": "markdown",
   "id": "d95d9301-b270-49fa-b3cd-10f7811ea8b0",
   "metadata": {},
   "source": [
    "# sharebook-kr/pyupbit"
   ]
  },
  {
   "cell_type": "markdown",
   "id": "6a08c2c9-b87f-45a8-82ef-8ff95b7d9d30",
   "metadata": {},
   "source": [
    "### https://github.com/sharebook-kr/pyupbit"
   ]
  },
  {
   "cell_type": "code",
   "execution_count": 1,
   "id": "5f50e7c8-f46c-47f8-b392-f643e1a4101d",
   "metadata": {
    "tags": []
   },
   "outputs": [],
   "source": [
    "#!pip install pyupbit\n",
    "# !pip install pyjwt"
   ]
  },
  {
   "cell_type": "code",
   "execution_count": 2,
   "id": "b95a6a0a-490b-408c-8a47-2adc83645a3c",
   "metadata": {
    "tags": []
   },
   "outputs": [],
   "source": [
    "import pyupbit"
   ]
  },
  {
   "cell_type": "raw",
   "id": "d9c49efd-ce62-4735-9b9f-4292cbb1bd2a",
   "metadata": {
    "tags": []
   },
   "source": [
    "'KRW-XRP' 리플\n",
    "'KRW-BTC' 비트코인\n",
    "'KRW-DOGE' 도지코인\n",
    "'KRW-ETH' 이더리움"
   ]
  },
  {
   "cell_type": "markdown",
   "id": "747482ff-d9a7-46ef-b9c3-5b0a5a028339",
   "metadata": {},
   "source": [
    "## 암호화폐 목록\n",
    "get_tickers 함수는 업비트가 지원하는 모든 암호화폐 목록을 얻어옵니다."
   ]
  },
  {
   "cell_type": "code",
   "execution_count": 3,
   "id": "ba7fec05-ce1d-43b6-b74b-21ea7b65771d",
   "metadata": {
    "tags": []
   },
   "outputs": [
    {
     "name": "stdout",
     "output_type": "stream",
     "text": [
      "['KRW-BTC', 'KRW-ETH', 'BTC-ETH', 'BTC-XRP', 'BTC-ETC', 'BTC-CVC', 'BTC-DGB', 'BTC-SC', 'BTC-SNT', 'BTC-WAVES', 'BTC-NMR', 'BTC-XEM', 'BTC-QTUM', 'BTC-BAT', 'BTC-LSK', 'BTC-STEEM', 'BTC-DOGE', 'BTC-BNT', 'BTC-XLM', 'BTC-ARDR', 'BTC-ARK', 'BTC-STORJ', 'BTC-GRS', 'BTC-REP', 'BTC-RLC', 'USDT-BTC', 'USDT-ETH', 'USDT-XRP', 'USDT-ETC', 'KRW-NEO', 'KRW-MTL', 'KRW-XRP', 'KRW-ETC', 'KRW-SNT', 'KRW-WAVES', 'KRW-XEM', 'KRW-QTUM', 'KRW-LSK', 'KRW-STEEM', 'KRW-XLM', 'KRW-ARDR', 'KRW-ARK', 'KRW-STORJ', 'KRW-GRS', 'KRW-REP', 'KRW-ADA', 'BTC-ADA', 'BTC-MANA', 'KRW-SBD', 'BTC-SBD', 'KRW-POWR', 'BTC-POWR', 'KRW-BTG', 'USDT-ADA', 'BTC-DNT', 'BTC-ZRX', 'BTC-TRX', 'BTC-TUSD', 'BTC-LRC', 'KRW-ICX', 'KRW-EOS', 'USDT-TUSD', 'KRW-TRX', 'BTC-POLYX', 'USDT-SC', 'USDT-TRX', 'KRW-SC', 'KRW-ONT', 'KRW-ZIL', 'KRW-POLYX', 'KRW-ZRX', 'KRW-LOOM', 'BTC-BCH', 'USDT-BCH', 'KRW-BCH', 'BTC-HIFI', 'BTC-LOOM', 'KRW-BAT', 'KRW-IOST', 'BTC-RFR', 'KRW-RFR', 'USDT-DGB', 'KRW-CVC', 'KRW-IQ', 'KRW-IOTA', 'BTC-RVN', 'BTC-GO', 'BTC-UPP', 'BTC-ENJ', 'KRW-HIFI', 'KRW-ONG', 'KRW-GAS', 'BTC-MTL', 'KRW-UPP', 'KRW-ELF', 'USDT-DOGE', 'USDT-ZRX', 'USDT-RVN', 'USDT-BAT', 'KRW-KNC', 'BTC-MOC', 'BTC-ZIL', 'KRW-BSV', 'BTC-BSV', 'BTC-IOST', 'KRW-THETA', 'BTC-DENT', 'KRW-QKC', 'BTC-ELF', 'KRW-BTT', 'BTC-IOTX', 'BTC-SOLVE', 'BTC-NKN', 'BTC-META', 'KRW-MOC', 'BTC-ANKR', 'BTC-CRO', 'KRW-ENJ', 'KRW-TFUEL', 'KRW-MANA', 'KRW-ANKR', 'BTC-ORBS', 'BTC-AERGO', 'KRW-AERGO', 'KRW-ATOM', 'KRW-TT', 'KRW-CRE', 'BTC-ATOM', 'BTC-STPT', 'KRW-MBL', 'BTC-EOS', 'BTC-DAI', 'BTC-MKR', 'BTC-BORA', 'KRW-WAXP', 'BTC-WAXP', 'KRW-HBAR', 'KRW-MED', 'BTC-MED', 'BTC-MLK', 'KRW-MLK', 'KRW-STPT', 'BTC-VET', 'KRW-ORBS', 'BTC-CHZ', 'KRW-VET', 'BTC-FX', 'BTC-OGN', 'KRW-CHZ', 'BTC-XTZ', 'BTC-HIVE', 'BTC-HBD', 'BTC-OBSR', 'BTC-DKA', 'KRW-STMX', 'BTC-STMX', 'BTC-AHT', 'KRW-DKA', 'BTC-LINK', 'KRW-HIVE', 'KRW-KAVA', 'BTC-KAVA', 'KRW-AHT', 'KRW-LINK', 'KRW-XTZ', 'KRW-BORA', 'BTC-JST', 'BTC-CHR', 'BTC-DAD', 'BTC-TON', 'KRW-JST', 'BTC-CTSI', 'BTC-DOT', 'KRW-CRO', 'BTC-COMP', 'BTC-SXP', 'BTC-HUNT', 'KRW-TON', 'BTC-ONIT', 'BTC-CRV', 'BTC-ALGO', 'BTC-RSR', 'KRW-SXP', 'BTC-OXT', 'BTC-PLA', 'KRW-HUNT', 'BTC-MARO', 'BTC-SAND', 'BTC-SUN', 'KRW-PLA', 'KRW-DOT', 'BTC-QTCON', 'BTC-MVL', 'KRW-MVL', 'BTC-REI', 'BTC-AQT', 'BTC-AXS', 'BTC-STRAX', 'KRW-STRAX', 'KRW-AQT', 'BTC-GLM', 'KRW-GLM', 'BTC-FCT2', 'BTC-SSX', 'KRW-SSX', 'KRW-META', 'KRW-FCT2', 'BTC-FIL', 'BTC-UNI', 'BTC-INJ', 'BTC-PROM', 'BTC-VAL', 'BTC-PSG', 'BTC-JUV', 'BTC-CBK', 'BTC-FOR', 'KRW-CBK', 'BTC-BFC', 'BTC-LINA', 'BTC-HUM', 'BTC-CELO', 'KRW-SAND', 'KRW-HUM', 'BTC-IQ', 'BTC-STX', 'KRW-DOGE', 'BTC-NEAR', 'BTC-AUCTION', 'BTC-DAWN', 'BTC-FLOW', 'BTC-STRK', 'KRW-STRK', 'BTC-PUNDIX', 'KRW-PUNDIX', 'KRW-FLOW', 'KRW-DAWN', 'KRW-AXS', 'KRW-STX', 'BTC-GRT', 'BTC-SNX', 'BTC-USDP', 'KRW-XEC', 'KRW-SOL', 'BTC-SOL', 'KRW-MATIC', 'BTC-MATIC', 'KRW-AAVE', 'KRW-1INCH', 'BTC-AAVE', 'BTC-1INCH', 'BTC-MASK', 'KRW-ALGO', 'BTC-AUDIO', 'KRW-NEAR', 'BTC-YGG', 'BTC-GTC', 'BTC-OCEAN', 'BTC-CTC', 'BTC-LPT', 'KRW-AVAX', 'BTC-AVAX', 'BTC-IMX', 'BTC-RNDR', 'BTC-RLY', 'KRW-T', 'BTC-T', 'KRW-CELO', 'BTC-RAD', 'BTC-AGLD', 'BTC-API3', 'BTC-ARPA', 'BTC-ENS', 'KRW-GMT', 'BTC-GMT', 'BTC-APE', 'BTC-RAY', 'KRW-APT', 'BTC-APT', 'BTC-ACM', 'BTC-AFC', 'BTC-ATM', 'BTC-BAR', 'BTC-CITY', 'BTC-INTER', 'BTC-NAP', 'KRW-SHIB', 'BTC-GAL', 'BTC-ASTR', 'BTC-BLUR', 'KRW-MASK', 'BTC-ACS', 'BTC-MAGIC', 'KRW-ARB', 'BTC-ARB', 'KRW-EGLD', 'BTC-EGLD', 'KRW-SUI', 'BTC-SUI']\n"
     ]
    }
   ],
   "source": [
    "print(pyupbit.get_tickers())"
   ]
  },
  {
   "cell_type": "code",
   "execution_count": 4,
   "id": "7680820d-73c0-4741-80b0-efb93e35cb6c",
   "metadata": {
    "tags": []
   },
   "outputs": [
    {
     "name": "stdout",
     "output_type": "stream",
     "text": [
      "['KRW-BTC', 'KRW-ETH', 'KRW-NEO', 'KRW-MTL', 'KRW-XRP', 'KRW-ETC', 'KRW-SNT', 'KRW-WAVES', 'KRW-XEM', 'KRW-QTUM', 'KRW-LSK', 'KRW-STEEM', 'KRW-XLM', 'KRW-ARDR', 'KRW-ARK', 'KRW-STORJ', 'KRW-GRS', 'KRW-REP', 'KRW-ADA', 'KRW-SBD', 'KRW-POWR', 'KRW-BTG', 'KRW-ICX', 'KRW-EOS', 'KRW-TRX', 'KRW-SC', 'KRW-ONT', 'KRW-ZIL', 'KRW-POLYX', 'KRW-ZRX', 'KRW-LOOM', 'KRW-BCH', 'KRW-BAT', 'KRW-IOST', 'KRW-RFR', 'KRW-CVC', 'KRW-IQ', 'KRW-IOTA', 'KRW-HIFI', 'KRW-ONG', 'KRW-GAS', 'KRW-UPP', 'KRW-ELF', 'KRW-KNC', 'KRW-BSV', 'KRW-THETA', 'KRW-QKC', 'KRW-BTT', 'KRW-MOC', 'KRW-ENJ', 'KRW-TFUEL', 'KRW-MANA', 'KRW-ANKR', 'KRW-AERGO', 'KRW-ATOM', 'KRW-TT', 'KRW-CRE', 'KRW-MBL', 'KRW-WAXP', 'KRW-HBAR', 'KRW-MED', 'KRW-MLK', 'KRW-STPT', 'KRW-ORBS', 'KRW-VET', 'KRW-CHZ', 'KRW-STMX', 'KRW-DKA', 'KRW-HIVE', 'KRW-KAVA', 'KRW-AHT', 'KRW-LINK', 'KRW-XTZ', 'KRW-BORA', 'KRW-JST', 'KRW-CRO', 'KRW-TON', 'KRW-SXP', 'KRW-HUNT', 'KRW-PLA', 'KRW-DOT', 'KRW-MVL', 'KRW-STRAX', 'KRW-AQT', 'KRW-GLM', 'KRW-SSX', 'KRW-META', 'KRW-FCT2', 'KRW-CBK', 'KRW-SAND', 'KRW-HUM', 'KRW-DOGE', 'KRW-STRK', 'KRW-PUNDIX', 'KRW-FLOW', 'KRW-DAWN', 'KRW-AXS', 'KRW-STX', 'KRW-XEC', 'KRW-SOL', 'KRW-MATIC', 'KRW-AAVE', 'KRW-1INCH', 'KRW-ALGO', 'KRW-NEAR', 'KRW-AVAX', 'KRW-T', 'KRW-CELO', 'KRW-GMT', 'KRW-APT', 'KRW-SHIB', 'KRW-MASK', 'KRW-ARB', 'KRW-EGLD', 'KRW-SUI']\n"
     ]
    }
   ],
   "source": [
    "# 업비트가 지원하는 암호화폐 목록 중 특정 시장(fiat)에 매매가 가능한 목록만 얻어올 수 있습니다. \n",
    "# KRW/BTC/USDT 시장을 조회할 수 있습니다.\n",
    "\n",
    "print(pyupbit.get_tickers(fiat=\"KRW\"))"
   ]
  },
  {
   "cell_type": "markdown",
   "id": "e4fedd36-ab0f-4db5-acad-913a574d40f3",
   "metadata": {},
   "source": [
    "### ticker Name 가져오기"
   ]
  },
  {
   "cell_type": "code",
   "execution_count": 5,
   "id": "337e951c-675e-4e88-abe7-8def7f2434f4",
   "metadata": {
    "tags": []
   },
   "outputs": [
    {
     "data": {
      "text/html": [
       "<div>\n",
       "<style scoped>\n",
       "    .dataframe tbody tr th:only-of-type {\n",
       "        vertical-align: middle;\n",
       "    }\n",
       "\n",
       "    .dataframe tbody tr th {\n",
       "        vertical-align: top;\n",
       "    }\n",
       "\n",
       "    .dataframe thead th {\n",
       "        text-align: right;\n",
       "    }\n",
       "</style>\n",
       "<table border=\"1\" class=\"dataframe\">\n",
       "  <thead>\n",
       "    <tr style=\"text-align: right;\">\n",
       "      <th></th>\n",
       "      <th>ticker</th>\n",
       "      <th>ticker_name</th>\n",
       "      <th>ticker_ename</th>\n",
       "    </tr>\n",
       "  </thead>\n",
       "  <tbody>\n",
       "    <tr>\n",
       "      <th>0</th>\n",
       "      <td>KRW-BTC</td>\n",
       "      <td>비트코인</td>\n",
       "      <td>Bitcoin</td>\n",
       "    </tr>\n",
       "    <tr>\n",
       "      <th>1</th>\n",
       "      <td>KRW-ETH</td>\n",
       "      <td>이더리움</td>\n",
       "      <td>Ethereum</td>\n",
       "    </tr>\n",
       "    <tr>\n",
       "      <th>2</th>\n",
       "      <td>KRW-NEO</td>\n",
       "      <td>네오</td>\n",
       "      <td>NEO</td>\n",
       "    </tr>\n",
       "    <tr>\n",
       "      <th>3</th>\n",
       "      <td>KRW-MTL</td>\n",
       "      <td>메탈</td>\n",
       "      <td>Metal</td>\n",
       "    </tr>\n",
       "    <tr>\n",
       "      <th>4</th>\n",
       "      <td>KRW-XRP</td>\n",
       "      <td>리플</td>\n",
       "      <td>Ripple</td>\n",
       "    </tr>\n",
       "    <tr>\n",
       "      <th>...</th>\n",
       "      <td>...</td>\n",
       "      <td>...</td>\n",
       "      <td>...</td>\n",
       "    </tr>\n",
       "    <tr>\n",
       "      <th>110</th>\n",
       "      <td>KRW-SHIB</td>\n",
       "      <td>시바이누</td>\n",
       "      <td>Shiba Inu</td>\n",
       "    </tr>\n",
       "    <tr>\n",
       "      <th>111</th>\n",
       "      <td>KRW-MASK</td>\n",
       "      <td>마스크네트워크</td>\n",
       "      <td>Mask Network</td>\n",
       "    </tr>\n",
       "    <tr>\n",
       "      <th>112</th>\n",
       "      <td>KRW-ARB</td>\n",
       "      <td>아비트럼</td>\n",
       "      <td>Arbitrum</td>\n",
       "    </tr>\n",
       "    <tr>\n",
       "      <th>113</th>\n",
       "      <td>KRW-EGLD</td>\n",
       "      <td>멀티버스엑스</td>\n",
       "      <td>MultiversX</td>\n",
       "    </tr>\n",
       "    <tr>\n",
       "      <th>114</th>\n",
       "      <td>KRW-SUI</td>\n",
       "      <td>수이</td>\n",
       "      <td>Sui</td>\n",
       "    </tr>\n",
       "  </tbody>\n",
       "</table>\n",
       "<p>115 rows × 3 columns</p>\n",
       "</div>"
      ],
      "text/plain": [
       "       ticker ticker_name  ticker_ename\n",
       "0     KRW-BTC        비트코인       Bitcoin\n",
       "1     KRW-ETH        이더리움      Ethereum\n",
       "2     KRW-NEO          네오           NEO\n",
       "3     KRW-MTL          메탈         Metal\n",
       "4     KRW-XRP          리플        Ripple\n",
       "..        ...         ...           ...\n",
       "110  KRW-SHIB        시바이누     Shiba Inu\n",
       "111  KRW-MASK     마스크네트워크  Mask Network\n",
       "112   KRW-ARB        아비트럼      Arbitrum\n",
       "113  KRW-EGLD      멀티버스엑스    MultiversX\n",
       "114   KRW-SUI          수이           Sui\n",
       "\n",
       "[115 rows x 3 columns]"
      ]
     },
     "execution_count": 5,
     "metadata": {},
     "output_type": "execute_result"
    }
   ],
   "source": [
    "import pandas as pd\n",
    "tickers = pyupbit.get_tickers(fiat='KRW', verbose=True)\n",
    "df_tickers = pd.DataFrame(tickers)\n",
    "df_tickers.rename(columns = {'market' : 'ticker','korean_name' : 'ticker_name','english_name' : 'ticker_ename'}, inplace = True)\n",
    "df_tickers"
   ]
  },
  {
   "cell_type": "code",
   "execution_count": 6,
   "id": "832ea84f-774c-4f4f-b206-e88396c34563",
   "metadata": {
    "tags": []
   },
   "outputs": [
    {
     "data": {
      "text/html": [
       "<div>\n",
       "<style scoped>\n",
       "    .dataframe tbody tr th:only-of-type {\n",
       "        vertical-align: middle;\n",
       "    }\n",
       "\n",
       "    .dataframe tbody tr th {\n",
       "        vertical-align: top;\n",
       "    }\n",
       "\n",
       "    .dataframe thead th {\n",
       "        text-align: right;\n",
       "    }\n",
       "</style>\n",
       "<table border=\"1\" class=\"dataframe\">\n",
       "  <thead>\n",
       "    <tr style=\"text-align: right;\">\n",
       "      <th></th>\n",
       "      <th>ticker</th>\n",
       "      <th>ticker_name</th>\n",
       "      <th>ticker_ename</th>\n",
       "    </tr>\n",
       "  </thead>\n",
       "  <tbody>\n",
       "    <tr>\n",
       "      <th>112</th>\n",
       "      <td>KRW-ARB</td>\n",
       "      <td>아비트럼</td>\n",
       "      <td>Arbitrum</td>\n",
       "    </tr>\n",
       "  </tbody>\n",
       "</table>\n",
       "</div>"
      ],
      "text/plain": [
       "      ticker ticker_name ticker_ename\n",
       "112  KRW-ARB        아비트럼     Arbitrum"
      ]
     },
     "execution_count": 6,
     "metadata": {},
     "output_type": "execute_result"
    }
   ],
   "source": [
    "df_tickers[df_tickers['ticker_name'].str.contains(\"아비트럼\")]"
   ]
  },
  {
   "cell_type": "code",
   "execution_count": 7,
   "id": "880c38fb-427a-410d-a140-21ae104deed8",
   "metadata": {
    "tags": []
   },
   "outputs": [],
   "source": [
    "interest_ticker_name = ['비트코인','이더리움','도지코인','리플','아비트럼']"
   ]
  },
  {
   "cell_type": "code",
   "execution_count": 8,
   "id": "52f72f02-fcd1-4288-8637-484f927a6403",
   "metadata": {
    "tags": []
   },
   "outputs": [
    {
     "data": {
      "text/html": [
       "<div>\n",
       "<style scoped>\n",
       "    .dataframe tbody tr th:only-of-type {\n",
       "        vertical-align: middle;\n",
       "    }\n",
       "\n",
       "    .dataframe tbody tr th {\n",
       "        vertical-align: top;\n",
       "    }\n",
       "\n",
       "    .dataframe thead th {\n",
       "        text-align: right;\n",
       "    }\n",
       "</style>\n",
       "<table border=\"1\" class=\"dataframe\">\n",
       "  <thead>\n",
       "    <tr style=\"text-align: right;\">\n",
       "      <th></th>\n",
       "      <th>ticker</th>\n",
       "      <th>ticker_name</th>\n",
       "      <th>ticker_ename</th>\n",
       "    </tr>\n",
       "  </thead>\n",
       "  <tbody>\n",
       "    <tr>\n",
       "      <th>0</th>\n",
       "      <td>KRW-BTC</td>\n",
       "      <td>비트코인</td>\n",
       "      <td>Bitcoin</td>\n",
       "    </tr>\n",
       "    <tr>\n",
       "      <th>1</th>\n",
       "      <td>KRW-ETH</td>\n",
       "      <td>이더리움</td>\n",
       "      <td>Ethereum</td>\n",
       "    </tr>\n",
       "    <tr>\n",
       "      <th>4</th>\n",
       "      <td>KRW-XRP</td>\n",
       "      <td>리플</td>\n",
       "      <td>Ripple</td>\n",
       "    </tr>\n",
       "    <tr>\n",
       "      <th>91</th>\n",
       "      <td>KRW-DOGE</td>\n",
       "      <td>도지코인</td>\n",
       "      <td>Dogecoin</td>\n",
       "    </tr>\n",
       "    <tr>\n",
       "      <th>112</th>\n",
       "      <td>KRW-ARB</td>\n",
       "      <td>아비트럼</td>\n",
       "      <td>Arbitrum</td>\n",
       "    </tr>\n",
       "  </tbody>\n",
       "</table>\n",
       "</div>"
      ],
      "text/plain": [
       "       ticker ticker_name ticker_ename\n",
       "0     KRW-BTC        비트코인      Bitcoin\n",
       "1     KRW-ETH        이더리움     Ethereum\n",
       "4     KRW-XRP          리플       Ripple\n",
       "91   KRW-DOGE        도지코인     Dogecoin\n",
       "112   KRW-ARB        아비트럼     Arbitrum"
      ]
     },
     "execution_count": 8,
     "metadata": {},
     "output_type": "execute_result"
    }
   ],
   "source": [
    "df_interest_tickers = df_tickers[(df_tickers['ticker_name'].isin(interest_ticker_name))]\n",
    "df_interest_tickers"
   ]
  },
  {
   "cell_type": "code",
   "execution_count": 9,
   "id": "77a067a1-148b-4a43-8b57-1b9bed1a4f9f",
   "metadata": {
    "tags": []
   },
   "outputs": [
    {
     "data": {
      "text/plain": [
       "(['KRW-BTC', 'KRW-ETH', 'KRW-XRP', 'KRW-DOGE', 'KRW-ARB'],\n",
       " ['비트코인', '이더리움', '리플', '도지코인', '아비트럼'])"
      ]
     },
     "execution_count": 9,
     "metadata": {},
     "output_type": "execute_result"
    }
   ],
   "source": [
    "interest_tickers = df_interest_tickers['ticker'].tolist()\n",
    "interest_tickers_name = df_interest_tickers['ticker_name'].tolist()\n",
    "interest_tickers, interest_tickers_name"
   ]
  },
  {
   "cell_type": "markdown",
   "id": "f172dfc3-307e-4881-aaf9-cfa70f9eafce",
   "metadata": {},
   "source": [
    "## 최근 체결가격\n",
    "get_current_price 함수는 암호화폐의 현재가를 얻어옵니다. 함수로 티커를 넣어줘야 합니다."
   ]
  },
  {
   "cell_type": "code",
   "execution_count": 10,
   "id": "b3f18ef5-c168-44aa-85c8-da188543078f",
   "metadata": {
    "tags": []
   },
   "outputs": [
    {
     "name": "stdout",
     "output_type": "stream",
     "text": [
      "35826000.0\n"
     ]
    }
   ],
   "source": [
    "# print(pyupbit.get_current_price(\"KRW-BTC\"))\n",
    "print(pyupbit.get_current_price(interest_tickers[0]))"
   ]
  },
  {
   "cell_type": "markdown",
   "id": "0faed55e-fb78-43c9-9034-0d6ab6f5b5d6",
   "metadata": {},
   "source": [
    "리스트에 여러 개의 티커를 입력해 한 번에 현재가를 조회할 수 있습니다."
   ]
  },
  {
   "cell_type": "code",
   "execution_count": 11,
   "id": "6141b3de-f5ee-429d-9f19-f68307491437",
   "metadata": {
    "tags": []
   },
   "outputs": [
    {
     "data": {
      "text/html": [
       "<div>\n",
       "<style scoped>\n",
       "    .dataframe tbody tr th:only-of-type {\n",
       "        vertical-align: middle;\n",
       "    }\n",
       "\n",
       "    .dataframe tbody tr th {\n",
       "        vertical-align: top;\n",
       "    }\n",
       "\n",
       "    .dataframe thead th {\n",
       "        text-align: right;\n",
       "    }\n",
       "</style>\n",
       "<table border=\"1\" class=\"dataframe\">\n",
       "  <thead>\n",
       "    <tr style=\"text-align: right;\">\n",
       "      <th></th>\n",
       "      <th>0</th>\n",
       "      <th>1</th>\n",
       "    </tr>\n",
       "  </thead>\n",
       "  <tbody>\n",
       "    <tr>\n",
       "      <th>0</th>\n",
       "      <td>KRW-BTC</td>\n",
       "      <td>35826000.0</td>\n",
       "    </tr>\n",
       "    <tr>\n",
       "      <th>1</th>\n",
       "      <td>KRW-ETH</td>\n",
       "      <td>2435000.0</td>\n",
       "    </tr>\n",
       "    <tr>\n",
       "      <th>2</th>\n",
       "      <td>KRW-XRP</td>\n",
       "      <td>609.0</td>\n",
       "    </tr>\n",
       "    <tr>\n",
       "      <th>3</th>\n",
       "      <td>KRW-DOGE</td>\n",
       "      <td>95.4</td>\n",
       "    </tr>\n",
       "    <tr>\n",
       "      <th>4</th>\n",
       "      <td>KRW-ARB</td>\n",
       "      <td>1500.0</td>\n",
       "    </tr>\n",
       "  </tbody>\n",
       "</table>\n",
       "</div>"
      ],
      "text/plain": [
       "          0           1\n",
       "0   KRW-BTC  35826000.0\n",
       "1   KRW-ETH   2435000.0\n",
       "2   KRW-XRP       609.0\n",
       "3  KRW-DOGE        95.4\n",
       "4   KRW-ARB      1500.0"
      ]
     },
     "execution_count": 11,
     "metadata": {},
     "output_type": "execute_result"
    }
   ],
   "source": [
    "df_ticker_price = pd.DataFrame(list(pyupbit.get_current_price(interest_tickers).items()))\n",
    "df_ticker_price"
   ]
  },
  {
   "cell_type": "code",
   "execution_count": 12,
   "id": "ba52d0c3-f973-43cd-baa0-1253622df568",
   "metadata": {
    "tags": []
   },
   "outputs": [
    {
     "data": {
      "text/html": [
       "<div>\n",
       "<style scoped>\n",
       "    .dataframe tbody tr th:only-of-type {\n",
       "        vertical-align: middle;\n",
       "    }\n",
       "\n",
       "    .dataframe tbody tr th {\n",
       "        vertical-align: top;\n",
       "    }\n",
       "\n",
       "    .dataframe thead th {\n",
       "        text-align: right;\n",
       "    }\n",
       "</style>\n",
       "<table border=\"1\" class=\"dataframe\">\n",
       "  <thead>\n",
       "    <tr style=\"text-align: right;\">\n",
       "      <th></th>\n",
       "      <th>ticker</th>\n",
       "      <th>price</th>\n",
       "    </tr>\n",
       "  </thead>\n",
       "  <tbody>\n",
       "    <tr>\n",
       "      <th>0</th>\n",
       "      <td>KRW-BTC</td>\n",
       "      <td>35826000.0</td>\n",
       "    </tr>\n",
       "    <tr>\n",
       "      <th>1</th>\n",
       "      <td>KRW-ETH</td>\n",
       "      <td>2435000.0</td>\n",
       "    </tr>\n",
       "    <tr>\n",
       "      <th>2</th>\n",
       "      <td>KRW-XRP</td>\n",
       "      <td>609.0</td>\n",
       "    </tr>\n",
       "    <tr>\n",
       "      <th>3</th>\n",
       "      <td>KRW-DOGE</td>\n",
       "      <td>95.4</td>\n",
       "    </tr>\n",
       "    <tr>\n",
       "      <th>4</th>\n",
       "      <td>KRW-ARB</td>\n",
       "      <td>1500.0</td>\n",
       "    </tr>\n",
       "  </tbody>\n",
       "</table>\n",
       "</div>"
      ],
      "text/plain": [
       "     ticker       price\n",
       "0   KRW-BTC  35826000.0\n",
       "1   KRW-ETH   2435000.0\n",
       "2   KRW-XRP       609.0\n",
       "3  KRW-DOGE        95.4\n",
       "4   KRW-ARB      1500.0"
      ]
     },
     "execution_count": 12,
     "metadata": {},
     "output_type": "execute_result"
    }
   ],
   "source": [
    "df_ticker_price.rename(columns = {0 : 'ticker',1 : 'price'}, inplace = True)\n",
    "df_ticker_price"
   ]
  },
  {
   "cell_type": "code",
   "execution_count": 13,
   "id": "01a26932-151d-41b3-bc5f-3d2f61da7062",
   "metadata": {
    "tags": []
   },
   "outputs": [
    {
     "name": "stdout",
     "output_type": "stream",
     "text": [
      "{'KRW-BTC': 35827000.0, 'KRW-ETH': 2435000.0, 'KRW-XRP': 609.0, 'KRW-DOGE': 95.4, 'KRW-ARB': 1500.0}\n"
     ]
    }
   ],
   "source": [
    "# print(pyupbit.get_current_price([\"KRW-BTC\", \"KRW-XRP\"]))\n",
    "print(pyupbit.get_current_price(interest_tickers))"
   ]
  },
  {
   "cell_type": "markdown",
   "id": "43dcb5d7-9036-4769-a347-8b084c567092",
   "metadata": {},
   "source": [
    "차트 데이터\n",
    "get_ohlcv 함수는 고가/시가/저가/종가/거래량을 DataFrame으로 반환합니다."
   ]
  },
  {
   "cell_type": "code",
   "execution_count": 14,
   "id": "403d3178-a0fe-4997-98e3-9d7dd52d4cac",
   "metadata": {
    "tags": []
   },
   "outputs": [
    {
     "data": {
      "text/html": [
       "<div>\n",
       "<style scoped>\n",
       "    .dataframe tbody tr th:only-of-type {\n",
       "        vertical-align: middle;\n",
       "    }\n",
       "\n",
       "    .dataframe tbody tr th {\n",
       "        vertical-align: top;\n",
       "    }\n",
       "\n",
       "    .dataframe thead th {\n",
       "        text-align: right;\n",
       "    }\n",
       "</style>\n",
       "<table border=\"1\" class=\"dataframe\">\n",
       "  <thead>\n",
       "    <tr style=\"text-align: right;\">\n",
       "      <th></th>\n",
       "      <th>open</th>\n",
       "      <th>high</th>\n",
       "      <th>low</th>\n",
       "      <th>close</th>\n",
       "      <th>volume</th>\n",
       "      <th>value</th>\n",
       "    </tr>\n",
       "  </thead>\n",
       "  <tbody>\n",
       "    <tr>\n",
       "      <th>2022-11-06 09:00:00</th>\n",
       "      <td>29756000.0</td>\n",
       "      <td>29869000.0</td>\n",
       "      <td>29400000.0</td>\n",
       "      <td>29473000.0</td>\n",
       "      <td>3135.465388</td>\n",
       "      <td>9.305541e+10</td>\n",
       "    </tr>\n",
       "    <tr>\n",
       "      <th>2022-11-07 09:00:00</th>\n",
       "      <td>29470000.0</td>\n",
       "      <td>29658000.0</td>\n",
       "      <td>28790000.0</td>\n",
       "      <td>28945000.0</td>\n",
       "      <td>5212.344719</td>\n",
       "      <td>1.521590e+11</td>\n",
       "    </tr>\n",
       "    <tr>\n",
       "      <th>2022-11-08 09:00:00</th>\n",
       "      <td>28945000.0</td>\n",
       "      <td>29020000.0</td>\n",
       "      <td>25842000.0</td>\n",
       "      <td>26650000.0</td>\n",
       "      <td>21680.492361</td>\n",
       "      <td>5.947722e+11</td>\n",
       "    </tr>\n",
       "    <tr>\n",
       "      <th>2022-11-09 09:00:00</th>\n",
       "      <td>26652000.0</td>\n",
       "      <td>26832000.0</td>\n",
       "      <td>22564000.0</td>\n",
       "      <td>22919000.0</td>\n",
       "      <td>22296.852651</td>\n",
       "      <td>5.527159e+11</td>\n",
       "    </tr>\n",
       "    <tr>\n",
       "      <th>2022-11-10 09:00:00</th>\n",
       "      <td>22924000.0</td>\n",
       "      <td>25120000.0</td>\n",
       "      <td>22840000.0</td>\n",
       "      <td>24779000.0</td>\n",
       "      <td>20710.252778</td>\n",
       "      <td>4.980172e+11</td>\n",
       "    </tr>\n",
       "    <tr>\n",
       "      <th>...</th>\n",
       "      <td>...</td>\n",
       "      <td>...</td>\n",
       "      <td>...</td>\n",
       "      <td>...</td>\n",
       "      <td>...</td>\n",
       "      <td>...</td>\n",
       "    </tr>\n",
       "    <tr>\n",
       "      <th>2023-05-20 09:00:00</th>\n",
       "      <td>36156000.0</td>\n",
       "      <td>36475000.0</td>\n",
       "      <td>36119000.0</td>\n",
       "      <td>36385000.0</td>\n",
       "      <td>1174.320819</td>\n",
       "      <td>4.256180e+10</td>\n",
       "    </tr>\n",
       "    <tr>\n",
       "      <th>2023-05-21 09:00:00</th>\n",
       "      <td>36404000.0</td>\n",
       "      <td>36618000.0</td>\n",
       "      <td>36048000.0</td>\n",
       "      <td>36051000.0</td>\n",
       "      <td>1573.059469</td>\n",
       "      <td>5.715309e+10</td>\n",
       "    </tr>\n",
       "    <tr>\n",
       "      <th>2023-05-22 09:00:00</th>\n",
       "      <td>36057000.0</td>\n",
       "      <td>36200000.0</td>\n",
       "      <td>35709000.0</td>\n",
       "      <td>35947000.0</td>\n",
       "      <td>2597.921922</td>\n",
       "      <td>9.332619e+10</td>\n",
       "    </tr>\n",
       "    <tr>\n",
       "      <th>2023-05-23 09:00:00</th>\n",
       "      <td>35947000.0</td>\n",
       "      <td>36660000.0</td>\n",
       "      <td>35841000.0</td>\n",
       "      <td>36381000.0</td>\n",
       "      <td>2510.275788</td>\n",
       "      <td>9.128479e+10</td>\n",
       "    </tr>\n",
       "    <tr>\n",
       "      <th>2023-05-24 09:00:00</th>\n",
       "      <td>36382000.0</td>\n",
       "      <td>36430000.0</td>\n",
       "      <td>35800000.0</td>\n",
       "      <td>35827000.0</td>\n",
       "      <td>2386.603936</td>\n",
       "      <td>8.600023e+10</td>\n",
       "    </tr>\n",
       "  </tbody>\n",
       "</table>\n",
       "<p>200 rows × 6 columns</p>\n",
       "</div>"
      ],
      "text/plain": [
       "                           open        high         low       close  \\\n",
       "2022-11-06 09:00:00  29756000.0  29869000.0  29400000.0  29473000.0   \n",
       "2022-11-07 09:00:00  29470000.0  29658000.0  28790000.0  28945000.0   \n",
       "2022-11-08 09:00:00  28945000.0  29020000.0  25842000.0  26650000.0   \n",
       "2022-11-09 09:00:00  26652000.0  26832000.0  22564000.0  22919000.0   \n",
       "2022-11-10 09:00:00  22924000.0  25120000.0  22840000.0  24779000.0   \n",
       "...                         ...         ...         ...         ...   \n",
       "2023-05-20 09:00:00  36156000.0  36475000.0  36119000.0  36385000.0   \n",
       "2023-05-21 09:00:00  36404000.0  36618000.0  36048000.0  36051000.0   \n",
       "2023-05-22 09:00:00  36057000.0  36200000.0  35709000.0  35947000.0   \n",
       "2023-05-23 09:00:00  35947000.0  36660000.0  35841000.0  36381000.0   \n",
       "2023-05-24 09:00:00  36382000.0  36430000.0  35800000.0  35827000.0   \n",
       "\n",
       "                           volume         value  \n",
       "2022-11-06 09:00:00   3135.465388  9.305541e+10  \n",
       "2022-11-07 09:00:00   5212.344719  1.521590e+11  \n",
       "2022-11-08 09:00:00  21680.492361  5.947722e+11  \n",
       "2022-11-09 09:00:00  22296.852651  5.527159e+11  \n",
       "2022-11-10 09:00:00  20710.252778  4.980172e+11  \n",
       "...                           ...           ...  \n",
       "2023-05-20 09:00:00   1174.320819  4.256180e+10  \n",
       "2023-05-21 09:00:00   1573.059469  5.715309e+10  \n",
       "2023-05-22 09:00:00   2597.921922  9.332619e+10  \n",
       "2023-05-23 09:00:00   2510.275788  9.128479e+10  \n",
       "2023-05-24 09:00:00   2386.603936  8.600023e+10  \n",
       "\n",
       "[200 rows x 6 columns]"
      ]
     },
     "execution_count": 14,
     "metadata": {},
     "output_type": "execute_result"
    }
   ],
   "source": [
    "df = pyupbit.get_ohlcv(\"KRW-BTC\")\n",
    "df"
   ]
  },
  {
   "cell_type": "markdown",
   "id": "0aad08b0-d66c-4795-af5f-ff1f628931b3",
   "metadata": {
    "tags": []
   },
   "source": [
    "count 파라미터는 조회 갯수를 지정합니다. 최근 영업일 부터 이전 count만큼의 이전 영업일까지 조회합니다. count 파라미터를 입력하지 않을 경우 default value는 200입니다."
   ]
  },
  {
   "cell_type": "code",
   "execution_count": 15,
   "id": "a1913c20-b808-4851-8440-a44cc5a31dc0",
   "metadata": {
    "tags": []
   },
   "outputs": [
    {
     "data": {
      "text/html": [
       "<div>\n",
       "<style scoped>\n",
       "    .dataframe tbody tr th:only-of-type {\n",
       "        vertical-align: middle;\n",
       "    }\n",
       "\n",
       "    .dataframe tbody tr th {\n",
       "        vertical-align: top;\n",
       "    }\n",
       "\n",
       "    .dataframe thead th {\n",
       "        text-align: right;\n",
       "    }\n",
       "</style>\n",
       "<table border=\"1\" class=\"dataframe\">\n",
       "  <thead>\n",
       "    <tr style=\"text-align: right;\">\n",
       "      <th></th>\n",
       "      <th>open</th>\n",
       "      <th>high</th>\n",
       "      <th>low</th>\n",
       "      <th>close</th>\n",
       "      <th>volume</th>\n",
       "      <th>value</th>\n",
       "    </tr>\n",
       "  </thead>\n",
       "  <tbody>\n",
       "    <tr>\n",
       "      <th>2023-05-20 09:00:00</th>\n",
       "      <td>36156000.0</td>\n",
       "      <td>36475000.0</td>\n",
       "      <td>36119000.0</td>\n",
       "      <td>36385000.0</td>\n",
       "      <td>1174.320819</td>\n",
       "      <td>4.256180e+10</td>\n",
       "    </tr>\n",
       "    <tr>\n",
       "      <th>2023-05-21 09:00:00</th>\n",
       "      <td>36404000.0</td>\n",
       "      <td>36618000.0</td>\n",
       "      <td>36048000.0</td>\n",
       "      <td>36051000.0</td>\n",
       "      <td>1573.059469</td>\n",
       "      <td>5.715309e+10</td>\n",
       "    </tr>\n",
       "    <tr>\n",
       "      <th>2023-05-22 09:00:00</th>\n",
       "      <td>36057000.0</td>\n",
       "      <td>36200000.0</td>\n",
       "      <td>35709000.0</td>\n",
       "      <td>35947000.0</td>\n",
       "      <td>2597.921922</td>\n",
       "      <td>9.332619e+10</td>\n",
       "    </tr>\n",
       "    <tr>\n",
       "      <th>2023-05-23 09:00:00</th>\n",
       "      <td>35947000.0</td>\n",
       "      <td>36660000.0</td>\n",
       "      <td>35841000.0</td>\n",
       "      <td>36381000.0</td>\n",
       "      <td>2510.275788</td>\n",
       "      <td>9.128479e+10</td>\n",
       "    </tr>\n",
       "    <tr>\n",
       "      <th>2023-05-24 09:00:00</th>\n",
       "      <td>36382000.0</td>\n",
       "      <td>36430000.0</td>\n",
       "      <td>35800000.0</td>\n",
       "      <td>35824000.0</td>\n",
       "      <td>2386.606136</td>\n",
       "      <td>8.600031e+10</td>\n",
       "    </tr>\n",
       "  </tbody>\n",
       "</table>\n",
       "</div>"
      ],
      "text/plain": [
       "                           open        high         low       close  \\\n",
       "2023-05-20 09:00:00  36156000.0  36475000.0  36119000.0  36385000.0   \n",
       "2023-05-21 09:00:00  36404000.0  36618000.0  36048000.0  36051000.0   \n",
       "2023-05-22 09:00:00  36057000.0  36200000.0  35709000.0  35947000.0   \n",
       "2023-05-23 09:00:00  35947000.0  36660000.0  35841000.0  36381000.0   \n",
       "2023-05-24 09:00:00  36382000.0  36430000.0  35800000.0  35824000.0   \n",
       "\n",
       "                          volume         value  \n",
       "2023-05-20 09:00:00  1174.320819  4.256180e+10  \n",
       "2023-05-21 09:00:00  1573.059469  5.715309e+10  \n",
       "2023-05-22 09:00:00  2597.921922  9.332619e+10  \n",
       "2023-05-23 09:00:00  2510.275788  9.128479e+10  \n",
       "2023-05-24 09:00:00  2386.606136  8.600031e+10  "
      ]
     },
     "execution_count": 15,
     "metadata": {},
     "output_type": "execute_result"
    }
   ],
   "source": [
    "df = pyupbit.get_ohlcv(\"KRW-BTC\", count=5)\n",
    "df"
   ]
  },
  {
   "cell_type": "markdown",
   "id": "fd4d2913-0ac2-432c-b80f-62e8899d0548",
   "metadata": {},
   "source": [
    "get_ohlcv 함수는 웹 서버로 200개씩 데이터를 요청합니다. \n",
    "\n",
    "200개 이상의 데이터를 요청한다면 0.1(default) 주기로 데이터를 수집합니다. \n",
    "\n",
    "다른 API와 함께 사용한다면 조회 주기(period)를 늘려야 합니다. \n",
    "\n",
    "이 때 period 옵션을 사용해서 주기를 초(second) 단위로 지정할 수 있습니다. \n",
    "\n",
    "조회하는 데이터의 갯수가 200개 이하라면 period 옵션은 무시됩니다."
   ]
  },
  {
   "cell_type": "code",
   "execution_count": 16,
   "id": "924543db-9a48-4343-acaf-af47d39be9df",
   "metadata": {
    "tags": []
   },
   "outputs": [
    {
     "data": {
      "text/html": [
       "<div>\n",
       "<style scoped>\n",
       "    .dataframe tbody tr th:only-of-type {\n",
       "        vertical-align: middle;\n",
       "    }\n",
       "\n",
       "    .dataframe tbody tr th {\n",
       "        vertical-align: top;\n",
       "    }\n",
       "\n",
       "    .dataframe thead th {\n",
       "        text-align: right;\n",
       "    }\n",
       "</style>\n",
       "<table border=\"1\" class=\"dataframe\">\n",
       "  <thead>\n",
       "    <tr style=\"text-align: right;\">\n",
       "      <th></th>\n",
       "      <th>open</th>\n",
       "      <th>high</th>\n",
       "      <th>low</th>\n",
       "      <th>close</th>\n",
       "      <th>volume</th>\n",
       "      <th>value</th>\n",
       "    </tr>\n",
       "  </thead>\n",
       "  <tbody>\n",
       "    <tr>\n",
       "      <th>2021-10-02 09:00:00</th>\n",
       "      <td>58348000.0</td>\n",
       "      <td>58999000.0</td>\n",
       "      <td>57660000.0</td>\n",
       "      <td>58228000.0</td>\n",
       "      <td>4852.968580</td>\n",
       "      <td>2.830123e+11</td>\n",
       "    </tr>\n",
       "    <tr>\n",
       "      <th>2021-10-03 09:00:00</th>\n",
       "      <td>58238000.0</td>\n",
       "      <td>59390000.0</td>\n",
       "      <td>57250000.0</td>\n",
       "      <td>58567000.0</td>\n",
       "      <td>4489.395790</td>\n",
       "      <td>2.620021e+11</td>\n",
       "    </tr>\n",
       "    <tr>\n",
       "      <th>2021-10-04 09:00:00</th>\n",
       "      <td>58466000.0</td>\n",
       "      <td>60331000.0</td>\n",
       "      <td>57346000.0</td>\n",
       "      <td>60020000.0</td>\n",
       "      <td>6699.988769</td>\n",
       "      <td>3.923047e+11</td>\n",
       "    </tr>\n",
       "    <tr>\n",
       "      <th>2021-10-05 09:00:00</th>\n",
       "      <td>60020000.0</td>\n",
       "      <td>62500000.0</td>\n",
       "      <td>59547000.0</td>\n",
       "      <td>61666000.0</td>\n",
       "      <td>9846.156364</td>\n",
       "      <td>5.962485e+11</td>\n",
       "    </tr>\n",
       "    <tr>\n",
       "      <th>2021-10-06 09:00:00</th>\n",
       "      <td>61666000.0</td>\n",
       "      <td>67636000.0</td>\n",
       "      <td>61113000.0</td>\n",
       "      <td>67000000.0</td>\n",
       "      <td>13462.737688</td>\n",
       "      <td>8.645847e+11</td>\n",
       "    </tr>\n",
       "    <tr>\n",
       "      <th>...</th>\n",
       "      <td>...</td>\n",
       "      <td>...</td>\n",
       "      <td>...</td>\n",
       "      <td>...</td>\n",
       "      <td>...</td>\n",
       "      <td>...</td>\n",
       "    </tr>\n",
       "    <tr>\n",
       "      <th>2023-05-20 09:00:00</th>\n",
       "      <td>36156000.0</td>\n",
       "      <td>36475000.0</td>\n",
       "      <td>36119000.0</td>\n",
       "      <td>36385000.0</td>\n",
       "      <td>1174.320819</td>\n",
       "      <td>4.256180e+10</td>\n",
       "    </tr>\n",
       "    <tr>\n",
       "      <th>2023-05-21 09:00:00</th>\n",
       "      <td>36404000.0</td>\n",
       "      <td>36618000.0</td>\n",
       "      <td>36048000.0</td>\n",
       "      <td>36051000.0</td>\n",
       "      <td>1573.059469</td>\n",
       "      <td>5.715309e+10</td>\n",
       "    </tr>\n",
       "    <tr>\n",
       "      <th>2023-05-22 09:00:00</th>\n",
       "      <td>36057000.0</td>\n",
       "      <td>36200000.0</td>\n",
       "      <td>35709000.0</td>\n",
       "      <td>35947000.0</td>\n",
       "      <td>2597.921922</td>\n",
       "      <td>9.332619e+10</td>\n",
       "    </tr>\n",
       "    <tr>\n",
       "      <th>2023-05-23 09:00:00</th>\n",
       "      <td>35947000.0</td>\n",
       "      <td>36660000.0</td>\n",
       "      <td>35841000.0</td>\n",
       "      <td>36381000.0</td>\n",
       "      <td>2510.275788</td>\n",
       "      <td>9.128479e+10</td>\n",
       "    </tr>\n",
       "    <tr>\n",
       "      <th>2023-05-24 09:00:00</th>\n",
       "      <td>36382000.0</td>\n",
       "      <td>36430000.0</td>\n",
       "      <td>35800000.0</td>\n",
       "      <td>35827000.0</td>\n",
       "      <td>2386.738993</td>\n",
       "      <td>8.600507e+10</td>\n",
       "    </tr>\n",
       "  </tbody>\n",
       "</table>\n",
       "<p>600 rows × 6 columns</p>\n",
       "</div>"
      ],
      "text/plain": [
       "                           open        high         low       close  \\\n",
       "2021-10-02 09:00:00  58348000.0  58999000.0  57660000.0  58228000.0   \n",
       "2021-10-03 09:00:00  58238000.0  59390000.0  57250000.0  58567000.0   \n",
       "2021-10-04 09:00:00  58466000.0  60331000.0  57346000.0  60020000.0   \n",
       "2021-10-05 09:00:00  60020000.0  62500000.0  59547000.0  61666000.0   \n",
       "2021-10-06 09:00:00  61666000.0  67636000.0  61113000.0  67000000.0   \n",
       "...                         ...         ...         ...         ...   \n",
       "2023-05-20 09:00:00  36156000.0  36475000.0  36119000.0  36385000.0   \n",
       "2023-05-21 09:00:00  36404000.0  36618000.0  36048000.0  36051000.0   \n",
       "2023-05-22 09:00:00  36057000.0  36200000.0  35709000.0  35947000.0   \n",
       "2023-05-23 09:00:00  35947000.0  36660000.0  35841000.0  36381000.0   \n",
       "2023-05-24 09:00:00  36382000.0  36430000.0  35800000.0  35827000.0   \n",
       "\n",
       "                           volume         value  \n",
       "2021-10-02 09:00:00   4852.968580  2.830123e+11  \n",
       "2021-10-03 09:00:00   4489.395790  2.620021e+11  \n",
       "2021-10-04 09:00:00   6699.988769  3.923047e+11  \n",
       "2021-10-05 09:00:00   9846.156364  5.962485e+11  \n",
       "2021-10-06 09:00:00  13462.737688  8.645847e+11  \n",
       "...                           ...           ...  \n",
       "2023-05-20 09:00:00   1174.320819  4.256180e+10  \n",
       "2023-05-21 09:00:00   1573.059469  5.715309e+10  \n",
       "2023-05-22 09:00:00   2597.921922  9.332619e+10  \n",
       "2023-05-23 09:00:00   2510.275788  9.128479e+10  \n",
       "2023-05-24 09:00:00   2386.738993  8.600507e+10  \n",
       "\n",
       "[600 rows x 6 columns]"
      ]
     },
     "execution_count": 16,
     "metadata": {},
     "output_type": "execute_result"
    }
   ],
   "source": [
    "df = pyupbit.get_ohlcv(\"KRW-BTC\", count=600, period=1)\n",
    "df"
   ]
  },
  {
   "cell_type": "markdown",
   "id": "6b45db80-4857-4ad3-a046-ff888a157d26",
   "metadata": {},
   "source": [
    "interval 파라미터는 조회단위를 지정합니다. 파라미터에는 다음 값을 지정할 수 있습니다.\n",
    "\n",
    "일봉: day\n",
    "분봉: minute1/minute3/minute5/minute10/minute15/minute30/minute60/minute240/\n",
    "주봉: week\n",
    "월봉: month"
   ]
  },
  {
   "cell_type": "code",
   "execution_count": 17,
   "id": "ff78684d-27ef-449b-adc9-52d580da0796",
   "metadata": {
    "tags": []
   },
   "outputs": [
    {
     "name": "stdout",
     "output_type": "stream",
     "text": [
      "                           open        high         low       close  \\\n",
      "2022-11-06 09:00:00  29756000.0  29869000.0  29400000.0  29473000.0   \n",
      "2022-11-07 09:00:00  29470000.0  29658000.0  28790000.0  28945000.0   \n",
      "2022-11-08 09:00:00  28945000.0  29020000.0  25842000.0  26650000.0   \n",
      "2022-11-09 09:00:00  26652000.0  26832000.0  22564000.0  22919000.0   \n",
      "2022-11-10 09:00:00  22924000.0  25120000.0  22840000.0  24779000.0   \n",
      "...                         ...         ...         ...         ...   \n",
      "2023-05-20 09:00:00  36156000.0  36475000.0  36119000.0  36385000.0   \n",
      "2023-05-21 09:00:00  36404000.0  36618000.0  36048000.0  36051000.0   \n",
      "2023-05-22 09:00:00  36057000.0  36200000.0  35709000.0  35947000.0   \n",
      "2023-05-23 09:00:00  35947000.0  36660000.0  35841000.0  36381000.0   \n",
      "2023-05-24 09:00:00  36382000.0  36430000.0  35800000.0  35827000.0   \n",
      "\n",
      "                           volume         value  \n",
      "2022-11-06 09:00:00   3135.465388  9.305541e+10  \n",
      "2022-11-07 09:00:00   5212.344719  1.521590e+11  \n",
      "2022-11-08 09:00:00  21680.492361  5.947722e+11  \n",
      "2022-11-09 09:00:00  22296.852651  5.527159e+11  \n",
      "2022-11-10 09:00:00  20710.252778  4.980172e+11  \n",
      "...                           ...           ...  \n",
      "2023-05-20 09:00:00   1174.320819  4.256180e+10  \n",
      "2023-05-21 09:00:00   1573.059469  5.715309e+10  \n",
      "2023-05-22 09:00:00   2597.921922  9.332619e+10  \n",
      "2023-05-23 09:00:00   2510.275788  9.128479e+10  \n",
      "2023-05-24 09:00:00   2386.822726  8.600807e+10  \n",
      "\n",
      "[200 rows x 6 columns]\n",
      "                           open        high         low       close    volume  \\\n",
      "2023-05-24 18:46:00  35989000.0  35994000.0  35984000.0  35985000.0  1.066177   \n",
      "2023-05-24 18:47:00  35985000.0  35985000.0  35979000.0  35984000.0  0.565160   \n",
      "2023-05-24 18:48:00  35982000.0  35983000.0  35952000.0  35954000.0  0.321980   \n",
      "2023-05-24 18:49:00  35954000.0  35954000.0  35951000.0  35951000.0  1.060590   \n",
      "2023-05-24 18:50:00  35954000.0  35954000.0  35946000.0  35947000.0  1.396197   \n",
      "...                         ...         ...         ...         ...       ...   \n",
      "2023-05-24 22:01:00  35834000.0  35844000.0  35832000.0  35832000.0  0.951264   \n",
      "2023-05-24 22:02:00  35834000.0  35837000.0  35830000.0  35831000.0  1.161868   \n",
      "2023-05-24 22:03:00  35833000.0  35843000.0  35830000.0  35833000.0  0.739220   \n",
      "2023-05-24 22:04:00  35834000.0  35843000.0  35825000.0  35827000.0  1.116551   \n",
      "2023-05-24 22:05:00  35825000.0  35829000.0  35824000.0  35827000.0  1.073087   \n",
      "\n",
      "                            value  \n",
      "2023-05-24 18:46:00  3.837165e+07  \n",
      "2023-05-24 18:47:00  2.033588e+07  \n",
      "2023-05-24 18:48:00  1.158172e+07  \n",
      "2023-05-24 18:49:00  3.813066e+07  \n",
      "2023-05-24 18:50:00  5.019019e+07  \n",
      "...                           ...  \n",
      "2023-05-24 22:01:00  3.409356e+07  \n",
      "2023-05-24 22:02:00  4.163095e+07  \n",
      "2023-05-24 22:03:00  2.648722e+07  \n",
      "2023-05-24 22:04:00  4.000719e+07  \n",
      "2023-05-24 22:05:00  3.844362e+07  \n",
      "\n",
      "[200 rows x 6 columns]\n",
      "                           open        high         low       close  \\\n",
      "2019-07-29 09:00:00  11312000.0  13036000.0  11146000.0  12958000.0   \n",
      "2019-08-05 09:00:00  12958000.0  14570000.0  12948000.0  13876000.0   \n",
      "2019-08-12 09:00:00  13876000.0  13893000.0  11535000.0  12509000.0   \n",
      "2019-08-19 09:00:00  12512000.0  13211000.0  11870000.0  12218000.0   \n",
      "2019-08-26 09:00:00  12218000.0  12680000.0  11380000.0  11768000.0   \n",
      "...                         ...         ...         ...         ...   \n",
      "2023-04-24 09:00:00  36802000.0  39850000.0  36200000.0  39149000.0   \n",
      "2023-05-01 09:00:00  39149000.0  39435000.0  37372000.0  38143000.0   \n",
      "2023-05-08 09:00:00  38152000.0  38369000.0  35262000.0  36415000.0   \n",
      "2023-05-15 09:00:00  36420000.0  37200000.0  35800000.0  36051000.0   \n",
      "2023-05-22 09:00:00  36057000.0  36660000.0  35709000.0  35827000.0   \n",
      "\n",
      "                           volume         value  \n",
      "2019-07-29 09:00:00  50606.310737  6.142918e+11  \n",
      "2019-08-05 09:00:00  88988.614352  1.241042e+12  \n",
      "2019-08-12 09:00:00  75500.256251  9.477838e+11  \n",
      "2019-08-19 09:00:00  55535.662260  6.927944e+11  \n",
      "2019-08-26 09:00:00  33480.834465  3.992309e+11  \n",
      "...                           ...           ...  \n",
      "2023-04-24 09:00:00  32897.087555  1.262498e+12  \n",
      "2023-05-01 09:00:00  32025.125553  1.233224e+12  \n",
      "2023-05-08 09:00:00  26277.407283  9.681124e+11  \n",
      "2023-05-15 09:00:00  16701.360315  6.085909e+11  \n",
      "2023-05-22 09:00:00   7495.020436  2.706191e+11  \n",
      "\n",
      "[200 rows x 6 columns]\n"
     ]
    }
   ],
   "source": [
    "print(pyupbit.get_ohlcv(\"KRW-BTC\", interval=\"day\"))             # 일봉 데이터 (5일)\n",
    "print(pyupbit.get_ohlcv(\"KRW-BTC\", interval=\"minute1\"))         # 분봉 데이터   \n",
    "print(pyupbit.get_ohlcv(\"KRW-BTC\", interval=\"week\"))            # 주봉 데이터"
   ]
  },
  {
   "cell_type": "code",
   "execution_count": 18,
   "id": "0c4ae95b-def3-4f3a-b462-b11f6005a625",
   "metadata": {
    "tags": []
   },
   "outputs": [
    {
     "data": {
      "text/html": [
       "<div>\n",
       "<style scoped>\n",
       "    .dataframe tbody tr th:only-of-type {\n",
       "        vertical-align: middle;\n",
       "    }\n",
       "\n",
       "    .dataframe tbody tr th {\n",
       "        vertical-align: top;\n",
       "    }\n",
       "\n",
       "    .dataframe thead th {\n",
       "        text-align: right;\n",
       "    }\n",
       "</style>\n",
       "<table border=\"1\" class=\"dataframe\">\n",
       "  <thead>\n",
       "    <tr style=\"text-align: right;\">\n",
       "      <th></th>\n",
       "      <th>open</th>\n",
       "      <th>high</th>\n",
       "      <th>low</th>\n",
       "      <th>close</th>\n",
       "      <th>volume</th>\n",
       "      <th>value</th>\n",
       "    </tr>\n",
       "  </thead>\n",
       "  <tbody>\n",
       "    <tr>\n",
       "      <th>2023-05-16 15:00:00</th>\n",
       "      <td>36516000.0</td>\n",
       "      <td>36520000.0</td>\n",
       "      <td>36430000.0</td>\n",
       "      <td>36487000.0</td>\n",
       "      <td>53.102770</td>\n",
       "      <td>1.937207e+09</td>\n",
       "    </tr>\n",
       "    <tr>\n",
       "      <th>2023-05-16 16:00:00</th>\n",
       "      <td>36490000.0</td>\n",
       "      <td>36724000.0</td>\n",
       "      <td>36487000.0</td>\n",
       "      <td>36701000.0</td>\n",
       "      <td>110.398253</td>\n",
       "      <td>4.045753e+09</td>\n",
       "    </tr>\n",
       "    <tr>\n",
       "      <th>2023-05-16 17:00:00</th>\n",
       "      <td>36701000.0</td>\n",
       "      <td>36768000.0</td>\n",
       "      <td>36600000.0</td>\n",
       "      <td>36694000.0</td>\n",
       "      <td>105.009697</td>\n",
       "      <td>3.851611e+09</td>\n",
       "    </tr>\n",
       "    <tr>\n",
       "      <th>2023-05-16 18:00:00</th>\n",
       "      <td>36694000.0</td>\n",
       "      <td>36696000.0</td>\n",
       "      <td>36527000.0</td>\n",
       "      <td>36530000.0</td>\n",
       "      <td>69.709609</td>\n",
       "      <td>2.552340e+09</td>\n",
       "    </tr>\n",
       "    <tr>\n",
       "      <th>2023-05-16 19:00:00</th>\n",
       "      <td>36535000.0</td>\n",
       "      <td>36588000.0</td>\n",
       "      <td>36420000.0</td>\n",
       "      <td>36480000.0</td>\n",
       "      <td>102.260988</td>\n",
       "      <td>3.730985e+09</td>\n",
       "    </tr>\n",
       "    <tr>\n",
       "      <th>...</th>\n",
       "      <td>...</td>\n",
       "      <td>...</td>\n",
       "      <td>...</td>\n",
       "      <td>...</td>\n",
       "      <td>...</td>\n",
       "      <td>...</td>\n",
       "    </tr>\n",
       "    <tr>\n",
       "      <th>2023-05-24 18:00:00</th>\n",
       "      <td>35933000.0</td>\n",
       "      <td>36052000.0</td>\n",
       "      <td>35917000.0</td>\n",
       "      <td>35941000.0</td>\n",
       "      <td>75.616718</td>\n",
       "      <td>2.719862e+09</td>\n",
       "    </tr>\n",
       "    <tr>\n",
       "      <th>2023-05-24 19:00:00</th>\n",
       "      <td>35941000.0</td>\n",
       "      <td>35954000.0</td>\n",
       "      <td>35888000.0</td>\n",
       "      <td>35900000.0</td>\n",
       "      <td>67.866260</td>\n",
       "      <td>2.437187e+09</td>\n",
       "    </tr>\n",
       "    <tr>\n",
       "      <th>2023-05-24 20:00:00</th>\n",
       "      <td>35900000.0</td>\n",
       "      <td>35925000.0</td>\n",
       "      <td>35855000.0</td>\n",
       "      <td>35900000.0</td>\n",
       "      <td>81.111621</td>\n",
       "      <td>2.911185e+09</td>\n",
       "    </tr>\n",
       "    <tr>\n",
       "      <th>2023-05-24 21:00:00</th>\n",
       "      <td>35900000.0</td>\n",
       "      <td>35917000.0</td>\n",
       "      <td>35813000.0</td>\n",
       "      <td>35835000.0</td>\n",
       "      <td>113.021100</td>\n",
       "      <td>4.052309e+09</td>\n",
       "    </tr>\n",
       "    <tr>\n",
       "      <th>2023-05-24 22:00:00</th>\n",
       "      <td>35835000.0</td>\n",
       "      <td>35857000.0</td>\n",
       "      <td>35824000.0</td>\n",
       "      <td>35827000.0</td>\n",
       "      <td>7.158928</td>\n",
       "      <td>2.565393e+08</td>\n",
       "    </tr>\n",
       "  </tbody>\n",
       "</table>\n",
       "<p>200 rows × 6 columns</p>\n",
       "</div>"
      ],
      "text/plain": [
       "                           open        high         low       close  \\\n",
       "2023-05-16 15:00:00  36516000.0  36520000.0  36430000.0  36487000.0   \n",
       "2023-05-16 16:00:00  36490000.0  36724000.0  36487000.0  36701000.0   \n",
       "2023-05-16 17:00:00  36701000.0  36768000.0  36600000.0  36694000.0   \n",
       "2023-05-16 18:00:00  36694000.0  36696000.0  36527000.0  36530000.0   \n",
       "2023-05-16 19:00:00  36535000.0  36588000.0  36420000.0  36480000.0   \n",
       "...                         ...         ...         ...         ...   \n",
       "2023-05-24 18:00:00  35933000.0  36052000.0  35917000.0  35941000.0   \n",
       "2023-05-24 19:00:00  35941000.0  35954000.0  35888000.0  35900000.0   \n",
       "2023-05-24 20:00:00  35900000.0  35925000.0  35855000.0  35900000.0   \n",
       "2023-05-24 21:00:00  35900000.0  35917000.0  35813000.0  35835000.0   \n",
       "2023-05-24 22:00:00  35835000.0  35857000.0  35824000.0  35827000.0   \n",
       "\n",
       "                         volume         value  \n",
       "2023-05-16 15:00:00   53.102770  1.937207e+09  \n",
       "2023-05-16 16:00:00  110.398253  4.045753e+09  \n",
       "2023-05-16 17:00:00  105.009697  3.851611e+09  \n",
       "2023-05-16 18:00:00   69.709609  2.552340e+09  \n",
       "2023-05-16 19:00:00  102.260988  3.730985e+09  \n",
       "...                         ...           ...  \n",
       "2023-05-24 18:00:00   75.616718  2.719862e+09  \n",
       "2023-05-24 19:00:00   67.866260  2.437187e+09  \n",
       "2023-05-24 20:00:00   81.111621  2.911185e+09  \n",
       "2023-05-24 21:00:00  113.021100  4.052309e+09  \n",
       "2023-05-24 22:00:00    7.158928  2.565393e+08  \n",
       "\n",
       "[200 rows x 6 columns]"
      ]
     },
     "execution_count": 18,
     "metadata": {},
     "output_type": "execute_result"
    }
   ],
   "source": [
    "pyupbit.get_ohlcv(\"KRW-BTC\", interval=\"minute60\")             # 일봉 데이터 (5일)"
   ]
  },
  {
   "cell_type": "markdown",
   "id": "c92229cd-5629-496c-82ba-8ab0a75c241a",
   "metadata": {},
   "source": [
    "to 파라미터에 입력된 이전 단위(interval)까지의 데이터를 데이터프레임으로 얻을 수 있습니다. \n",
    "\n",
    "예를 들어, 다음 코드는 2020-10-10일 보다 하루 전인 2020-10-09을 까지의 200개 데이터를 조회합니다. \n",
    "\n",
    "단위를 설정하지 않았으니 단위는 일봉입니다."
   ]
  },
  {
   "cell_type": "code",
   "execution_count": 19,
   "id": "dfc9bcc8-2160-46df-b5d4-a9315cd196a2",
   "metadata": {
    "tags": []
   },
   "outputs": [
    {
     "name": "stdout",
     "output_type": "stream",
     "text": [
      "                           open        high         low       close  \\\n",
      "2020-03-24 09:00:00   8047000.0   8412000.0   7892000.0   8367000.0   \n",
      "2020-03-25 09:00:00   8362000.0   8538000.0   8080000.0   8271000.0   \n",
      "2020-03-26 09:00:00   8276000.0   8344000.0   8091000.0   8272000.0   \n",
      "2020-03-27 09:00:00   8281000.0   8365000.0   7820000.0   7880000.0   \n",
      "2020-03-28 09:00:00   7883000.0   7885000.0   7403000.0   7656000.0   \n",
      "...                         ...         ...         ...         ...   \n",
      "2020-10-05 09:00:00  12446000.0  12545000.0  12385000.0  12536000.0   \n",
      "2020-10-06 09:00:00  12536000.0  12600000.0  12330000.0  12418000.0   \n",
      "2020-10-07 09:00:00  12408000.0  12435000.0  12337000.0  12423000.0   \n",
      "2020-10-08 09:00:00  12422000.0  12680000.0  12280000.0  12582000.0   \n",
      "2020-10-09 09:00:00  12582000.0  12750000.0  12503000.0  12638000.0   \n",
      "\n",
      "                           volume         value  \n",
      "2020-03-24 09:00:00  15158.039589  1.244216e+11  \n",
      "2020-03-25 09:00:00  12629.118008  1.043876e+11  \n",
      "2020-03-26 09:00:00   6160.813270  5.057246e+10  \n",
      "2020-03-27 09:00:00   6749.553055  5.514416e+10  \n",
      "2020-03-28 09:00:00   7702.102337  5.883592e+10  \n",
      "...                           ...           ...  \n",
      "2020-10-05 09:00:00   1578.027830  1.965762e+10  \n",
      "2020-10-06 09:00:00   1745.875329  2.175526e+10  \n",
      "2020-10-07 09:00:00   1357.358223  1.679513e+10  \n",
      "2020-10-08 09:00:00   2422.119262  3.014610e+10  \n",
      "2020-10-09 09:00:00   2245.607475  2.834224e+10  \n",
      "\n",
      "[200 rows x 6 columns]\n"
     ]
    }
   ],
   "source": [
    "print(pyupbit.get_ohlcv(\"KRW-BTC\", to=\"20201010\"))"
   ]
  },
  {
   "cell_type": "markdown",
   "id": "a89e7eb9-1145-4065-90d3-9910ab63af5d",
   "metadata": {},
   "source": [
    "interval을 minute1로 지정한 경우 2020-10-10 보다 1분 이전 (2020-10-09 23:59:00)까지의 200개 데이터를 반환합니다."
   ]
  },
  {
   "cell_type": "code",
   "execution_count": 20,
   "id": "9c0ccdc9-2fdf-43a0-807f-0095ca72133b",
   "metadata": {
    "tags": []
   },
   "outputs": [
    {
     "name": "stdout",
     "output_type": "stream",
     "text": [
      "                           open        high         low       close    volume  \\\n",
      "2020-10-10 05:40:00  12635000.0  12635000.0  12635000.0  12635000.0  0.125389   \n",
      "2020-10-10 05:41:00  12635000.0  12635000.0  12635000.0  12635000.0  0.219599   \n",
      "2020-10-10 05:42:00  12635000.0  12636000.0  12634000.0  12634000.0  0.840987   \n",
      "2020-10-10 05:43:00  12634000.0  12636000.0  12630000.0  12630000.0  1.103631   \n",
      "2020-10-10 05:44:00  12636000.0  12636000.0  12636000.0  12636000.0  0.189064   \n",
      "...                         ...         ...         ...         ...       ...   \n",
      "2020-10-10 08:55:00  12649000.0  12649000.0  12639000.0  12649000.0  2.107042   \n",
      "2020-10-10 08:56:00  12642000.0  12649000.0  12642000.0  12643000.0  0.286805   \n",
      "2020-10-10 08:57:00  12649000.0  12655000.0  12644000.0  12645000.0  1.575202   \n",
      "2020-10-10 08:58:00  12653000.0  12653000.0  12646000.0  12646000.0  0.932605   \n",
      "2020-10-10 08:59:00  12645000.0  12645000.0  12638000.0  12638000.0  1.435213   \n",
      "\n",
      "                            value  \n",
      "2020-10-10 05:40:00  1.584290e+06  \n",
      "2020-10-10 05:41:00  2.774633e+06  \n",
      "2020-10-10 05:42:00  1.062532e+07  \n",
      "2020-10-10 05:43:00  1.393890e+07  \n",
      "2020-10-10 05:44:00  2.389014e+06  \n",
      "...                           ...  \n",
      "2020-10-10 08:55:00  2.664096e+07  \n",
      "2020-10-10 08:56:00  3.626221e+06  \n",
      "2020-10-10 08:57:00  1.992955e+07  \n",
      "2020-10-10 08:58:00  1.179381e+07  \n",
      "2020-10-10 08:59:00  1.814452e+07  \n",
      "\n",
      "[200 rows x 6 columns]\n"
     ]
    }
   ],
   "source": [
    "print(pyupbit.get_ohlcv(\"KRW-BTC\", interval=\"minute1\", to=\"20201010\"))"
   ]
  },
  {
   "cell_type": "markdown",
   "id": "b60270e7-651d-46e1-bd09-ee46f47c1741",
   "metadata": {},
   "source": [
    "기준 시간 단위로 shift된 일봉을 계산할 수도 있습니다.\n",
    "\n",
    "예) 2019-06-01 12:00:00 ~ 2019-06-02 11:59:59"
   ]
  },
  {
   "cell_type": "code",
   "execution_count": 21,
   "id": "74606573-033c-4c52-8cc9-b9738940728a",
   "metadata": {
    "tags": []
   },
   "outputs": [
    {
     "data": {
      "text/html": [
       "<div>\n",
       "<style scoped>\n",
       "    .dataframe tbody tr th:only-of-type {\n",
       "        vertical-align: middle;\n",
       "    }\n",
       "\n",
       "    .dataframe tbody tr th {\n",
       "        vertical-align: top;\n",
       "    }\n",
       "\n",
       "    .dataframe thead th {\n",
       "        text-align: right;\n",
       "    }\n",
       "</style>\n",
       "<table border=\"1\" class=\"dataframe\">\n",
       "  <thead>\n",
       "    <tr style=\"text-align: right;\">\n",
       "      <th></th>\n",
       "      <th>open</th>\n",
       "      <th>high</th>\n",
       "      <th>low</th>\n",
       "      <th>close</th>\n",
       "      <th>volume</th>\n",
       "      <th>value</th>\n",
       "    </tr>\n",
       "  </thead>\n",
       "  <tbody>\n",
       "    <tr>\n",
       "      <th>2020-10-09 09:00:00</th>\n",
       "      <td>12582000.0</td>\n",
       "      <td>12583000.0</td>\n",
       "      <td>12555000.0</td>\n",
       "      <td>12583000.0</td>\n",
       "      <td>2.742334</td>\n",
       "      <td>3.444494e+07</td>\n",
       "    </tr>\n",
       "    <tr>\n",
       "      <th>2020-10-09 09:01:00</th>\n",
       "      <td>12571000.0</td>\n",
       "      <td>12582000.0</td>\n",
       "      <td>12571000.0</td>\n",
       "      <td>12582000.0</td>\n",
       "      <td>1.308766</td>\n",
       "      <td>1.646596e+07</td>\n",
       "    </tr>\n",
       "    <tr>\n",
       "      <th>2020-10-09 09:02:00</th>\n",
       "      <td>12572000.0</td>\n",
       "      <td>12589000.0</td>\n",
       "      <td>12571000.0</td>\n",
       "      <td>12583000.0</td>\n",
       "      <td>1.861521</td>\n",
       "      <td>2.342023e+07</td>\n",
       "    </tr>\n",
       "    <tr>\n",
       "      <th>2020-10-09 09:03:00</th>\n",
       "      <td>12582000.0</td>\n",
       "      <td>12589000.0</td>\n",
       "      <td>12575000.0</td>\n",
       "      <td>12579000.0</td>\n",
       "      <td>1.810934</td>\n",
       "      <td>2.278831e+07</td>\n",
       "    </tr>\n",
       "    <tr>\n",
       "      <th>2020-10-09 09:04:00</th>\n",
       "      <td>12579000.0</td>\n",
       "      <td>12588000.0</td>\n",
       "      <td>12578000.0</td>\n",
       "      <td>12588000.0</td>\n",
       "      <td>0.495185</td>\n",
       "      <td>6.231272e+06</td>\n",
       "    </tr>\n",
       "    <tr>\n",
       "      <th>...</th>\n",
       "      <td>...</td>\n",
       "      <td>...</td>\n",
       "      <td>...</td>\n",
       "      <td>...</td>\n",
       "      <td>...</td>\n",
       "      <td>...</td>\n",
       "    </tr>\n",
       "    <tr>\n",
       "      <th>2020-10-10 08:55:00</th>\n",
       "      <td>12649000.0</td>\n",
       "      <td>12649000.0</td>\n",
       "      <td>12639000.0</td>\n",
       "      <td>12649000.0</td>\n",
       "      <td>2.107042</td>\n",
       "      <td>2.664096e+07</td>\n",
       "    </tr>\n",
       "    <tr>\n",
       "      <th>2020-10-10 08:56:00</th>\n",
       "      <td>12642000.0</td>\n",
       "      <td>12649000.0</td>\n",
       "      <td>12642000.0</td>\n",
       "      <td>12643000.0</td>\n",
       "      <td>0.286805</td>\n",
       "      <td>3.626221e+06</td>\n",
       "    </tr>\n",
       "    <tr>\n",
       "      <th>2020-10-10 08:57:00</th>\n",
       "      <td>12649000.0</td>\n",
       "      <td>12655000.0</td>\n",
       "      <td>12644000.0</td>\n",
       "      <td>12645000.0</td>\n",
       "      <td>1.575202</td>\n",
       "      <td>1.992955e+07</td>\n",
       "    </tr>\n",
       "    <tr>\n",
       "      <th>2020-10-10 08:58:00</th>\n",
       "      <td>12653000.0</td>\n",
       "      <td>12653000.0</td>\n",
       "      <td>12646000.0</td>\n",
       "      <td>12646000.0</td>\n",
       "      <td>0.932605</td>\n",
       "      <td>1.179381e+07</td>\n",
       "    </tr>\n",
       "    <tr>\n",
       "      <th>2020-10-10 08:59:00</th>\n",
       "      <td>12645000.0</td>\n",
       "      <td>12645000.0</td>\n",
       "      <td>12638000.0</td>\n",
       "      <td>12638000.0</td>\n",
       "      <td>1.435213</td>\n",
       "      <td>1.814452e+07</td>\n",
       "    </tr>\n",
       "  </tbody>\n",
       "</table>\n",
       "<p>1439 rows × 6 columns</p>\n",
       "</div>"
      ],
      "text/plain": [
       "                           open        high         low       close    volume  \\\n",
       "2020-10-09 09:00:00  12582000.0  12583000.0  12555000.0  12583000.0  2.742334   \n",
       "2020-10-09 09:01:00  12571000.0  12582000.0  12571000.0  12582000.0  1.308766   \n",
       "2020-10-09 09:02:00  12572000.0  12589000.0  12571000.0  12583000.0  1.861521   \n",
       "2020-10-09 09:03:00  12582000.0  12589000.0  12575000.0  12579000.0  1.810934   \n",
       "2020-10-09 09:04:00  12579000.0  12588000.0  12578000.0  12588000.0  0.495185   \n",
       "...                         ...         ...         ...         ...       ...   \n",
       "2020-10-10 08:55:00  12649000.0  12649000.0  12639000.0  12649000.0  2.107042   \n",
       "2020-10-10 08:56:00  12642000.0  12649000.0  12642000.0  12643000.0  0.286805   \n",
       "2020-10-10 08:57:00  12649000.0  12655000.0  12644000.0  12645000.0  1.575202   \n",
       "2020-10-10 08:58:00  12653000.0  12653000.0  12646000.0  12646000.0  0.932605   \n",
       "2020-10-10 08:59:00  12645000.0  12645000.0  12638000.0  12638000.0  1.435213   \n",
       "\n",
       "                            value  \n",
       "2020-10-09 09:00:00  3.444494e+07  \n",
       "2020-10-09 09:01:00  1.646596e+07  \n",
       "2020-10-09 09:02:00  2.342023e+07  \n",
       "2020-10-09 09:03:00  2.278831e+07  \n",
       "2020-10-09 09:04:00  6.231272e+06  \n",
       "...                           ...  \n",
       "2020-10-10 08:55:00  2.664096e+07  \n",
       "2020-10-10 08:56:00  3.626221e+06  \n",
       "2020-10-10 08:57:00  1.992955e+07  \n",
       "2020-10-10 08:58:00  1.179381e+07  \n",
       "2020-10-10 08:59:00  1.814452e+07  \n",
       "\n",
       "[1439 rows x 6 columns]"
      ]
     },
     "execution_count": 21,
     "metadata": {},
     "output_type": "execute_result"
    }
   ],
   "source": [
    "pyupbit.get_ohlcv(\"KRW-BTC\", interval=\"minute1\", to=\"20201010\",count=24*60-1)"
   ]
  },
  {
   "cell_type": "code",
   "execution_count": 22,
   "id": "ea3754da-d20d-42ac-b7c2-76a8eb250881",
   "metadata": {
    "tags": []
   },
   "outputs": [
    {
     "name": "stdout",
     "output_type": "stream",
     "text": [
      "                           open        high         low       close  \\\n",
      "2023-05-16 12:00:00  36516000.0  36768000.0  36344000.0  36460000.0   \n",
      "2023-05-17 12:00:00  36460000.0  36857000.0  35938000.0  36650000.0   \n",
      "2023-05-18 12:00:00  36662000.0  36920000.0  35800000.0  36118000.0   \n",
      "2023-05-19 12:00:00  36118000.0  36486000.0  35950000.0  36166000.0   \n",
      "2023-05-20 12:00:00  36190000.0  36618000.0  36119000.0  36535000.0   \n",
      "2023-05-21 12:00:00  36535000.0  36580000.0  35709000.0  35803000.0   \n",
      "2023-05-22 12:00:00  35804000.0  36200000.0  35730000.0  36165000.0   \n",
      "2023-05-23 12:00:00  36165000.0  36660000.0  36110000.0  36348000.0   \n",
      "2023-05-24 12:00:00  36348000.0  36348000.0  35800000.0  35825000.0   \n",
      "\n",
      "                          volume  \n",
      "2023-05-16 12:00:00  1702.090400  \n",
      "2023-05-17 12:00:00  3094.923998  \n",
      "2023-05-18 12:00:00  3561.946467  \n",
      "2023-05-19 12:00:00  2330.188008  \n",
      "2023-05-20 12:00:00  1188.169422  \n",
      "2023-05-21 12:00:00  2077.343431  \n",
      "2023-05-22 12:00:00  2224.846674  \n",
      "2023-05-23 12:00:00  2638.593234  \n",
      "2023-05-24 12:00:00  1864.279146  \n"
     ]
    },
    {
     "name": "stderr",
     "output_type": "stream",
     "text": [
      "C:\\Users\\USER\\.conda\\envs\\test01\\lib\\site-packages\\pyupbit\\quotation_api.py:224: FutureWarning: 'base' in .resample() and in Grouper() is deprecated.\n",
      "The new arguments that you should use are 'offset' or 'origin'.\n",
      "\n",
      ">>> df.resample(freq=\"3s\", base=2)\n",
      "\n",
      "becomes:\n",
      "\n",
      ">>> df.resample(freq=\"3s\", offset=\"2s\")\n",
      "\n",
      "  df = df.resample('24H', base=base).agg({\n"
     ]
    }
   ],
   "source": [
    "print(pyupbit.get_daily_ohlcv_from_base(\"KRW-BTC\", base=12))"
   ]
  },
  {
   "cell_type": "markdown",
   "id": "2fd4dd65-4264-4ea4-b840-2bcd26b30af6",
   "metadata": {},
   "source": [
    "예) 2019-06-01 13:00:00 ~ 2019-06-02 12:59:59"
   ]
  },
  {
   "cell_type": "code",
   "execution_count": 23,
   "id": "08569ddf-f6a5-4263-87d7-746e09dfee83",
   "metadata": {
    "tags": []
   },
   "outputs": [
    {
     "name": "stdout",
     "output_type": "stream",
     "text": [
      "                           open        high         low       close  \\\n",
      "2023-05-16 13:00:00  36516000.0  36768000.0  36344000.0  36430000.0   \n",
      "2023-05-17 13:00:00  36430000.0  36857000.0  35938000.0  36655000.0   \n",
      "2023-05-18 13:00:00  36658000.0  36920000.0  35800000.0  36141000.0   \n",
      "2023-05-19 13:00:00  36161000.0  36486000.0  35950000.0  36200000.0   \n",
      "2023-05-20 13:00:00  36200000.0  36618000.0  36119000.0  36566000.0   \n",
      "2023-05-21 13:00:00  36567000.0  36580000.0  35709000.0  35799000.0   \n",
      "2023-05-22 13:00:00  35799000.0  36451000.0  35730000.0  36372000.0   \n",
      "2023-05-23 13:00:00  36378000.0  36660000.0  35869000.0  35924000.0   \n",
      "2023-05-24 13:00:00  35925000.0  36052000.0  35800000.0  35825000.0   \n",
      "\n",
      "                          volume  \n",
      "2023-05-16 13:00:00  1812.540960  \n",
      "2023-05-17 13:00:00  3071.348277  \n",
      "2023-05-18 13:00:00  3588.795017  \n",
      "2023-05-19 13:00:00  2246.346870  \n",
      "2023-05-20 13:00:00  1222.591856  \n",
      "2023-05-21 13:00:00  2125.474823  \n",
      "2023-05-22 13:00:00  2419.755189  \n",
      "2023-05-23 13:00:00  2890.115197  \n",
      "2023-05-24 13:00:00  1305.441043  \n"
     ]
    },
    {
     "name": "stderr",
     "output_type": "stream",
     "text": [
      "C:\\Users\\USER\\.conda\\envs\\test01\\lib\\site-packages\\pyupbit\\quotation_api.py:224: FutureWarning: 'base' in .resample() and in Grouper() is deprecated.\n",
      "The new arguments that you should use are 'offset' or 'origin'.\n",
      "\n",
      ">>> df.resample(freq=\"3s\", base=2)\n",
      "\n",
      "becomes:\n",
      "\n",
      ">>> df.resample(freq=\"3s\", offset=\"2s\")\n",
      "\n",
      "  df = df.resample('24H', base=base).agg({\n"
     ]
    }
   ],
   "source": [
    "print(pyupbit.get_daily_ohlcv_from_base(\"KRW-BTC\", base=13))"
   ]
  },
  {
   "cell_type": "code",
   "execution_count": 24,
   "id": "49221412-2800-4d8a-ad94-b15401558b89",
   "metadata": {
    "tags": []
   },
   "outputs": [
    {
     "name": "stderr",
     "output_type": "stream",
     "text": [
      "C:\\Users\\USER\\.conda\\envs\\test01\\lib\\site-packages\\pyupbit\\quotation_api.py:224: FutureWarning: 'base' in .resample() and in Grouper() is deprecated.\n",
      "The new arguments that you should use are 'offset' or 'origin'.\n",
      "\n",
      ">>> df.resample(freq=\"3s\", base=2)\n",
      "\n",
      "becomes:\n",
      "\n",
      ">>> df.resample(freq=\"3s\", offset=\"2s\")\n",
      "\n",
      "  df = df.resample('24H', base=base).agg({\n"
     ]
    },
    {
     "data": {
      "text/html": [
       "<div>\n",
       "<style scoped>\n",
       "    .dataframe tbody tr th:only-of-type {\n",
       "        vertical-align: middle;\n",
       "    }\n",
       "\n",
       "    .dataframe tbody tr th {\n",
       "        vertical-align: top;\n",
       "    }\n",
       "\n",
       "    .dataframe thead th {\n",
       "        text-align: right;\n",
       "    }\n",
       "</style>\n",
       "<table border=\"1\" class=\"dataframe\">\n",
       "  <thead>\n",
       "    <tr style=\"text-align: right;\">\n",
       "      <th></th>\n",
       "      <th>open</th>\n",
       "      <th>high</th>\n",
       "      <th>low</th>\n",
       "      <th>close</th>\n",
       "      <th>volume</th>\n",
       "    </tr>\n",
       "  </thead>\n",
       "  <tbody>\n",
       "    <tr>\n",
       "      <th>2023-05-16 13:00:00</th>\n",
       "      <td>36516000.0</td>\n",
       "      <td>36768000.0</td>\n",
       "      <td>36344000.0</td>\n",
       "      <td>36430000.0</td>\n",
       "      <td>1812.540960</td>\n",
       "    </tr>\n",
       "    <tr>\n",
       "      <th>2023-05-17 13:00:00</th>\n",
       "      <td>36430000.0</td>\n",
       "      <td>36857000.0</td>\n",
       "      <td>35938000.0</td>\n",
       "      <td>36655000.0</td>\n",
       "      <td>3071.348277</td>\n",
       "    </tr>\n",
       "    <tr>\n",
       "      <th>2023-05-18 13:00:00</th>\n",
       "      <td>36658000.0</td>\n",
       "      <td>36920000.0</td>\n",
       "      <td>35800000.0</td>\n",
       "      <td>36141000.0</td>\n",
       "      <td>3588.795017</td>\n",
       "    </tr>\n",
       "    <tr>\n",
       "      <th>2023-05-19 13:00:00</th>\n",
       "      <td>36161000.0</td>\n",
       "      <td>36486000.0</td>\n",
       "      <td>35950000.0</td>\n",
       "      <td>36200000.0</td>\n",
       "      <td>2246.346870</td>\n",
       "    </tr>\n",
       "    <tr>\n",
       "      <th>2023-05-20 13:00:00</th>\n",
       "      <td>36200000.0</td>\n",
       "      <td>36618000.0</td>\n",
       "      <td>36119000.0</td>\n",
       "      <td>36566000.0</td>\n",
       "      <td>1222.591856</td>\n",
       "    </tr>\n",
       "    <tr>\n",
       "      <th>2023-05-21 13:00:00</th>\n",
       "      <td>36567000.0</td>\n",
       "      <td>36580000.0</td>\n",
       "      <td>35709000.0</td>\n",
       "      <td>35799000.0</td>\n",
       "      <td>2125.474823</td>\n",
       "    </tr>\n",
       "    <tr>\n",
       "      <th>2023-05-22 13:00:00</th>\n",
       "      <td>35799000.0</td>\n",
       "      <td>36451000.0</td>\n",
       "      <td>35730000.0</td>\n",
       "      <td>36372000.0</td>\n",
       "      <td>2419.755189</td>\n",
       "    </tr>\n",
       "    <tr>\n",
       "      <th>2023-05-23 13:00:00</th>\n",
       "      <td>36378000.0</td>\n",
       "      <td>36660000.0</td>\n",
       "      <td>35869000.0</td>\n",
       "      <td>35924000.0</td>\n",
       "      <td>2890.115197</td>\n",
       "    </tr>\n",
       "    <tr>\n",
       "      <th>2023-05-24 13:00:00</th>\n",
       "      <td>35925000.0</td>\n",
       "      <td>36052000.0</td>\n",
       "      <td>35800000.0</td>\n",
       "      <td>35825000.0</td>\n",
       "      <td>1305.441043</td>\n",
       "    </tr>\n",
       "  </tbody>\n",
       "</table>\n",
       "</div>"
      ],
      "text/plain": [
       "                           open        high         low       close  \\\n",
       "2023-05-16 13:00:00  36516000.0  36768000.0  36344000.0  36430000.0   \n",
       "2023-05-17 13:00:00  36430000.0  36857000.0  35938000.0  36655000.0   \n",
       "2023-05-18 13:00:00  36658000.0  36920000.0  35800000.0  36141000.0   \n",
       "2023-05-19 13:00:00  36161000.0  36486000.0  35950000.0  36200000.0   \n",
       "2023-05-20 13:00:00  36200000.0  36618000.0  36119000.0  36566000.0   \n",
       "2023-05-21 13:00:00  36567000.0  36580000.0  35709000.0  35799000.0   \n",
       "2023-05-22 13:00:00  35799000.0  36451000.0  35730000.0  36372000.0   \n",
       "2023-05-23 13:00:00  36378000.0  36660000.0  35869000.0  35924000.0   \n",
       "2023-05-24 13:00:00  35925000.0  36052000.0  35800000.0  35825000.0   \n",
       "\n",
       "                          volume  \n",
       "2023-05-16 13:00:00  1812.540960  \n",
       "2023-05-17 13:00:00  3071.348277  \n",
       "2023-05-18 13:00:00  3588.795017  \n",
       "2023-05-19 13:00:00  2246.346870  \n",
       "2023-05-20 13:00:00  1222.591856  \n",
       "2023-05-21 13:00:00  2125.474823  \n",
       "2023-05-22 13:00:00  2419.755189  \n",
       "2023-05-23 13:00:00  2890.115197  \n",
       "2023-05-24 13:00:00  1305.441043  "
      ]
     },
     "execution_count": 24,
     "metadata": {},
     "output_type": "execute_result"
    }
   ],
   "source": [
    "pyupbit.get_daily_ohlcv_from_base(\"KRW-BTC\", base=13)"
   ]
  },
  {
   "cell_type": "markdown",
   "id": "a0849f2c-0d13-41df-9f9d-dac8be5a60aa",
   "metadata": {},
   "source": [
    "매수/매도 호가\n",
    "get_orderbook 함수는 매수/매도 호가 정보를 조회합니다."
   ]
  },
  {
   "cell_type": "code",
   "execution_count": 25,
   "id": "600b5a64-1b4d-4990-9d66-4013f396ec0e",
   "metadata": {
    "tags": []
   },
   "outputs": [
    {
     "name": "stdout",
     "output_type": "stream",
     "text": [
      "{'market': 'KRW-BTC', 'timestamp': 1684933574799, 'total_ask_size': 3.7687406300000004, 'total_bid_size': 5.383535650000001, 'orderbook_units': [{'ask_price': 35826000.0, 'bid_price': 35825000.0, 'ask_size': 0.25223103, 'bid_size': 0.11443174}, {'ask_price': 35829000.0, 'bid_price': 35823000.0, 'ask_size': 0.27903713, 'bid_size': 0.20056425}, {'ask_price': 35830000.0, 'bid_price': 35822000.0, 'ask_size': 0.09745782, 'bid_size': 0.41210926}, {'ask_price': 35832000.0, 'bid_price': 35821000.0, 'ask_size': 1.85566085, 'bid_size': 1.01655675}, {'ask_price': 35833000.0, 'bid_price': 35820000.0, 'ask_size': 0.05615329, 'bid_size': 1.17967754}, {'ask_price': 35842000.0, 'bid_price': 35819000.0, 'ask_size': 0.00907442, 'bid_size': 0.01238033}, {'ask_price': 35843000.0, 'bid_price': 35818000.0, 'ask_size': 0.19296178, 'bid_size': 0.02404821}, {'ask_price': 35844000.0, 'bid_price': 35817000.0, 'ask_size': 0.02617884, 'bid_size': 0.31897891}, {'ask_price': 35854000.0, 'bid_price': 35816000.0, 'ask_size': 0.005, 'bid_size': 0.27047287}, {'ask_price': 35858000.0, 'bid_price': 35815000.0, 'ask_size': 0.4, 'bid_size': 0.37525887}, {'ask_price': 35859000.0, 'bid_price': 35814000.0, 'ask_size': 0.344, 'bid_size': 0.04018016}, {'ask_price': 35860000.0, 'bid_price': 35813000.0, 'ask_size': 0.01816259, 'bid_size': 0.24765865}, {'ask_price': 35861000.0, 'bid_price': 35812000.0, 'ask_size': 0.00151174, 'bid_size': 0.21924656}, {'ask_price': 35862000.0, 'bid_price': 35811000.0, 'ask_size': 0.09297479, 'bid_size': 0.35744176}, {'ask_price': 35864000.0, 'bid_price': 35810000.0, 'ask_size': 0.13833635, 'bid_size': 0.59452979}]}\n"
     ]
    }
   ],
   "source": [
    "print(pyupbit.get_orderbook(ticker=\"KRW-BTC\"))"
   ]
  },
  {
   "cell_type": "raw",
   "id": "8582a1c0-f4ca-45e3-b747-b38d0f67c00a",
   "metadata": {
    "tags": []
   },
   "source": [
    "리스트 안에 딕셔너리로 호가정보가 들어있습니다.\n",
    "\n",
    "market : 암호화폐 티커\n",
    "timestamp : 조회시간 (단위 ms)\n",
    "orderbook_units : 매도호가/매수호가 정보\n",
    "[{'market': 'KRW-BTC', 'timestamp': 1532118943687, 'total_ask_size': 17.08116346, 'total_bid_size': 3.07150192, 'orderbook_units': [{'ask_price': 8390000.0, 'bid_price': 8389000.0, 'ask_size': 3.16057415, 'bid_size': 0.5515136}, {'ask_price': 8392000.0, 'bid_price': 8387000.0, 'ask_size': 0.71247596, 'bid_size': 0.95157819}, {'ask_price': 8393000.0, 'bid_price': 8386000.0, 'ask_size': 3.70536818, 'bid_size': 0.15824907}, {'ask_price': 8398000.0, 'bid_price': 8385000.0, 'ask_size': 0.00481809, 'bid_size': 0.00119147}, {'ask_price': 8399000.0, 'bid_price': 8383000.0, 'ask_size': 1.1228337, 'bid_size': 0.05}, {'ask_price': 8400000.0, 'bid_price': 8380000.0, 'ask_size': 0.48354827, 'bid_size': 0.00613734}, {'ask_price': 8401000.0, 'bid_price': 8375000.0, 'ask_size': 0.00433629, 'bid_size': 0.05}, {'ask_price': 8402000.0, 'bid_price': 8374000.0, 'ask_size': 2.7434153, 'bid_size': 0.32104953}, {'ask_price': 8420000.0, 'bid_price': 8373000.0, 'ask_size': 0.0028, 'bid_size': 0.5010063}, {'ask_price': 8428000.0, 'bid_price': 8370000.0, 'ask_size': 5.14099352, 'bid_size': 0.48077642}]}]\n",
    "ticker 파라미터에 리스트로 티커를 넣으면, 한 번에 여러 종목의 호가를 조회할 수 있습니다."
   ]
  },
  {
   "cell_type": "code",
   "execution_count": 26,
   "id": "1fc9eb8f-7f75-4177-af2d-dfacb86ec9c0",
   "metadata": {
    "tags": []
   },
   "outputs": [
    {
     "name": "stdout",
     "output_type": "stream",
     "text": [
      "[{'market': 'KRW-BTC', 'timestamp': 1684933582359, 'total_ask_size': 3.6846261600000005, 'total_bid_size': 5.335017030000001, 'orderbook_units': [{'ask_price': 35824000.0, 'bid_price': 35823000.0, 'ask_size': 0.08571836, 'bid_size': 0.10942129}, {'ask_price': 35826000.0, 'bid_price': 35822000.0, 'ask_size': 0.2488878, 'bid_size': 0.43520934}, {'ask_price': 35829000.0, 'bid_price': 35821000.0, 'ask_size': 0.27903713, 'bid_size': 1.01655675}, {'ask_price': 35830000.0, 'bid_price': 35820000.0, 'ask_size': 0.09745782, 'bid_size': 1.17967754}, {'ask_price': 35832000.0, 'bid_price': 35819000.0, 'ask_size': 1.85566085, 'bid_size': 0.01238033}, {'ask_price': 35833000.0, 'bid_price': 35818000.0, 'ask_size': 0.05754866, 'bid_size': 0.02404821}, {'ask_price': 35842000.0, 'bid_price': 35817000.0, 'ask_size': 0.00907442, 'bid_size': 0.31897891}, {'ask_price': 35843000.0, 'bid_price': 35816000.0, 'ask_size': 0.16341316, 'bid_size': 0.27047287}, {'ask_price': 35844000.0, 'bid_price': 35815000.0, 'ask_size': 0.02617884, 'bid_size': 0.37525887}, {'ask_price': 35854000.0, 'bid_price': 35814000.0, 'ask_size': 0.005, 'bid_size': 0.04018016}, {'ask_price': 35858000.0, 'bid_price': 35813000.0, 'ask_size': 0.4, 'bid_size': 0.24765865}, {'ask_price': 35859000.0, 'bid_price': 35812000.0, 'ask_size': 0.344, 'bid_size': 0.21924656}, {'ask_price': 35860000.0, 'bid_price': 35811000.0, 'ask_size': 0.01816259, 'bid_size': 0.35744176}, {'ask_price': 35861000.0, 'bid_price': 35810000.0, 'ask_size': 0.00151174, 'bid_size': 0.59452979}, {'ask_price': 35862000.0, 'bid_price': 35809000.0, 'ask_size': 0.09297479, 'bid_size': 0.133956}]}, {'market': 'KRW-XRP', 'timestamp': 1684933582469, 'total_ask_size': 7467272.85396844, 'total_bid_size': 12620609.044030888, 'orderbook_units': [{'ask_price': 610.0, 'bid_price': 609.0, 'ask_size': 376973.55681131, 'bid_size': 1122842.53651424}, {'ask_price': 611.0, 'bid_price': 608.0, 'ask_size': 723936.66878167, 'bid_size': 1264467.4056085}, {'ask_price': 612.0, 'bid_price': 607.0, 'ask_size': 506690.95335975, 'bid_size': 1263930.32964227}, {'ask_price': 613.0, 'bid_price': 606.0, 'ask_size': 291122.31528492, 'bid_size': 929097.16862692}, {'ask_price': 614.0, 'bid_price': 605.0, 'ask_size': 429715.60230272, 'bid_size': 717960.99149476}, {'ask_price': 615.0, 'bid_price': 604.0, 'ask_size': 499500.47166119, 'bid_size': 200282.12289525}, {'ask_price': 616.0, 'bid_price': 603.0, 'ask_size': 108472.36970856, 'bid_size': 548821.1990354}, {'ask_price': 617.0, 'bid_price': 602.0, 'ask_size': 373470.33371455, 'bid_size': 874451.46481137}, {'ask_price': 618.0, 'bid_price': 601.0, 'ask_size': 316834.29620874, 'bid_size': 1107854.39003206}, {'ask_price': 619.0, 'bid_price': 600.0, 'ask_size': 850276.0487013, 'bid_size': 2326857.70078312}, {'ask_price': 620.0, 'bid_price': 599.0, 'ask_size': 878530.92524273, 'bid_size': 369087.29260289}, {'ask_price': 621.0, 'bid_price': 598.0, 'ask_size': 487832.85935774, 'bid_size': 417241.33236814}, {'ask_price': 622.0, 'bid_price': 597.0, 'ask_size': 535224.56103936, 'bid_size': 251131.43922483}, {'ask_price': 623.0, 'bid_price': 596.0, 'ask_size': 745864.18455352, 'bid_size': 525395.25156532}, {'ask_price': 624.0, 'bid_price': 595.0, 'ask_size': 342827.70724038, 'bid_size': 701188.41882582}]}]\n"
     ]
    }
   ],
   "source": [
    "print(pyupbit.get_orderbook(ticker=[\"KRW-BTC\", \"KRW-XRP\"]))"
   ]
  },
  {
   "cell_type": "markdown",
   "id": "966f5321-09fd-4cc3-a159-a82659dc551f",
   "metadata": {},
   "source": [
    "## Exchange API\n",
    "\n",
    "주문은 초당 8회, 분당 200회 / 주문 외 요청은 초당 30회, 분당 900회 사용 가능합니다.\n",
    "\n",
    "### 로그인\n",
    "Access Key와 Sercret Key를 사용해서 Upbit 객체를 생성합니다. 이는 웹페이지에서 로그인하는 것과 같습니다."
   ]
  },
  {
   "cell_type": "code",
   "execution_count": 27,
   "id": "bcd33191-12c0-4aba-95cf-7fd9f5b70331",
   "metadata": {
    "tags": []
   },
   "outputs": [],
   "source": [
    "import pyupbit\n",
    "\n",
    "access = 'pvTGkFvv8VqlbfzvxPMA1RgufwstWayPRaevxYtZ'          # 본인 값으로 변경\n",
    "secret = 'HlLG74h6T4uJyOxGUlzZsjgJzLfMCwBFOzQeI7Cl'          # 본인 값으로 변경\n"
   ]
  },
  {
   "cell_type": "code",
   "execution_count": 28,
   "id": "54e427a4-54f5-4d3b-8c55-008b565ccd08",
   "metadata": {
    "tags": []
   },
   "outputs": [],
   "source": [
    "upbit = pyupbit.Upbit(access, secret)"
   ]
  },
  {
   "cell_type": "markdown",
   "id": "f7f99e03-9306-4a24-9b9b-df5ec63a689e",
   "metadata": {},
   "source": [
    "### 잔고 조회\n",
    "get_balance 메서드는 입력받은 티커의 보유 수량 정보를 조회합니다."
   ]
  },
  {
   "cell_type": "code",
   "execution_count": 29,
   "id": "e775bdc2-a1e9-440d-a0a1-51b001f452ba",
   "metadata": {
    "tags": []
   },
   "outputs": [
    {
     "name": "stdout",
     "output_type": "stream",
     "text": [
      "0\n",
      "1957632.74506138\n"
     ]
    }
   ],
   "source": [
    "print(upbit.get_balance(\"KRW-XRP\"))     # KRW-XRP 조회\n",
    "print(upbit.get_balance(\"KRW\"))         # 보유 현금 조회"
   ]
  },
  {
   "cell_type": "markdown",
   "id": "35c3008d-fc66-40ab-85a8-85afd4fbe51e",
   "metadata": {
    "tags": []
   },
   "source": [
    "get_balances 메서드는 보유 중인 모든 암호화폐의 잔고 및 단가 정보를 딕셔너리로 조회합니다."
   ]
  },
  {
   "cell_type": "code",
   "execution_count": 30,
   "id": "d7fbd63c-761c-420d-ae11-85e5482a8dda",
   "metadata": {
    "tags": []
   },
   "outputs": [
    {
     "name": "stdout",
     "output_type": "stream",
     "text": [
      "[{'currency': 'KRW', 'balance': '1957632.74506138', 'locked': '0', 'avg_buy_price': '0', 'avg_buy_price_modified': True, 'unit_currency': 'KRW'}]\n"
     ]
    }
   ],
   "source": [
    "print(upbit.get_balances())"
   ]
  },
  {
   "cell_type": "markdown",
   "id": "662be5cb-79e4-45b1-8e39-bb994c10a97f",
   "metadata": {},
   "source": [
    "### 지정가 매수/매도 주문\n",
    "지정한 가격에 주문을 요청합니다. 다음은 원화 시장에 리플을 600원에 20개 매도 합니다."
   ]
  },
  {
   "cell_type": "code",
   "execution_count": 31,
   "id": "e1ecbe80-2997-4f89-9509-609d645d559a",
   "metadata": {
    "tags": []
   },
   "outputs": [
    {
     "name": "stdout",
     "output_type": "stream",
     "text": [
      "InsufficientFundsAsk\n",
      "None\n"
     ]
    }
   ],
   "source": [
    "###  매도\n",
    "print(upbit.sell_limit_order(\"KRW-XRP\", 600, 20))"
   ]
  },
  {
   "cell_type": "markdown",
   "id": "04627e5b-c5e0-4cb6-8862-fe63171f5792",
   "metadata": {},
   "source": [
    "주문 정보가 딕셔너리로 반환됩니다. uuid는 주문에 대한 고윳값으로 이를 사용해 추후 주문을 취소하거나 정정할 수 있습니다."
   ]
  },
  {
   "cell_type": "markdown",
   "id": "043fc617-a7d5-4ba1-a2d8-d798ead4e409",
   "metadata": {},
   "source": [
    "다음은 원화 시장에 리플을 613원에 10개 매수 합니다."
   ]
  },
  {
   "cell_type": "code",
   "execution_count": null,
   "id": "32c8fa4b-1107-4521-b835-c1443b35a9ab",
   "metadata": {
    "tags": []
   },
   "outputs": [],
   "source": [
    "# 매수\n",
    "# print(upbit.buy_limit_order(\"KRW-XRP\", 613, 10))"
   ]
  },
  {
   "cell_type": "markdown",
   "id": "3016bba9-58cc-463b-908c-1b32400bf8fa",
   "metadata": {},
   "source": [
    "시장가 매수/매도 주문\n",
    "시장가 매수는 최우선 매도호가에 즉시 매수합니다. buy_market_order 메서드로 티커와 매수 금액만을 입력합니다. 매수 금액은 수수료를 제외한 금액입니다. 다음 예제에서 주문한 10000원은 수수료가 제외된 금액입니다. 수수료가 0.05%라면 수수료를 포함한 10005원의 현금을 보유하고 있어야 합니다."
   ]
  },
  {
   "cell_type": "code",
   "execution_count": null,
   "id": "897e35a8-9df5-456e-b6c8-6259901b5066",
   "metadata": {
    "tags": []
   },
   "outputs": [],
   "source": [
    "print(upbit.buy_market_order(\"KRW-XRP\", 10000))"
   ]
  },
  {
   "cell_type": "markdown",
   "id": "ca96f0ae-d49f-4048-b344-ad6467e7bedd",
   "metadata": {},
   "source": [
    "다음은 리플 30개를 시장가 매도합니다. 매도대금이 총 10000원이라면 수수료를 제외한 금액이 입금됩니다. 만약 수수료가 0.05%라면 9995원 받을 수 있습니다."
   ]
  },
  {
   "cell_type": "code",
   "execution_count": null,
   "id": "ed6fb625-6f00-487f-803e-46698b0204e6",
   "metadata": {
    "tags": []
   },
   "outputs": [],
   "source": [
    "print(upbit.sell_market_order(\"KRW-XRP\", 30))"
   ]
  },
  {
   "cell_type": "markdown",
   "id": "a29a2d7f-744a-49e6-9524-7d203efe0284",
   "metadata": {},
   "source": [
    "### 미체결 주문 조회\n",
    "get_order 메서드는 입력된 암호화폐의 미체결 주문을 조회합니다."
   ]
  },
  {
   "cell_type": "code",
   "execution_count": null,
   "id": "22b153a9-f1d8-47db-aab5-9ae0638edf96",
   "metadata": {
    "tags": []
   },
   "outputs": [],
   "source": [
    "upbit.get_order(\"KRW-LTC\")"
   ]
  },
  {
   "cell_type": "code",
   "execution_count": null,
   "id": "f417a343-dc7b-4f3e-adf2-1afef25a9bfd",
   "metadata": {
    "tags": []
   },
   "outputs": [],
   "source": [
    "미체결 주문이 있다면 리스트로 상세 내역을 반환합니다. 다음은 250000원에 매도(ask) 주문한 LTC이 1개(volume)있다는 의미입니다."
   ]
  },
  {
   "cell_type": "code",
   "execution_count": null,
   "id": "4f456d2e-dfcc-4056-8121-32a91ed65d35",
   "metadata": {
    "tags": []
   },
   "outputs": [],
   "source": [
    "[{'uuid': '50e184b3-9b4f-4bb0-9c03-30318e3ff10a',\n",
    "  'side': 'ask',\n",
    "  'ord_type': 'limit',\n",
    "  'price': '250000.0',\n",
    "  'state': 'wait',\n",
    "  'market': 'KRW-LTC',\n",
    "  'created_at': '2021-03-25T14:10:53+09:00',\n",
    "  'volume': '1.0',\n",
    "  'remaining_volume': '1.0',\n",
    "  'reserved_fee': '0.0',\n",
    "  'remaining_fee': '0.0',\n",
    "  'paid_fee': '0.0',\n",
    "  'locked': '1.0',\n",
    "  'executed_volume': '0.0',\n",
    "  'trades_count': 0}]\n",
    "state 파라미터를 사용하면 완료된 주문들을 조회할 수 있습니다."
   ]
  },
  {
   "cell_type": "code",
   "execution_count": null,
   "id": "574743aa-e5f5-42a2-9ec7-8ccc8cd8ced3",
   "metadata": {
    "tags": []
   },
   "outputs": [],
   "source": [
    "print(upbit.get_order(\"KRW-LTC\", state=\"done\"))"
   ]
  },
  {
   "cell_type": "raw",
   "id": "cd9f9561-6640-4d66-a737-d819e407e131",
   "metadata": {},
   "source": [
    "[{'uuid': '0694def7-5ada-405f-b0f3-053801d5b190',\n",
    "  'side': 'ask',\n",
    "  'ord_type': 'market',\n",
    "  'price': None,\n",
    "  'state': 'done',\n",
    "  'market': 'KRW-LTC',\n",
    "  'created_at': '2021-03-21T14:43:40+09:00',\n",
    "  'volume': '0.07336815',\n",
    "  'remaining_volume': '0.0',\n",
    "  'reserved_fee': '0.0',\n",
    "  'remaining_fee': '0.0',\n",
    "  'paid_fee': '8.39331636',\n",
    "  'locked': '0.0',\n",
    "  'executed_volume': '0.07336815',\n",
    "  'trades_count': 1},\n",
    " {'uuid': '48d6d451-3db5-4357-9d5a-bfb8f417c943',\n",
    "  'side': 'ask',\n",
    "  'ord_type': 'limit',\n",
    "  'price': '230000.0',\n",
    "  'state': 'done',\n",
    "  'market': 'KRW-LTC',\n",
    "  'created_at': '2021-03-17T01:06:55+09:00',\n",
    "  'volume': '0.5',\n",
    "  'remaining_volume': '0.0',\n",
    "  'reserved_fee': '0.0',\n",
    "  'remaining_fee': '0.0',\n",
    "  'paid_fee': '58.775',\n",
    "  'locked': '0.0',\n",
    "  'executed_volume': '0.5',\n",
    "  'trades_count': 2}]\n",
    "uuid를 사용해서 특정 주문을 상세 조회할 수 있습니다. uuid를 사용하면 다른 파라미터는 무시됩니다."
   ]
  },
  {
   "cell_type": "code",
   "execution_count": null,
   "id": "36425309-0642-4575-8467-c21be77b83ff",
   "metadata": {
    "tags": []
   },
   "outputs": [],
   "source": [
    "order = upbit.get_order('50e184b3-9b4f-4bb0-9c03-30318e3ff10a')\n",
    "print(order)"
   ]
  },
  {
   "cell_type": "raw",
   "id": "edfe2249-97a5-4fde-934e-c09a78193b72",
   "metadata": {},
   "source": [
    "결과를 참고하면 지정가 매도를 실행했으며 주문은 취소(cancel) 됐음을 알 수 있습니다\n",
    "\n",
    "{'uuid': '50e184b3-9b4f-4bb0-9c03-30318e3ff10a', 'side': 'ask', 'ord_type': 'limit', 'price': '250000.0', 'state': 'cancel', 'market': 'KRW-LTC', 'created_at': '2021-03-25T14:10:53+09:00', 'volume': '1.0', 'remaining_volume': '1.0', 'reserved_fee': '0.0', 'remaining_fee': '0.0', 'paid_fee': '0.0', 'locked': '1.0', 'executed_volume': '0.0', 'trades_count': 0, 'trades': []}"
   ]
  },
  {
   "cell_type": "markdown",
   "id": "bdd8c504-9cc6-49cd-bb78-6e36d6bff0e8",
   "metadata": {},
   "source": [
    "### 매수/매도 주문 취소\n",
    "주문 함수의 리턴 값 중 uuid 값을 사용해서 주문을 취소할 수 있습니다."
   ]
  },
  {
   "cell_type": "code",
   "execution_count": null,
   "id": "2ec96602-d4ad-474e-8fd2-c07d23f67251",
   "metadata": {
    "tags": []
   },
   "outputs": [],
   "source": [
    "print(upbit.cancel_order('50e184b3-9b4f-4bb0-9c03-30318e3ff10a'))"
   ]
  },
  {
   "cell_type": "markdown",
   "id": "fd321c15-8492-4664-bf07-7a0beaf4c28d",
   "metadata": {},
   "source": [
    "정상 처리됐다면 다음과 같이 딕셔너리가 반환됩니다.\n",
    "\n",
    "{'uuid': '50e184b3-9b4f-4bb0-9c03-30318e3ff10a', 'side': 'ask', 'ord_type': 'limit', 'price': '250000.0', 'state': 'wait', 'market': 'KRW-LTC', 'created_at': '2021-03-25T14:10:53+09:00', 'volume': '1.0', 'remaining_volume': '1.0', 'reserved_fee': '0.0', 'remaining_fee': '0.0', 'paid_fee': '0.0', 'locked': '1.0', 'executed_volume': '0.0', 'trades_count': 0}"
   ]
  },
  {
   "cell_type": "markdown",
   "id": "a3c90d18-b086-4ef0-a28a-96dcd1f220ce",
   "metadata": {},
   "source": [
    "### 웹소켓\n",
    "WebSocket을 이용해서 현재가, 호가, 체결에 대한 정보를 수신합니다.\n",
    "\n",
    "첫 번째 파라미터에는 수신정보를 입력하며 ticker, orderbook, transaction을 사용할 수 있습니다.\n",
    "두 번째 파라미터는 구독할 필터를 설정하며 암호화폐의 티커를 입력합니다. 현재 버전에서는 원화 시장만을 지원합니다."
   ]
  },
  {
   "cell_type": "code",
   "execution_count": null,
   "id": "e7f5d4bd-b7c4-4a2f-aa5a-2e2caa39c5dc",
   "metadata": {
    "tags": []
   },
   "outputs": [],
   "source": [
    "from pyupbit import WebSocketManager\n",
    "\n",
    "if __name__ == \"__main__\":\n",
    "    wm = WebSocketManager(\"ticker\", [\"KRW-BTC\"])\n",
    "    for i in range(10):\n",
    "        data = wm.get()\n",
    "        print(data)\n",
    "    wm.terminate()"
   ]
  },
  {
   "cell_type": "markdown",
   "id": "71807d87-c6ca-4976-bceb-38e0220e12e3",
   "metadata": {},
   "source": [
    "주의: 웹소켓의 multiprocessing을 위해 __name__ guard를 반드시 써줘야 합니다.\n",
    "\n",
    "PyQt5와 함께 웹소켓을 사용하는 예제는 다음 코드를 참고하세요.\n",
    "\n",
    "버튼을 클릭하면 웹소켓에서 가격정보를 가져와서 화면에 출력합니다.\n",
    "https://gist.github.com/mr-yoo/a3d1f8a4152f94cf61e4bc566659cd20\n",
    "WebSocketClient 클래스는 외부에서 프로세스 생성 및 큐를 전달하는 구조에서 사용합니다. WebSocketManager와 달리 사용자가 프로세스를 생성하고 사용할 큐를 입력해줘야 합니다."
   ]
  },
  {
   "cell_type": "code",
   "execution_count": null,
   "id": "96fb714a-918a-4f12-b96d-bb89583dde83",
   "metadata": {
    "tags": []
   },
   "outputs": [],
   "source": [
    "import multiprocessing as mp\n",
    "import pyupbit\n",
    "\n",
    "\n",
    "if __name__ == \"__main__\":\n",
    "    queue = mp.Queue()\n",
    "    proc = mp.Process(\n",
    "        target=pyupbit.WebSocketClient,\n",
    "        args=('ticker', [\"KRW-BTC\"], queue),\n",
    "        daemon=True\n",
    "    )\n",
    "    proc.start()\n",
    "\n",
    "    while True:\n",
    "        data = queue.get()"
   ]
  },
  {
   "cell_type": "code",
   "execution_count": null,
   "id": "346a3e70-ccad-437e-a808-fc7aa4aac8bc",
   "metadata": {
    "tags": []
   },
   "outputs": [],
   "source": [
    "upbit"
   ]
  },
  {
   "cell_type": "code",
   "execution_count": null,
   "id": "52aa5f85-a811-4303-95ef-e582fc0bb700",
   "metadata": {},
   "outputs": [],
   "source": []
  }
 ],
 "metadata": {
  "kernelspec": {
   "display_name": "test01",
   "language": "python",
   "name": "test01"
  },
  "language_info": {
   "codemirror_mode": {
    "name": "ipython",
    "version": 3
   },
   "file_extension": ".py",
   "mimetype": "text/x-python",
   "name": "python",
   "nbconvert_exporter": "python",
   "pygments_lexer": "ipython3",
   "version": "3.7.16"
  }
 },
 "nbformat": 4,
 "nbformat_minor": 5
}
